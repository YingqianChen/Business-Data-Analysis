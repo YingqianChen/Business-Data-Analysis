{
 "cells": [
  {
   "cell_type": "code",
   "execution_count": 1,
   "id": "2a4afcf1",
   "metadata": {},
   "outputs": [
    {
     "name": "stdout",
     "output_type": "stream",
     "text": [
      "<Response [200]>\n"
     ]
    }
   ],
   "source": [
    "import requests\n",
    "\n",
    "glxyres=requests.get(\"https://sm.xmu.edu.cn/info/1049/32764.htm\")\n",
    "glxyres.encoding=\"UTF8\"\n",
    "\n",
    "print(glxyres)\n"
   ]
  },
  {
   "cell_type": "code",
   "execution_count": 2,
   "id": "ad0b5bd3",
   "metadata": {},
   "outputs": [
    {
     "name": "stdout",
     "output_type": "stream",
     "text": [
      "招商银行几何平均收益率为：-0.30%\n"
     ]
    }
   ],
   "source": [
    "return_list = [0.0119, -0.0043, -0.004, -0.0084, -0.01] \n",
    "total = 1.0 \n",
    "for r in return_list:\n",
    "    total = total * (1 + r) \n",
    "    \n",
    "return_avg = total ** (1 / len(return_list)) - 1 \n",
    "print('招商银行几何平均收益率为：{:.2%}'.format(return_avg))\n"
   ]
  },
  {
   "cell_type": "code",
   "execution_count": 4,
   "id": "d217b467",
   "metadata": {},
   "outputs": [
    {
     "name": "stdout",
     "output_type": "stream",
     "text": [
      "<Response [200]>\n"
     ]
    }
   ],
   "source": [
    "import requests\n",
    "\n",
    "glxynewsurl=\"https://sm.xmu.edu.cn/info/1049/32744.htm\"\n",
    "glxyres=requests.get(glxynewsurl)\n",
    "\n",
    "#glxyres.encoding=\"UTF8\"\n",
    "\n",
    "print(glxyres)"
   ]
  },
  {
   "cell_type": "code",
   "execution_count": 2,
   "id": "baaba40c",
   "metadata": {
    "scrolled": false
   },
   "outputs": [
    {
     "name": "stdout",
     "output_type": "stream",
     "text": [
      "﻿<!DOCTYPE html>\r\n",
      "<html lang=\"zh\">\r\n",
      "    <head>\r\n",
      "        <meta charset=\"UTF-8\">\r\n",
      "        <meta name=\"viewport\" content=\"width=device-width, initial-scale=1.0\">\r\n",
      "        <meta http-equiv=\"X-UA-Compatible\" content=\"ie=edge\">\r\n",
      "        <link rel=\"stylesheet\" type=\"text/css\" href=\"../../resources/layui/css/layui_2022.css\" />\r\n",
      "        <link rel=\"stylesheet\" type=\"text/css\" href=\"../../resources/css/swiper-bundle.min_2022.css\" />\r\n",
      "        <link rel=\"stylesheet\" type=\"text/css\" href=\"../../resources/css/style_2022.css\" />\r\n",
      "        <link rel=\"stylesheet\" type=\"text/css\" href=\"../../resources/css/media.css\" />\r\n",
      "        <script src=\"../../resources/layui/layui_2022.js\" type=\"text/javascript\" charset=\"utf-8\"></script>\r\n",
      "        <script src=\"../../resources/js/swiper-bundle.min_2022.js\" type=\"text/javascript\" charset=\"utf-8\"></script>\r\n",
      "        <script src=\"../../resources/js/jquery-1.11.3.min_2022.js\" type=\"text/javascript\" charset=\"utf-8\"></script>\r\n",
      "        <script src=\"../../resources/js/common_2022.js\" type=\"text/javascript\" charset=\"utf-8\"></script>\r\n",
      "        <title>院长第一课： 牢记嘱托，奋楫扬帆，续写百年荣光-厦门大学管理学院-SCHOOL OF MANAGEMENT,XIAMEN UNIVERSITY</title><meta name=\"pageType\" content=\"3\">\r\n",
      "<meta name=\"pageTitle\" content=\"院长第一课： 牢记嘱托，奋楫扬帆，续写百年荣光\">\r\n",
      "<META Name=\"keywords\" Content=\"MBA,EMBA,EDP,MPAcc,ME,MTA,ICE,高层培训,总裁办,企业培训,中国MBA,工商管理,管理学院,商学院,China MBA,XiaMen MBA,MPAcc,金融,会计,硕士,管理,经济,管理学院,厦大,厦门管院,厦门大学,厦门大学管理学院,学院新闻,奋,嘱托,楫,扬帆,牢记,续写,课,荣光,院长\" />\r\n",
      "<META Name=\"description\" Content=\"2022年9月9日上午，厦门大学党委原常务副书记、管理学院院长李建发教授以“牢记嘱托，奋楫扬帆，续写百年荣光”为主题为2022级新生讲授“院长第一课”。全体2022级全日制本研新生参与讲座。本次讲座共分为“奋楫笃行百年路”和“意气风发向未来”两个部分。李建发首先带领新生了解厦大的百年历史沿革和文化积淀，介绍厦大的四种精神，历史名人、科技成果、学科发展等，全方位勾勒出厦大的基本面貌、精神文化内涵与学术影响。随...\" />\r\n",
      "\r\n",
      "    <!--Announced by Visual SiteBuilder 9-->\r\n",
      "<link rel=\"stylesheet\" type=\"text/css\" href=\"../../_sitegray/_sitegray_d.css\" />\r\n",
      "<script language=\"javascript\" src=\"../../_sitegray/_sitegray.js\"></script>\r\n",
      "<!-- CustomerNO:77656262657232307778475d50515742000100034e5c -->\r\n",
      "<link rel=\"stylesheet\" type=\"text/css\" href=\"../../2022_content.vsb.css\" />\r\n",
      "<script type=\"text/javascript\" src=\"/system/resource/js/vsbscreen.min.js\" id=\"_vsbscreen\" devices=\"pc|pad\"></script>\r\n",
      "<script type=\"text/javascript\" src=\"/system/resource/js/counter.js\"></script>\r\n",
      "<script type=\"text/javascript\">_jsq_(1049,'/2022_content.jsp',32744,1473072843)</script>\r\n",
      "</head>\r\n",
      "    <body class=\"c-s-bg\">\r\n",
      "            <div class=\"layui-fluid\">\r\n",
      "                <div class=\"c-header\">\r\n",
      "                    <div class=\"layui-container c-dis-flex\">\r\n",
      "                        <div class=\"c-logo\">\r\n",
      "                            \r\n",
      "<!-- 网站logo图片地址请在本组件\"内容配置-网站logo\"处填写 -->\r\n",
      "<a href=\"../../index.htm\" title=\"管理学院\"><img src=\"../../resources/css/images/logo.png\"></img></a>\r\n",
      "                        </div>\r\n",
      "                        <div class=\"c-menu\"><ul>\r\n",
      "<li><a href=\"../../xygk/xyjj.htm\">学院概况</a>\r\n",
      "        <div class=\"nav-child\">\r\n",
      "                <a href=\"../../xygk/xyjj.htm\"><span>学院简介</span></a>\r\n",
      "                <a href=\"../../xygk/yzjy.htm\"><span>院长寄语</span></a>\r\n",
      "                <a href=\"../../xygk/xyls.htm\"><span>学院历史</span></a>\r\n",
      "                <a href=\"../../xygk/yjysm.htm\"><span>愿景与使命</span></a>\r\n",
      "                <a href=\"../../xygk/xyld.htm\"><span>学院领导</span></a>\r\n",
      "                <a href=\"../../xygk/xszx.htm\"><span>系所中心</span></a>\r\n",
      "                <a href=\"../../xygk/znbm.htm\"><span>职能部门</span></a>\r\n",
      "                <a href=\"../../xygk/bszn.htm\"><span>办事指南</span></a>\r\n",
      "                <a href=\"../../xygk/lxwm.htm\"><span>联系我们</span></a>\r\n",
      "        </div>\r\n",
      "</li>\r\n",
      "<li><a href=\"../../xueyuanxx/djsz.htm\">党建思政</a>\r\n",
      "        <div class=\"nav-child\">\r\n",
      "                <a href=\"../../xueyuanxx/djsz/chuxin.htm\"><span>初心·使命</span></a>\r\n",
      "                <a href=\"../../xueyuanxx/djsz/dsxx.htm\"><span>党史学习</span></a>\r\n",
      "        </div>\r\n",
      "</li>\r\n",
      "<li><a href=\"https://smr.xmu.edu.cn/TeacherWeb/Teacher_Special_2022.aspx\">师资队伍</a>\r\n",
      "        <div class=\"nav-child\">\r\n",
      "                <a href=\"https://smr.xmu.edu.cn/TeacherWeb/Teacher_Special_2022.aspx\"><span>师资队伍</span></a>\r\n",
      "                <a href=\"../../szdw/gjfwxz.htm\"><span>国际访问学者</span></a>\r\n",
      "                <a href=\"https://smr.xmu.edu.cn\"><span>科研管理系统</span></a>\r\n",
      "        </div>\r\n",
      "</li>\r\n",
      "<li><a href=\"../../kxyj/kydt.htm\">科学研究</a>\r\n",
      "        <div class=\"nav-child\">\r\n",
      "                <a href=\"../../kxyj/kydt.htm\"><span>科研动态</span></a>\r\n",
      "                <a href=\"../../kxyj/xshd.htm\"><span>学术活动</span></a>\r\n",
      "                <a href=\"../../kxyj/yjzx.htm\"><span>研究中心</span></a>\r\n",
      "        </div>\r\n",
      "</li>\r\n",
      "<li><a href=\"../../gjjl/gjhgk/gjhgk.htm\">国际交流</a>\r\n",
      "        <div class=\"nav-child\">\r\n",
      "                <a href=\"../../gjjl/gjhgk.htm\"><span>国际化概况</span></a>\r\n",
      "                <a href=\"../../gjjl/gjrz.htm\"><span>国际认证</span></a>\r\n",
      "                <a href=\"../../gjjl/gjhdt.htm\"><span>国际化动态</span></a>\r\n",
      "                <a href=\"../../gjjl/xsjlxm.htm\"><span>学生交流项目</span></a>\r\n",
      "                <a href=\"../../gjjl/lhpy.htm\"><span>联合培养</span></a>\r\n",
      "                <a href=\"../../gjjl/gjxs.htm\"><span>国际学生</span></a>\r\n",
      "                <a href=\"../../gjjl/cg_j_zn.htm\"><span>出国(境)指南</span></a>\r\n",
      "                <a href=\"../../gjjl/lxwsb.htm\"><span>联系外事办</span></a>\r\n",
      "        </div>\r\n",
      "</li>\r\n",
      "<li><a href=\"http://smcareer.xmu.edu.cn/\">职业发展</a>\r\n",
      "</li>\r\n",
      "<li><a href=\"http://sm-alumni.xmu.edu.cn/\">校友联系</a>\r\n",
      "</li>\r\n",
      "</ul></div>\r\n",
      "                        <div class=\"c-header-right\">\r\n",
      "                            <a href=\"javascript:;\" class=\"navbar-toggler\">\r\n",
      "                                <i class=\"iconfont icon-liebiao\"></i>\r\n",
      "                            </a>\r\n",
      "                            <a href=\"javascript:;\" id=\"btn-search\">\r\n",
      "                                <i class=\"iconfont icon-sousuo\"></i>\r\n",
      "                            </a>\r\n",
      "                            <a href=\"https://sm.xmu.edu.cn/en/\">\r\n",
      "                                EN\r\n",
      "                            </a>\r\n",
      "                        </div>\r\n",
      "                        \r\n",
      "\r\n",
      "\r\n",
      "<script language=\"javascript\" src=\"/system/resource/js/base64.js\"></script><script language=\"javascript\" src=\"/system/resource/js/jquery/jquery-latest.min.js\"></script><script language=\"javascript\" src=\"/system/resource/vue/vue.js\"></script><script language=\"javascript\" src=\"/system/resource/vue/bluebird.min.js\"></script><script language=\"javascript\" src=\"/system/resource/vue/axios.js\"></script><script language=\"javascript\" src=\"/system/resource/vue/polyfill.js\"></script><script language=\"javascript\" src=\"/system/resource/vue/token.js\"></script><LINK href=\"/system/resource/vue/static/element/index.css\" type=\"text/css\" rel=\"stylesheet\"><script language=\"javascript\" src=\"/system/resource/vue/static/element/index.js\"></script><script language=\"javascript\" src=\"/system/resource/vue/static/public.js\"></script><style>\r\n",
      "    #appu2 .qwss{\r\n",
      "        height: 31px;\r\n",
      "        font-size: 12px;\r\n",
      "        min-width: 190px;\r\n",
      "        max-width: 600px;\r\n",
      "        width: 60%;\r\n",
      "        margin-top: -15px;\r\n",
      "        outline: none;\r\n",
      "        padding-left: 10px;\r\n",
      "        border-radius: 2px;\r\n",
      "        border: 1px solid #e4e7ed;}\r\n",
      "    #appu2 .tj{\r\n",
      "        padding-left: 6px;\r\n",
      "        letter-spacing: 5px;\r\n",
      "        color: white;\r\n",
      "        min-width: 53px;\r\n",
      "        max-width: 150px;\r\n",
      "        height: 32px;\r\n",
      "        border: 0;\r\n",
      "        border-radius: 2px;\r\n",
      "        background-color: #1890FF;\r\n",
      "        position: relative;\r\n",
      "        top: 1px;\r\n",
      "        width: 20%;\r\n",
      "        margin-top: -15px;}\r\n",
      "</style>\r\n",
      "<div id=\"divu2\"></div>\r\n",
      "<script type=\"text/html\" id=\"htmlu2\">\r\n",
      "    <div id=\"appu2\" class=\"search-box\">\r\n",
      "        <div v-if=\"!isError\" class=\"search\">\r\n",
      "            <input type=\"text\" placeholder=\"请输入关键字...\" autocomplete=off v-model=query.keyWord @keyup.enter=\"onSubmit\">\r\n",
      "            \r\n",
      "        </div>\r\n",
      "        <a href=\"javascript:;\" v-on:click=\"onSubmit()\"></a>\r\n",
      "        <a href=\"javascript:;\" id=\"btn-search-close\"><i class=\"iconfont icon-guanbi_o\"></i></a>\r\n",
      "        \r\n",
      "        <div v-if=\"isError\" style=\"color: #b30216; font-size:18px;text-align: center;padding:20px;\">\r\n",
      "            应用维护中！\r\n",
      "        </div>\r\n",
      "    </div>\r\n",
      "</script>\r\n",
      "<script>\r\n",
      "    $(\"#divu2\").html($(\"#htmlu2\").text());\r\n",
      "</script>\r\n",
      "<script>\r\n",
      "    var appOwner = \"1473072843\";\r\n",
      "    var token = gettoken(10);\r\n",
      "    var urlPrefix = \"/aop_component/\";\r\n",
      "\r\n",
      "    jQuery.support.cors = true;\r\n",
      "    $.ajaxSetup({\r\n",
      "        beforeSend: function (request, settings) {\r\n",
      "            request.setRequestHeader(\"Authorization\", token);\r\n",
      "            request.setRequestHeader(\"owner\", appOwner);\r\n",
      "        }\r\n",
      "    });\r\n",
      "\r\n",
      "    new Vue({\r\n",
      "        el: \"#appu2\",\r\n",
      "        data: function () {\r\n",
      "            return {\r\n",
      "                query: {\r\n",
      "                    keyWord: \"\",//搜索关键词\r\n",
      "                    owner: appOwner,\r\n",
      "                    token: token,\r\n",
      "                    urlPrefix: urlPrefix,\r\n",
      "                    lang:\"i18n_zh_CN\"\r\n",
      "                },\r\n",
      "                isError: false\r\n",
      "            }\r\n",
      "        },\r\n",
      "        mounted: function () {\r\n",
      "            var _this = this;\r\n",
      "            // _this.init();\r\n",
      "        },\r\n",
      "        methods: {\r\n",
      "            init: function(){\r\n",
      "                $.ajax({\r\n",
      "                    url: \"/aop_component//webber/search/test\",\r\n",
      "                    type: \"get\",\r\n",
      "                    success: function (response) {\r\n",
      "                        if (response.code == \"0000\") {\r\n",
      "                        } else if (response.code == \"220\") {\r\n",
      "                            _this.isError = true;\r\n",
      "                            console.log(response);\r\n",
      "                        } else if (!response.code) {\r\n",
      "                            _this.isError = true;\r\n",
      "                            console.log(response);\r\n",
      "                        }\r\n",
      "                    },\r\n",
      "                    error: function (response) {\r\n",
      "                        _this.isError = true;\r\n",
      "                    }\r\n",
      "                });\r\n",
      "            },\r\n",
      "            onSubmit: function (e) {\r\n",
      "                var url = \"/views/search/modules/resultpc/soso.html\";\r\n",
      "                if (\"10\" == \"1\" || \"10\" == \"2\") {\r\n",
      "                    url = \"https://cmsapp.xmu.edu.cn/\" + url;\r\n",
      "                }\r\n",
      "                var _this = this;\r\n",
      "                var query = _this.query;\r\n",
      "                if (url.indexOf(\"?\") > -1) {\r\n",
      "                    url = url.split(\"?\")[0];\r\n",
      "                }\r\n",
      "                if (query.keyWord) {\r\n",
      "                    var query = new Base64().encode(JSON.stringify(query));\r\n",
      "                    window.open(url + \"?query=\" + query);\r\n",
      "                } else {\r\n",
      "                    alert(\"请填写搜索内容\")\r\n",
      "                }\r\n",
      "            },\r\n",
      "        }\r\n",
      "    })\r\n",
      "</script>\r\n",
      "                    </div>\r\n",
      "                </div>\r\n",
      "            </div>\r\n",
      "            <!-- 内页banner -->\r\n",
      "            <div class=\"layui-fluid c-s-banner\">\r\n",
      "                <img src=\"../../resources/css/images/c-bg-img2.png\">\r\n",
      "            </div>\r\n",
      "            <!-- 内页banner end -->\r\n",
      "            <!-- 内容块 -->\r\n",
      "            <div class=\"c-ny-fluid\">\r\n",
      "                <div class=\"c-ny-body\">\r\n",
      "                        <div class=\"sideBar\">\r\n",
      "                            <div class=\"sideBar-head\">\r\n",
      "\r\n",
      "\r\n",
      "\r\n",
      "学院信息</div>\r\n",
      "                            <div class=\"sideBar-body\">\r\n",
      "<ul class=\"side_nav\">\r\n",
      "<input id=\"M_id\" type=\"hidden\" value=\"nav_12\">\r\n",
      "<input id=\"PM_id\" type=\"hidden\" value=\"nav_172\">\r\n",
      "<li id=\"nav_\" class=\" active\"><a href=\"../../xueyuanxx/xyxw.htm\"><span>学院新闻</span></a>\r\n",
      "</li>                                  \r\n",
      "<li id=\"nav_\"><a href=\"../../xueyuanxx/zsxx.htm\"><span>招生信息</span></a>\r\n",
      "</li>                                  \r\n",
      "<li id=\"nav_\"><a href=\"../../xueyuanxx/jwxx.htm\"><span>教务信息</span></a>\r\n",
      "</li>                                  \r\n",
      "<li id=\"nav_\"><a href=\"../../xueyuanxx/jwjl.htm\"><span>境外交流</span></a>\r\n",
      "</li>                                  \r\n",
      "<li id=\"nav_\"><a href=\"../../xueyuanxx/djsz.htm\"><span>党建思政</span><span class=\"iconfont icon-right\"></span></a>\r\n",
      "        <div class=\"side-child\">\r\n",
      "            \r\n",
      "                <a href=\"../../xueyuanxx/djsz/chuxin.htm\" id=\"nav_\"><span>初心·使命</span></a>\r\n",
      "                <a href=\"../../xueyuanxx/djsz/dsxx.htm\" id=\"nav_\"><span>党史学习</span></a>\r\n",
      "           \r\n",
      "        </div>\r\n",
      "</li>                                  \r\n",
      "<li id=\"nav_\"><a href=\"../../xueyuanxx/rsxx.htm\"><span>人事信息</span></a>\r\n",
      "</li>                                  \r\n",
      "<li id=\"nav_\"><a href=\"../../xueyuanxx/gzzd.htm\"><span>规章制度</span></a>\r\n",
      "</li>                                  \r\n",
      "<li id=\"nav_\"><a href=\"../../xueyuanxx/xyyx.htm\"><span>学院影像</span></a>\r\n",
      "</li>                                  \r\n",
      "<li id=\"nav_\"><a href=\"../../xueyuanxx/wjxz.htm\"><span>文件下载</span></a>\r\n",
      "</li>                                  \r\n",
      "</ul>\r\n",
      "</div>\r\n",
      "\r\n",
      "<script type=\"text/javascript\">\r\n",
      "                            $(function(){\r\n",
      "                                \r\n",
      "                                setCurrent();\r\n",
      "                                \r\n",
      "                            })\r\n",
      "                            function setCurrent(){\r\n",
      "                                var li_menuid = \"li#\" +$(\"#M_id\").val();\r\n",
      "                                var a_menuid = \"a#\" +$(\"#M_id\").val();\r\n",
      "                            \r\n",
      "                                var li_parMenuid = \"li#\" + $(\"#PM_id\").val();\r\n",
      "                                var a_parMenuid = \"a#\" + $(\"#PM_id\").val();\r\n",
      "                            \r\n",
      "                                //当前菜单没有子菜单\r\n",
      "                                if (!jQuery.isEmptyObject($(li_menuid))&&$(li_menuid).length > 0){\r\n",
      "                                    $(li_menuid).addClass(\"active\");\r\n",
      "                                }\r\n",
      "                            \r\n",
      "                                //当前菜单有子菜单\r\n",
      "                                if (!jQuery.isEmptyObject($(li_parMenuid))&&$(li_parMenuid).length > 0){\r\n",
      "                                    $(li_parMenuid).addClass(\"active\");\r\n",
      "                                    $(a_menuid).css(\"color\",\"#B50729\");\r\n",
      "                                }\r\n",
      "                            \r\n",
      "                                if (!jQuery.isEmptyObject($(a_parMenuid))&&$(a_parMenuid).length > 0){\r\n",
      "                                    $(a_parMenuid).css(\"color\",\"#B50729\");\r\n",
      "                                    $(a_parMenuid).closest(\"li\").addClass(\"active\");\r\n",
      "                                }\r\n",
      "                            }\r\n",
      "                    \r\n",
      "                        </script>\r\n",
      "                        <style>\r\n",
      "                        .side-child a.on{color:#013d87;}\r\n",
      "                        .side-child p.on{display:block;}\r\n",
      "                        \r\n",
      "                        </style>\r\n",
      "                        </div>\r\n",
      "                        <div class=\"c-ny-main\">\r\n",
      "                            <div class=\"c-page-head c-dis-flex\">\r\n",
      "                                <div class=\"c-page-title\">\r\n",
      "                                    <span class=\"c-line\">\r\n",
      "\r\n",
      "\r\n",
      "\r\n",
      "学院新闻</span>\r\n",
      "                                </div>\r\n",
      "                                <div class=\"c-page-breadcrumb\"><div class=\"c-page-breadcrumb\">\r\n",
      "        <a href=\"../../index.htm\">首页</a>&nbsp;/&nbsp;\r\n",
      "        <a href=\"../../xueyuanxx.htm\">学院信息</a>&nbsp;/&nbsp;\r\n",
      "        <a href=\"../../xueyuanxx/xyxw.htm\">学院新闻</a>&nbsp;/&nbsp;\r\n",
      "        正文\r\n",
      "</div></div>\r\n",
      "                            </div>\r\n",
      "                            <div class=\"aaa\">\r\n",
      "                                <div class=\"layui-row c-padding-top80\">\r\n",
      "                                    <div class=\"layui-col-xs12 layui-col-sm12 layui-col-md12\">\r\n",
      "\r\n",
      "<script language=\"javascript\" src=\"/system/resource/js/dynclicks.js\"></script><script language=\"javascript\" src=\"../../_dwr/interface/NewsvoteDWR.js\"></script><script language=\"javascript\" src=\"../../_dwr/engine.js\"></script><script language=\"javascript\" src=\"/system/resource/js/news/newscontent.js\"></script><LINK href=\"/system/resource/js/photoswipe/3.0.5.1/photoswipe.css\" type=\"text/css\" rel=\"stylesheet\"><script language=\"javascript\" src=\"/system/resource/js/photoswipe/3.0.5.1/pw.js\"></script><script language=\"javascript\" src=\"/system/resource/js/ajax.js\"></script><form name=\"_newscontent_fromname\">\r\n",
      "\r\n",
      "\r\n",
      "                                    <h2 class=\"h1 c-text-center\">院长第一课： 牢记嘱托，奋楫扬帆，续写百年荣光</h2>\r\n",
      "                                    <div class=\"c-date-time c-text-center c-padding40 opacity60\">\r\n",
      "                                        <span>编辑者：曹惠真  |   发布时间：2022-09-13</span>\r\n",
      "                                    </div>\r\n",
      "                                    <div class=\"c-con\">\r\n",
      "                                        <div id=\"vsb_content\"><div class=\"v_news_content\">\r\n",
      "<p style=\"text-align:justify;text-justify:inter-ideograph;text-indent:32px;line-height:150%\"><span lang=\"EN-US\" style=\"font-family:'微软雅黑',sans-serif\">2022</span><span style=\"font-family:'微软雅黑',sans-serif\">年<span lang=\"EN-US\">9</span>月<span lang=\"EN-US\">9</span>日上午，厦门大学党委原常务副书记、管理学院院长李建发教授以“牢记嘱托，奋楫扬帆，续写百年荣光”为主题为<span lang=\"EN-US\">2022</span>级新生讲授“院长第一课”。全体<span lang=\"EN-US\">2022</span>级全日制本研新生参与讲座。</span></p><p style=\"text-align:center;text-indent:32px;line-height:150%\"><span style=\"font-family: '微软雅黑',sans-serif\"></span></p><p style=\"text-align: center\"><img src=\"/__local/5/0E/3B/709779CACC946257D097A71738B_6CD10A3A_4527E.jpg\" width=\"500\" vsbhref=\"vurl\" vurl=\"/_vsl/50E3B709779CACC946257D097A71738B/6CD10A3A/4527E\" vheight=\"\" vwidth=\"500\" orisrc=\"/__local/8/E8/87/2F5C9DECC096486AAA941A59687_EC73DC17_D46B9.jpg\" class=\"img_vsb_content\"></p><p style=\"text-align:justify;text-justify:inter-ideograph;text-indent:32px;line-height:150%\"><span style=\"font-family:'微软雅黑',sans-serif\">本次讲座共分为“奋楫笃行百年路”和“意气风发向未来”两个部分。李建发首先带领新生了解厦大的百年历史沿革和文化积淀，介绍厦大的四种精神，历史名人、科技成果、学科发展等，全方位勾勒出厦大的基本面貌、精神文化内涵与学术影响。随后将厦大的选址、建筑、校训、校徽、校歌以及“四种精神”的深刻内涵娓娓道来。他提到，凭借雄厚的师资力量、强劲的学术科研，我校培养了一大批顶尖学者和优秀人才，是国内一流、国际影响广泛的重点综合性大学。紧接着，他也阐述了工商管理学科悠久的历史、学院愿景与使命，并强调管理学院将继续坚持党建引领发展、坚持立德树人和三全育人、扎实推进学科建设、坚持培养一流商科人才。</span></p><p style=\"text-align:center;text-indent:32px;line-height:150%\"><span style=\"font-family: '微软雅黑',sans-serif\"></span></p><p style=\"text-align: center\"><img src=\"/__local/3/4B/B5/FB96B96B8E3F43D48C1A5D36F56_6D357CA9_589CF.jpg\" width=\"500\" vsbhref=\"vurl\" vurl=\"/_vsl/34BB5FB96B96B8E3F43D48C1A5D36F56/6D357CA9/589CF\" vheight=\"\" vwidth=\"500\" orisrc=\"/__local/E/E8/44/973F9E53BC29CB3E473D4425894_56B0A1AB_1E2168.jpg\" class=\"img_vsb_content\"></p><p style=\"text-align:justify;text-justify:inter-ideograph;text-indent:32px;line-height:150%\"><span style=\"font-family:'微软雅黑',sans-serif\"></span></p><p style=\"text-align: center\"><img src=\"/__local/6/67/BB/F39B2BBBD8A71E8AD67A82959BD_C234E5A4_6D898.jpg\" width=\"500\" vsbhref=\"vurl\" vurl=\"/_vsl/667BBF39B2BBBD8A71E8AD67A82959BD/C234E5A4/6D898\" vheight=\"\" vwidth=\"500\" orisrc=\"/__local/5/51/45/2C6BE9075D12323EF0EACBDA0F2_042B031E_F646B.jpg\" class=\"img_vsb_content\"></p><p style=\"text-align:justify;text-justify:inter-ideograph;text-indent:32px;line-height:150%\"><span style=\"font-family:'微软雅黑',sans-serif\">之后，李建发希望同学们认真学习习近平总书记致厦门大学建校<span lang=\"EN-US\">100</span>周年的贺信精神和习近平总书记在庆祝中国共产主义青年团成立<span lang=\"EN-US\">100</span>周年大会上发表的重要讲话精神，坚定理想信念，明确奋斗方向，传承优良校风，志存高远、胸怀天下、大展宏图，在青春的赛道上跑出当代青年的最好成绩。立足两个“一百年”奋斗目标，他分析解读了厦门大学创建世界一流大学的“三步走”战略，希望同学们树立明确目标，立志报效祖国，勇于开拓创新，不负青春、不负韶华、不负时代，为实现中华民族伟大复兴贡献力量。结合厦门市和学校的疫情防控要求，他叮嘱<span lang=\"EN-US\">2022</span>级新生严格遵守各项纪律准则，在厦大快乐学习、健康生活。</span></p><p style=\"text-align:center;text-indent:32px;line-height:150%\"><span style=\"font-family: '微软雅黑',sans-serif\"></span></p><p style=\"text-align: center\"><img src=\"/__local/F/CC/59/AA312324AA4B94946D5E005C6CA_D54C721C_26229.jpg\" width=\"500\" vsbhref=\"vurl\" vurl=\"/_vsl/FCC59AA312324AA4B94946D5E005C6CA/D54C721C/26229\" vheight=\"\" vwidth=\"500\" orisrc=\"/__local/9/7F/5F/23AD5B370C0FF495B8D6572D15E_479A0962_9C8000.jpg\" class=\"img_vsb_content\"></p><p style=\"text-align: center\"><img src=\"/__local/3/56/9F/9FDF735A653C54E970511D9FBC6_8C7163AF_3071B.jpg\" width=\"500\" vsbhref=\"vurl\" vurl=\"/_vsl/3569F9FDF735A653C54E970511D9FBC6/8C7163AF/3071B\" vheight=\"\" vwidth=\"500\" orisrc=\"/__local/8/FF/BA/164AC623A0C024C91BF7B136944_90651A63_47DB3.jpg\" class=\"img_vsb_content\"></p><p style=\"text-align:justify;text-justify:inter-ideograph;text-indent:32px;line-height:150%\"><span style=\"font-family:'微软雅黑',sans-serif\">“院长第一课”的讲座内容深刻有力、内涵丰富，新生同学们认真听讲、颇受启发。新生同学们对于未来的大学生活因此增添了憧憬和动力。<span lang=\"EN-US\">2022</span>级研究生新生杜凯龙说道：“今天，我上了成为厦大人后的第一堂课，深刻了解到厦大商科的历史文化和作为厦大人的初心与使命，这让我深感使命在肩，责任重大。作为青年一代我们将继续努力，砥砺前行。”至此，“院长第一课”在同学们热烈的掌声中圆满结束。</span></p><p style=\"text-align:justify;text-justify:inter-ideograph;text-indent:28px;line-height:150%\"><br></p><p style=\"text-align:right;text-indent:28px;line-height:150%\"><span style=\"font-family:'微软雅黑',sans-serif\">图<span lang=\"EN-US\">/</span>学生宣传中心采编部</span></p><p style=\"text-align:right;text-indent:28px;line-height:150%\"><span style=\"font-family:'微软雅黑',sans-serif\">文<span lang=\"EN-US\">/</span>钟海晴、曹惠真</span></p><p><br></p>\r\n",
      "</div></div>\r\n",
      "\r\n",
      "                                    </div>\r\n",
      "                                \r\n",
      "\r\n",
      "\r\n",
      "\r\n",
      "\r\n",
      "\r\n",
      "</form>\r\n",
      "</div>\r\n",
      "                                </div>\r\n",
      "                            </div>\r\n",
      "                        </div>\r\n",
      "                </div>\r\n",
      "            </div>\r\n",
      "            <!-- 内容块 end -->\r\n",
      "            <!-- footer -->\r\n",
      "            <div class=\"layui-fluid f_bg\">\r\n",
      "                <div class=\"layui-container\">\r\n",
      "                    <div class=\"foot-mian c-padding-top60 c-padding-bottom60\">\r\n",
      "                        <div class=\"foot-box aos-init\" aos=\"fade-down-right\"><script language=\"javascript\" src=\"/system/resource/js/openlink.js\"></script><div class=\"foot-header\">\r\n",
      "    联系我们\r\n",
      "</div>\r\n",
      "<div class=\"foot-body\">\r\n",
      "<div class=\"foot-body-box\">                 \r\n",
      "        <a href=\"#\">地 址：福建省厦门市厦门大学保欣丽英楼</a>                              \r\n",
      "    <a href=\"#\">邮 编：361005</a>                              \r\n",
      "    <a href=\"#\">邮 箱：smxmu@xmu.edu.cn</a>                              \r\n",
      "</div>\r\n",
      "</div></div>\r\n",
      "                        <div class=\"foot-box aos-init\" aos=\"fade-up\">\r\n",
      "                            <div class=\"foot-header\">\r\n",
      "                                学校链接\r\n",
      "                            </div>\r\n",
      "                            <div class=\"foot-body\">\r\n",
      "                                <div class=\"foot-body-box\"><a href=\"https://www.xmu.edu.cn/\" target=\"_blank\">厦门大学</a>\r\n",
      "                                    \r\n",
      "<a href=\"http://ifas.xmu.edu.cn/cms/Index.aspx\" target=\"_blank\">财务管理与会计研究院</a>\r\n",
      "                                    \r\n",
      "<a href=\"http://library.xmu.edu.cn/\" target=\"_blank\">厦门大学图书馆</a>\r\n",
      "                                    \r\n",
      "<a href=\"http://office.xmu.edu.cn/\" target=\"_blank\">厦门大学办公室</a>\r\n",
      "                                    \r\n",
      "<a href=\"http://std.xmu.edu.cn/\" target=\"_blank\">厦门大学科学技术处</a>\r\n",
      "                                    \r\n",
      "</div>\r\n",
      "                                <div class=\"foot-body-box\"><a href=\"http://skc.xmu.edu.cn/\" target=\"_blank\">厦门大学社会科学研究处</a>\r\n",
      "<a href=\"http://zsb.xmu.edu.cn/\" target=\"_blank\">厦门大学招生办公室</a>\r\n",
      "<a href=\"http://gs.xmu.edu.cn/\" target=\"_blank\">厦门大学研究生院</a>\r\n",
      "<a href=\"http://jwc.xmu.edu.cn/\" target=\"_blank\">厦门大学教务处</a>\r\n",
      "<a href=\"http://rsc.xmu.edu.cn/\" target=\"_blank\">厦门大学人事处</a>\r\n",
      "</div>\r\n",
      "                            </div>\r\n",
      "                        </div>\r\n",
      "                        <div class=\"foot-box aos-init\" aos=\"fade-down-left\">\r\n",
      "                            <div class=\"foot-header\">\r\n",
      "                                友情链接\r\n",
      "                            </div>\r\n",
      "                            <div class=\"foot-body\">\r\n",
      "                                <div class=\"foot-body-box\"><a href=\"http://www.moe.gov.cn/\" target=\"_blank\"><span>中华人民共和国教育部</span></a>    \r\n",
      "                                    \r\n",
      "<a href=\"http://www.mof.gov.cn/index.htm\" target=\"_blank\"><span>中华人民共和国财政部</span></a>    \r\n",
      "                                    \r\n",
      "<a href=\"http://www.nopss.gov.cn/\" target=\"_blank\"><span>全国哲学社会科学工作办公室</span></a>    \r\n",
      "                                    \r\n",
      "</div>\r\n",
      "                                <div class=\"foot-body-box\"></div>\r\n",
      "                            </div>\r\n",
      "                        </div>\r\n",
      "                    </div>\r\n",
      "                </div>\r\n",
      "            </div>\r\n",
      "            <div class=\"layui-fluid c-bg-blue\">\r\n",
      "                <div class=\"layui-container f-copyright\">\r\n",
      "                    <div class=\"layui-row\">\r\n",
      "                        <div class=\"layui-col-xs12 layui-col-sm12 layui-col-md12 layui-col-lg6\">\r\n",
      "                            <div class=\"f-copyright-left\">\r\n",
      "                                <img src=\"../../resources/css/images/f_icon01.png\">\r\n",
      "                                <img src=\"../../resources/css/images/f_icon02.png\">\r\n",
      "                                <img src=\"../../resources/css/images/f_icon03.png\">\r\n",
      "                            </div>\r\n",
      "                        </div>\r\n",
      "                        <div class=\"layui-col-xs12 layui-col-sm12 layui-col-md12 layui-col-lg6\">\r\n",
      "                            <div class=\"f-copyright-right\">\r\n",
      "                                <span class=\"f-text\">CopyRight ©2022 厦门大学管理学院 版权所有</span>\r\n",
      "                                <span class=\"f-text\">技术支持：IT支持部</span>\r\n",
      "                                <span class=\"f-icon\">\r\n",
      "                                    <i class=\"iconfont icon-weixin\"></i>\r\n",
      "                                    <div class=\"f-icon-img\" style=\"display:none;\">\r\n",
      "                                        <img src=\"../../resources/css/images/f-icon-img.png\">\r\n",
      "                                    </div>\r\n",
      "                                </span>\r\n",
      "                            </div>\r\n",
      "                        </div>\r\n",
      "                    </div>\r\n",
      "                </div>\r\n",
      "            </div>\r\n",
      "            <!-- footer end -->\r\n",
      "    </body>\r\n",
      "</html>\r\n",
      "\n"
     ]
    }
   ],
   "source": [
    "import requests\n",
    "\n",
    "glxynewsurl=\"https://sm.xmu.edu.cn/info/1049/32744.htm\"\n",
    "glxyres=requests.get(glxynewsurl)\n",
    "\n",
    "glxyres.encoding=\"UTF8\"\n",
    "\n",
    "print(glxyres.text)"
   ]
  },
  {
   "cell_type": "code",
   "execution_count": 5,
   "id": "30d72b78",
   "metadata": {},
   "outputs": [
    {
     "name": "stdout",
     "output_type": "stream",
     "text": [
      "[<title>入学教育|管理学院、财会院举行四史教育暨新生安全教育、网络媒介素养教育培训-厦门大学管理学院-SCHOOL OF MANAGEMENT,XIAMEN UNIVERSITY</title>]\n"
     ]
    }
   ],
   "source": [
    "from bs4 import BeautifulSoup\n",
    "\n",
    "soup11=BeautifulSoup(glxyres.text,'html.parser')\n",
    "print(soup11.select('title'))\n"
   ]
  },
  {
   "cell_type": "code",
   "execution_count": 6,
   "id": "00d37cb1",
   "metadata": {},
   "outputs": [
    {
     "name": "stdout",
     "output_type": "stream",
     "text": [
      "9月9日，管理学院、财务管理与会计研究院在建南大会堂举办2022级新生入学教育系列讲座，本次新生入学教育由四史教育、新生安全教育、网络媒介素养教育三部分组成。校党委宣传部副部长洪春生、管理学院党委副书记戴蓥、管理学院潘维廉教授作为主讲嘉宾出席活动，管理学院、财会院800余名2022级新生参与活动。\n",
      "\n",
      "\n",
      "\n",
      "在四史教育专题讲座正式开始前，主持人、管理学院团委副书记揭上锋播放了潘维廉的视频简介，让全体新生直观地了解潘维廉的中国故事。讲座中，潘维廉以一个外国友人的视角讲述了他在中国三十多年的亲身经历，展现了中国改革开放以来的巨大变化，表达了对中国未来的美好祝愿。精彩纷呈的内容、幽默诙谐的语言、生动活泼的讲述，引得全场掌声连连。在紧接着的互动提问环节，潘威廉就当代青年如何讲好中国故事提出了若干明晰的指引，希望同学们深刻理解中国文化的“根”，用心传播中国故事，实现中国梦、世界梦。\n",
      "\n",
      "\n",
      "随后，洪春生带来网络媒介素养教育专题培训，以热点事件和丰富数据作为话题支撑，详细介绍网络的内涵，阐述大学生应当如何看待和利用网络。随着信息传播速度的加快，提醒同学们更应当清醒认识网络谣言、盲目从众等不理智行为带来的危害，恪守底线、心存敬畏，提高自身网络素养，争做有素质的好网民。\n",
      "\n",
      "\n",
      "在新生安全教育培训讲座中，戴蓥通过真实案例讲解、数据归纳统计等方式，细致讲解了包括谨防诈骗、消防安全、治安安全、校门管理、交通安全、宗教法规与政策、国家安全、禁毒安全、警惕校园贷、防范溺水十大方面的安全注意事项。用语重心长的语气为大家敲响警钟，极大地增强了同学们的安全意识。\n",
      "文｜叶舒怡、曹惠真\n",
      "图｜叶舒怡、陈思妤\n",
      "\n"
     ]
    }
   ],
   "source": [
    "datainfolist=soup11.select('p')\n",
    "for datainfo in datainfolist:\n",
    "    print(datainfo.text)\n"
   ]
  },
  {
   "cell_type": "code",
   "execution_count": 9,
   "id": "32a20d91",
   "metadata": {},
   "outputs": [
    {
     "name": "stdout",
     "output_type": "stream",
     "text": [
      "[<p style=\"text-indent:32px;line-height:150%\"><span lang=\"EN-US\" style=\"font-size:16px;line-height:150%;font-family:'微软雅黑',sans-serif\">9</span><span style=\"font-size:16px;line-height:150%;font-family:'微软雅黑',sans-serif\">月<span lang=\"EN-US\">9</span>日，管理学院、财务管理与会计研究院在建南大会堂举办<span lang=\"EN-US\">2022</span>级新生入学教育系列讲座，本次新生入学教育由四史教育、新生安全教育、网络媒介素养教育三部分组成。校党委宣传部副部长洪春生、管理学院党委副书记戴蓥、管理学院潘维廉教授作为主讲嘉宾出席活动，管理学院、财会院<span lang=\"EN-US\">800</span>余名<span lang=\"EN-US\">2022</span>级新生参与活动。</span></p>, <p style=\"text-indent:32px;line-height:150%\"><span style=\"font-size:16px;line-height:150%;font-family:'微软雅黑',sans-serif\"></span></p>, <p style=\"text-align: center\"><img class=\"img_vsb_content\" orisrc=\"/__local/A/B6/09/7F6E50492D26A8DBEAFA2B9831D_30E88373_1003937.jpg\" src=\"/__local/4/AE/7C/9529895AC3D131F2B9D723E28F7_2B39029F_5EBE0.jpg\" vheight=\"\" vsbhref=\"vurl\" vurl=\"/_vsl/4AE7C9529895AC3D131F2B9D723E28F7/2B39029F/5EBE0\" vwidth=\"500\" width=\"500\"/></p>, <p style=\"text-align: center\"><img class=\"img_vsb_content\" orisrc=\"/__local/3/0E/B2/01C6F8911B8765D0992F265533E_D5FA01D9_8A3193.jpg\" src=\"/__local/5/79/77/4F51F509D397AD9FE8DA8C5CF1F_EEDD7611_4B35C.jpg\" vheight=\"\" vsbhref=\"vurl\" vurl=\"/_vsl/579774F51F509D397AD9FE8DA8C5CF1F/EEDD7611/4B35C\" vwidth=\"500\" width=\"500\"/></p>, <p style=\"text-indent:32px;line-height:150%\"><span style=\"font-size:16px;line-height:150%;font-family: '微软雅黑',sans-serif\">在四史教育专题讲座正式开始前，主持人、管理学院团委副书记揭上锋播放了潘维廉的视频简介，让全体新生直观地了解潘维廉的中国故事。讲座中，潘维廉以一个外国友人的视角讲述了他在中国三十多年的亲身经历，展现了中国改革开放以来的巨大变化，表达了对中国未来的美好祝愿。精彩纷呈的内容、幽默诙谐的语言、生动活泼的讲述，引得全场掌声连连。在紧接着的互动提问环节，潘威廉就当代青年如何讲好中国故事提出了若干明晰的指引，希望同学们深刻理解中国文化的“根”，用心传播中国故事，实现中国梦、世界梦。</span></p>, <p style=\"text-indent:32px;line-height:150%\"><span style=\"font-size:16px;line-height:150%;font-family: '微软雅黑',sans-serif\"></span></p>, <p style=\"text-align: center\"><img class=\"img_vsb_content\" orisrc=\"/__local/6/D0/CD/9DC286CA1E63CEE1BAD0BE58415_61A269A5_75E2B2.jpg\" src=\"/__local/F/29/A0/AE8E11B4D77878F05455F9634FC_98435961_366D2.jpg\" vheight=\"\" vsbhref=\"vurl\" vurl=\"/_vsl/F29A0AE8E11B4D77878F05455F9634FC/98435961/366D2\" vwidth=\"500\" width=\"500\"/></p>, <p style=\"text-indent:32px;line-height:150%\"><span style=\"font-size:16px;line-height:150%;font-family: '微软雅黑',sans-serif\">随后，洪春生带来网络媒介素养教育专题培训，以热点事件和丰富数据作为话题支撑，详细介绍网络的内涵，阐述大学生应当如何看待和利用网络。随着信息传播速度的加快，提醒同学们更应当清醒认识网络谣言、盲目从众等不理智行为带来的危害，恪守底线、心存敬畏，提高自身网络素养，争做有素质的好网民。</span></p>, <p style=\"text-indent:32px;line-height:150%\"><span style=\"font-size:16px;line-height:150%;font-family: '微软雅黑',sans-serif\"></span></p>, <p style=\"text-align: center\"><img class=\"img_vsb_content\" orisrc=\"/__local/7/E6/36/A95FCDE93CF97F82BC2E21BC070_83B153B8_470C74.jpg\" src=\"/__local/F/6C/4E/8523C2AF10E72471999AEDD0057_0A64F30B_58307.jpg\" vheight=\"\" vsbhref=\"vurl\" vurl=\"/_vsl/F6C4E8523C2AF10E72471999AEDD0057/0A64F30B/58307\" vwidth=\"500\" width=\"500\"/></p>, <p style=\"text-indent:32px;line-height:150%\"><span style=\"font-size:16px;line-height:150%;font-family: '微软雅黑',sans-serif\">在新生安全教育培训讲座中，戴蓥通过真实案例讲解、数据归纳统计等方式，细致讲解了包括谨防诈骗、消防安全、治安安全、校门管理、交通安全、宗教法规与政策、国家安全、禁毒安全、警惕校园贷、防范溺水十大方面的安全注意事项。用语重心长的语气为大家敲响警钟，极大地增强了同学们的安全意识。</span></p>, <p style=\"text-align:right;text-indent:32px;line-height:150%\"><span style=\"font-size:16px;line-height:150%;font-family:'微软雅黑',sans-serif\">文｜叶舒怡、曹惠真</span></p>, <p style=\"text-align:right;text-indent:32px;line-height:150%\"><span style=\"font-size:16px;line-height:150%;font-family:'微软雅黑',sans-serif\">图｜叶舒怡、陈思妤</span></p>, <p><br/></p>]\n"
     ]
    }
   ],
   "source": [
    "print(datainfolist)"
   ]
  },
  {
   "cell_type": "code",
   "execution_count": 10,
   "id": "13557c88",
   "metadata": {},
   "outputs": [
    {
     "data": {
      "text/plain": [
       "14"
      ]
     },
     "execution_count": 10,
     "metadata": {},
     "output_type": "execute_result"
    }
   ],
   "source": [
    "len(datainfolist)"
   ]
  },
  {
   "cell_type": "code",
   "execution_count": 11,
   "id": "fe4498c3",
   "metadata": {
    "scrolled": true
   },
   "outputs": [
    {
     "name": "stdout",
     "output_type": "stream",
     "text": [
      "[<p style=\"text-indent:32px;line-height:150%\"><span lang=\"EN-US\" style=\"font-size:16px;line-height:150%;font-family:'微软雅黑',sans-serif\">9</span><span style=\"font-size:16px;line-height:150%;font-family:'微软雅黑',sans-serif\">月<span lang=\"EN-US\">9</span>日，管理学院、财务管理与会计研究院在建南大会堂举办<span lang=\"EN-US\">2022</span>级新生入学教育系列讲座，本次新生入学教育由四史教育、新生安全教育、网络媒介素养教育三部分组成。校党委宣传部副部长洪春生、管理学院党委副书记戴蓥、管理学院潘维廉教授作为主讲嘉宾出席活动，管理学院、财会院<span lang=\"EN-US\">800</span>余名<span lang=\"EN-US\">2022</span>级新生参与活动。</span></p>, <p style=\"text-indent:32px;line-height:150%\"><span style=\"font-size:16px;line-height:150%;font-family:'微软雅黑',sans-serif\"></span></p>, <p style=\"text-align: center\"><img class=\"img_vsb_content\" orisrc=\"/__local/A/B6/09/7F6E50492D26A8DBEAFA2B9831D_30E88373_1003937.jpg\" src=\"/__local/4/AE/7C/9529895AC3D131F2B9D723E28F7_2B39029F_5EBE0.jpg\" vheight=\"\" vsbhref=\"vurl\" vurl=\"/_vsl/4AE7C9529895AC3D131F2B9D723E28F7/2B39029F/5EBE0\" vwidth=\"500\" width=\"500\"/></p>, <p style=\"text-align: center\"><img class=\"img_vsb_content\" orisrc=\"/__local/3/0E/B2/01C6F8911B8765D0992F265533E_D5FA01D9_8A3193.jpg\" src=\"/__local/5/79/77/4F51F509D397AD9FE8DA8C5CF1F_EEDD7611_4B35C.jpg\" vheight=\"\" vsbhref=\"vurl\" vurl=\"/_vsl/579774F51F509D397AD9FE8DA8C5CF1F/EEDD7611/4B35C\" vwidth=\"500\" width=\"500\"/></p>, <p style=\"text-indent:32px;line-height:150%\"><span style=\"font-size:16px;line-height:150%;font-family: '微软雅黑',sans-serif\">在四史教育专题讲座正式开始前，主持人、管理学院团委副书记揭上锋播放了潘维廉的视频简介，让全体新生直观地了解潘维廉的中国故事。讲座中，潘维廉以一个外国友人的视角讲述了他在中国三十多年的亲身经历，展现了中国改革开放以来的巨大变化，表达了对中国未来的美好祝愿。精彩纷呈的内容、幽默诙谐的语言、生动活泼的讲述，引得全场掌声连连。在紧接着的互动提问环节，潘威廉就当代青年如何讲好中国故事提出了若干明晰的指引，希望同学们深刻理解中国文化的“根”，用心传播中国故事，实现中国梦、世界梦。</span></p>, <p style=\"text-indent:32px;line-height:150%\"><span style=\"font-size:16px;line-height:150%;font-family: '微软雅黑',sans-serif\"></span></p>, <p style=\"text-align: center\"><img class=\"img_vsb_content\" orisrc=\"/__local/6/D0/CD/9DC286CA1E63CEE1BAD0BE58415_61A269A5_75E2B2.jpg\" src=\"/__local/F/29/A0/AE8E11B4D77878F05455F9634FC_98435961_366D2.jpg\" vheight=\"\" vsbhref=\"vurl\" vurl=\"/_vsl/F29A0AE8E11B4D77878F05455F9634FC/98435961/366D2\" vwidth=\"500\" width=\"500\"/></p>, <p style=\"text-indent:32px;line-height:150%\"><span style=\"font-size:16px;line-height:150%;font-family: '微软雅黑',sans-serif\">随后，洪春生带来网络媒介素养教育专题培训，以热点事件和丰富数据作为话题支撑，详细介绍网络的内涵，阐述大学生应当如何看待和利用网络。随着信息传播速度的加快，提醒同学们更应当清醒认识网络谣言、盲目从众等不理智行为带来的危害，恪守底线、心存敬畏，提高自身网络素养，争做有素质的好网民。</span></p>, <p style=\"text-indent:32px;line-height:150%\"><span style=\"font-size:16px;line-height:150%;font-family: '微软雅黑',sans-serif\"></span></p>, <p style=\"text-align: center\"><img class=\"img_vsb_content\" orisrc=\"/__local/7/E6/36/A95FCDE93CF97F82BC2E21BC070_83B153B8_470C74.jpg\" src=\"/__local/F/6C/4E/8523C2AF10E72471999AEDD0057_0A64F30B_58307.jpg\" vheight=\"\" vsbhref=\"vurl\" vurl=\"/_vsl/F6C4E8523C2AF10E72471999AEDD0057/0A64F30B/58307\" vwidth=\"500\" width=\"500\"/></p>, <p style=\"text-indent:32px;line-height:150%\"><span style=\"font-size:16px;line-height:150%;font-family: '微软雅黑',sans-serif\">在新生安全教育培训讲座中，戴蓥通过真实案例讲解、数据归纳统计等方式，细致讲解了包括谨防诈骗、消防安全、治安安全、校门管理、交通安全、宗教法规与政策、国家安全、禁毒安全、警惕校园贷、防范溺水十大方面的安全注意事项。用语重心长的语气为大家敲响警钟，极大地增强了同学们的安全意识。</span></p>, <p style=\"text-align:right;text-indent:32px;line-height:150%\"><span style=\"font-size:16px;line-height:150%;font-family:'微软雅黑',sans-serif\">文｜叶舒怡、曹惠真</span></p>, <p style=\"text-align:right;text-indent:32px;line-height:150%\"><span style=\"font-size:16px;line-height:150%;font-family:'微软雅黑',sans-serif\">图｜叶舒怡、陈思妤</span></p>, <p><br/></p>]\n"
     ]
    }
   ],
   "source": [
    "print(datainfolist)"
   ]
  },
  {
   "cell_type": "code",
   "execution_count": 13,
   "id": "0911e2f0",
   "metadata": {},
   "outputs": [
    {
     "name": "stdout",
     "output_type": "stream",
     "text": [
      "[<p style=\"text-indent:32px;line-height:150%\"><span lang=\"EN-US\" style=\"font-size:16px;line-height:150%;font-family:'微软雅黑',sans-serif\">9</span><span style=\"font-size:16px;line-height:150%;font-family:'微软雅黑',sans-serif\">月<span lang=\"EN-US\">9</span>日，管理学院、财务管理与会计研究院在建南大会堂举办<span lang=\"EN-US\">2022</span>级新生入学教育系列讲座，本次新生入学教育由四史教育、新生安全教育、网络媒介素养教育三部分组成。校党委宣传部副部长洪春生、管理学院党委副书记戴蓥、管理学院潘维廉教授作为主讲嘉宾出席活动，管理学院、财会院<span lang=\"EN-US\">800</span>余名<span lang=\"EN-US\">2022</span>级新生参与活动。</span></p>, <p style=\"text-indent:32px;line-height:150%\"><span style=\"font-size:16px;line-height:150%;font-family:'微软雅黑',sans-serif\"></span></p>, <p style=\"text-align: center\"><img class=\"img_vsb_content\" orisrc=\"/__local/A/B6/09/7F6E50492D26A8DBEAFA2B9831D_30E88373_1003937.jpg\" src=\"/__local/4/AE/7C/9529895AC3D131F2B9D723E28F7_2B39029F_5EBE0.jpg\" vheight=\"\" vsbhref=\"vurl\" vurl=\"/_vsl/4AE7C9529895AC3D131F2B9D723E28F7/2B39029F/5EBE0\" vwidth=\"500\" width=\"500\"/></p>, <p style=\"text-align: center\"><img class=\"img_vsb_content\" orisrc=\"/__local/3/0E/B2/01C6F8911B8765D0992F265533E_D5FA01D9_8A3193.jpg\" src=\"/__local/5/79/77/4F51F509D397AD9FE8DA8C5CF1F_EEDD7611_4B35C.jpg\" vheight=\"\" vsbhref=\"vurl\" vurl=\"/_vsl/579774F51F509D397AD9FE8DA8C5CF1F/EEDD7611/4B35C\" vwidth=\"500\" width=\"500\"/></p>, <p style=\"text-indent:32px;line-height:150%\"><span style=\"font-size:16px;line-height:150%;font-family: '微软雅黑',sans-serif\">在四史教育专题讲座正式开始前，主持人、管理学院团委副书记揭上锋播放了潘维廉的视频简介，让全体新生直观地了解潘维廉的中国故事。讲座中，潘维廉以一个外国友人的视角讲述了他在中国三十多年的亲身经历，展现了中国改革开放以来的巨大变化，表达了对中国未来的美好祝愿。精彩纷呈的内容、幽默诙谐的语言、生动活泼的讲述，引得全场掌声连连。在紧接着的互动提问环节，潘威廉就当代青年如何讲好中国故事提出了若干明晰的指引，希望同学们深刻理解中国文化的“根”，用心传播中国故事，实现中国梦、世界梦。</span></p>, <p style=\"text-indent:32px;line-height:150%\"><span style=\"font-size:16px;line-height:150%;font-family: '微软雅黑',sans-serif\"></span></p>, <p style=\"text-align: center\"><img class=\"img_vsb_content\" orisrc=\"/__local/6/D0/CD/9DC286CA1E63CEE1BAD0BE58415_61A269A5_75E2B2.jpg\" src=\"/__local/F/29/A0/AE8E11B4D77878F05455F9634FC_98435961_366D2.jpg\" vheight=\"\" vsbhref=\"vurl\" vurl=\"/_vsl/F29A0AE8E11B4D77878F05455F9634FC/98435961/366D2\" vwidth=\"500\" width=\"500\"/></p>, <p style=\"text-indent:32px;line-height:150%\"><span style=\"font-size:16px;line-height:150%;font-family: '微软雅黑',sans-serif\">随后，洪春生带来网络媒介素养教育专题培训，以热点事件和丰富数据作为话题支撑，详细介绍网络的内涵，阐述大学生应当如何看待和利用网络。随着信息传播速度的加快，提醒同学们更应当清醒认识网络谣言、盲目从众等不理智行为带来的危害，恪守底线、心存敬畏，提高自身网络素养，争做有素质的好网民。</span></p>, <p style=\"text-indent:32px;line-height:150%\"><span style=\"font-size:16px;line-height:150%;font-family: '微软雅黑',sans-serif\"></span></p>, <p style=\"text-align: center\"><img class=\"img_vsb_content\" orisrc=\"/__local/7/E6/36/A95FCDE93CF97F82BC2E21BC070_83B153B8_470C74.jpg\" src=\"/__local/F/6C/4E/8523C2AF10E72471999AEDD0057_0A64F30B_58307.jpg\" vheight=\"\" vsbhref=\"vurl\" vurl=\"/_vsl/F6C4E8523C2AF10E72471999AEDD0057/0A64F30B/58307\" vwidth=\"500\" width=\"500\"/></p>, <p style=\"text-indent:32px;line-height:150%\"><span style=\"font-size:16px;line-height:150%;font-family: '微软雅黑',sans-serif\">在新生安全教育培训讲座中，戴蓥通过真实案例讲解、数据归纳统计等方式，细致讲解了包括谨防诈骗、消防安全、治安安全、校门管理、交通安全、宗教法规与政策、国家安全、禁毒安全、警惕校园贷、防范溺水十大方面的安全注意事项。用语重心长的语气为大家敲响警钟，极大地增强了同学们的安全意识。</span></p>, <p style=\"text-align:right;text-indent:32px;line-height:150%\"><span style=\"font-size:16px;line-height:150%;font-family:'微软雅黑',sans-serif\">文｜叶舒怡、曹惠真</span></p>, <p style=\"text-align:right;text-indent:32px;line-height:150%\"><span style=\"font-size:16px;line-height:150%;font-family:'微软雅黑',sans-serif\">图｜叶舒怡、陈思妤</span></p>]\n"
     ]
    }
   ],
   "source": [
    "print(datainfolist[:-1])"
   ]
  },
  {
   "cell_type": "code",
   "execution_count": 14,
   "id": "9b610f4a",
   "metadata": {},
   "outputs": [
    {
     "name": "stdout",
     "output_type": "stream",
     "text": [
      "[<p style=\"text-indent:32px;line-height:150%\"><span lang=\"EN-US\" style=\"font-size:16px;line-height:150%;font-family:'微软雅黑',sans-serif\">9</span><span style=\"font-size:16px;line-height:150%;font-family:'微软雅黑',sans-serif\">月<span lang=\"EN-US\">9</span>日，管理学院、财务管理与会计研究院在建南大会堂举办<span lang=\"EN-US\">2022</span>级新生入学教育系列讲座，本次新生入学教育由四史教育、新生安全教育、网络媒介素养教育三部分组成。校党委宣传部副部长洪春生、管理学院党委副书记戴蓥、管理学院潘维廉教授作为主讲嘉宾出席活动，管理学院、财会院<span lang=\"EN-US\">800</span>余名<span lang=\"EN-US\">2022</span>级新生参与活动。</span></p>, <p style=\"text-indent:32px;line-height:150%\"><span style=\"font-size:16px;line-height:150%;font-family:'微软雅黑',sans-serif\"></span></p>, <p style=\"text-align: center\"><img class=\"img_vsb_content\" orisrc=\"/__local/A/B6/09/7F6E50492D26A8DBEAFA2B9831D_30E88373_1003937.jpg\" src=\"/__local/4/AE/7C/9529895AC3D131F2B9D723E28F7_2B39029F_5EBE0.jpg\" vheight=\"\" vsbhref=\"vurl\" vurl=\"/_vsl/4AE7C9529895AC3D131F2B9D723E28F7/2B39029F/5EBE0\" vwidth=\"500\" width=\"500\"/></p>, <p style=\"text-align: center\"><img class=\"img_vsb_content\" orisrc=\"/__local/3/0E/B2/01C6F8911B8765D0992F265533E_D5FA01D9_8A3193.jpg\" src=\"/__local/5/79/77/4F51F509D397AD9FE8DA8C5CF1F_EEDD7611_4B35C.jpg\" vheight=\"\" vsbhref=\"vurl\" vurl=\"/_vsl/579774F51F509D397AD9FE8DA8C5CF1F/EEDD7611/4B35C\" vwidth=\"500\" width=\"500\"/></p>, <p style=\"text-indent:32px;line-height:150%\"><span style=\"font-size:16px;line-height:150%;font-family: '微软雅黑',sans-serif\">在四史教育专题讲座正式开始前，主持人、管理学院团委副书记揭上锋播放了潘维廉的视频简介，让全体新生直观地了解潘维廉的中国故事。讲座中，潘维廉以一个外国友人的视角讲述了他在中国三十多年的亲身经历，展现了中国改革开放以来的巨大变化，表达了对中国未来的美好祝愿。精彩纷呈的内容、幽默诙谐的语言、生动活泼的讲述，引得全场掌声连连。在紧接着的互动提问环节，潘威廉就当代青年如何讲好中国故事提出了若干明晰的指引，希望同学们深刻理解中国文化的“根”，用心传播中国故事，实现中国梦、世界梦。</span></p>, <p style=\"text-indent:32px;line-height:150%\"><span style=\"font-size:16px;line-height:150%;font-family: '微软雅黑',sans-serif\"></span></p>, <p style=\"text-align: center\"><img class=\"img_vsb_content\" orisrc=\"/__local/6/D0/CD/9DC286CA1E63CEE1BAD0BE58415_61A269A5_75E2B2.jpg\" src=\"/__local/F/29/A0/AE8E11B4D77878F05455F9634FC_98435961_366D2.jpg\" vheight=\"\" vsbhref=\"vurl\" vurl=\"/_vsl/F29A0AE8E11B4D77878F05455F9634FC/98435961/366D2\" vwidth=\"500\" width=\"500\"/></p>, <p style=\"text-indent:32px;line-height:150%\"><span style=\"font-size:16px;line-height:150%;font-family: '微软雅黑',sans-serif\">随后，洪春生带来网络媒介素养教育专题培训，以热点事件和丰富数据作为话题支撑，详细介绍网络的内涵，阐述大学生应当如何看待和利用网络。随着信息传播速度的加快，提醒同学们更应当清醒认识网络谣言、盲目从众等不理智行为带来的危害，恪守底线、心存敬畏，提高自身网络素养，争做有素质的好网民。</span></p>, <p style=\"text-indent:32px;line-height:150%\"><span style=\"font-size:16px;line-height:150%;font-family: '微软雅黑',sans-serif\"></span></p>, <p style=\"text-align: center\"><img class=\"img_vsb_content\" orisrc=\"/__local/7/E6/36/A95FCDE93CF97F82BC2E21BC070_83B153B8_470C74.jpg\" src=\"/__local/F/6C/4E/8523C2AF10E72471999AEDD0057_0A64F30B_58307.jpg\" vheight=\"\" vsbhref=\"vurl\" vurl=\"/_vsl/F6C4E8523C2AF10E72471999AEDD0057/0A64F30B/58307\" vwidth=\"500\" width=\"500\"/></p>]\n"
     ]
    }
   ],
   "source": [
    "print(datainfolist[:-4])"
   ]
  },
  {
   "cell_type": "code",
   "execution_count": 20,
   "id": "784eac33",
   "metadata": {},
   "outputs": [
    {
     "name": "stdout",
     "output_type": "stream",
     "text": [
      "456\n"
     ]
    }
   ],
   "source": [
    "xyz='<a href=\"http://library.xmu.edu.cn/\" uvw=123 rst=456>I am your vegetable</a>'\n",
    "soup2=BeautifulSoup(xyz,'html.parser')\n",
    "print(soup2.select('a')[0]['rst'])\n"
   ]
  },
  {
   "cell_type": "code",
   "execution_count": 17,
   "id": "4ddd0bc7",
   "metadata": {},
   "outputs": [
    {
     "name": "stdout",
     "output_type": "stream",
     "text": [
      "[<a href=\"http://library.xmu.edu.cn/\" rst=\"456\" uvw=\"123\">I am your vegetable</a>]\n"
     ]
    }
   ],
   "source": [
    "vegetablelist=soup2.select('a')\n",
    "print(vegetablelist)"
   ]
  },
  {
   "cell_type": "code",
   "execution_count": 18,
   "id": "b4396ea2",
   "metadata": {},
   "outputs": [
    {
     "data": {
      "text/plain": [
       "1"
      ]
     },
     "execution_count": 18,
     "metadata": {},
     "output_type": "execute_result"
    }
   ],
   "source": [
    "len(vegetablelist)"
   ]
  },
  {
   "cell_type": "code",
   "execution_count": 19,
   "id": "aad44867",
   "metadata": {},
   "outputs": [
    {
     "name": "stdout",
     "output_type": "stream",
     "text": [
      "456\n"
     ]
    }
   ],
   "source": [
    "print(vegetablelist[0]['rst'])"
   ]
  },
  {
   "cell_type": "code",
   "execution_count": 20,
   "id": "a8faeefb",
   "metadata": {},
   "outputs": [
    {
     "ename": "TypeError",
     "evalue": "list indices must be integers or slices, not str",
     "output_type": "error",
     "traceback": [
      "\u001b[1;31m---------------------------------------------------------------------------\u001b[0m",
      "\u001b[1;31mTypeError\u001b[0m                                 Traceback (most recent call last)",
      "\u001b[1;32m<ipython-input-20-6650ed995377>\u001b[0m in \u001b[0;36m<module>\u001b[1;34m\u001b[0m\n\u001b[1;32m----> 1\u001b[1;33m \u001b[0mprint\u001b[0m\u001b[1;33m(\u001b[0m\u001b[0mvegetablelist\u001b[0m\u001b[1;33m[\u001b[0m\u001b[1;34m'rst'\u001b[0m\u001b[1;33m]\u001b[0m\u001b[1;33m)\u001b[0m\u001b[1;33m\u001b[0m\u001b[1;33m\u001b[0m\u001b[0m\n\u001b[0m",
      "\u001b[1;31mTypeError\u001b[0m: list indices must be integers or slices, not str"
     ]
    }
   ],
   "source": [
    "print(vegetablelist['rst'])"
   ]
  },
  {
   "cell_type": "code",
   "execution_count": null,
   "id": "88cdc696",
   "metadata": {},
   "outputs": [],
   "source": [
    "\n",
    "\n",
    "glxynewsurl=\"https://sm.xmu.edu.cn/info/1049/6000.htm\"\n",
    "glxyres=requests.get(glxynewsurl)\n"
   ]
  },
  {
   "cell_type": "code",
   "execution_count": 12,
   "id": "3cfa2817",
   "metadata": {},
   "outputs": [
    {
     "name": "stdout",
     "output_type": "stream",
     "text": [
      "[<title>入学教育|管理学院、财会院举行四史教育暨新生安全教育、网络媒介素养教育培训-厦门大学管理学院-SCHOOL OF MANAGEMENT,XIAMEN UNIVERSITY</title>]\n"
     ]
    }
   ],
   "source": [
    "import requests\n",
    "from bs4 import BeautifulSoup\n",
    "\n",
    "\n",
    "glxyres=requests.get(\"https://sm.xmu.edu.cn/info/1049/32764.htm\")\n",
    "glxyres.encoding=\"UTF8\"\n",
    "\n",
    "soup11=BeautifulSoup(glxyres.text,'html.parser')\n",
    "#alink=\n",
    "#print(alink)\n",
    "\n",
    "print(soup11.select('title'))"
   ]
  },
  {
   "cell_type": "code",
   "execution_count": null,
   "id": "fd9c9a2f",
   "metadata": {},
   "outputs": [],
   "source": []
  }
 ],
 "metadata": {
  "kernelspec": {
   "display_name": "Python 3 (ipykernel)",
   "language": "python",
   "name": "python3"
  },
  "language_info": {
   "codemirror_mode": {
    "name": "ipython",
    "version": 3
   },
   "file_extension": ".py",
   "mimetype": "text/x-python",
   "name": "python",
   "nbconvert_exporter": "python",
   "pygments_lexer": "ipython3",
   "version": "3.10.7"
  }
 },
 "nbformat": 4,
 "nbformat_minor": 5
}
