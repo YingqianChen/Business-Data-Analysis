{
 "cells": [
  {
   "cell_type": "code",
   "execution_count": null,
   "id": "1b50b1a6",
   "metadata": {},
   "outputs": [],
   "source": [
    "import requests \n",
    "from lxml import etree \n",
    "import re\n",
    "url='https://se.xmu.edu.cn/info/1104/13661.htm'\n",
    "headers={'user-agent': 'Mozilla/5.0 (Windows NT 10.0; Win64; x64) AppleWebKit/537.36 (KHTML, like Gecko) Chrome/105.0.0.0 Safari/537.36'}\n",
    "html=requests.get(url,headers=headers)\n",
    "html.encoding='UTF-8'\n",
    "tree=etree.HTML(html.text)\n",
    "result=[]\n",
    "path=\"//*[@id='vsb_content']/div/div[position()>78 and position()<145]//text()\"\n",
    "b=tree.xpath(path)\n",
    "result.append(b)\n",
    "symbol=''\n",
    "ref=symbol.join(b)\n",
    "print(ref)\n",
    "f=open('ref.txt','w+')\n",
    "for i in range(0,len(ref)):\n",
    "    if ref[i]=='[' and i!=0:\n",
    "        f.write('\\n')\n",
    "    f.write(ref[i])\n",
    "f.close()"
   ]
  }
 ],
 "metadata": {
  "kernelspec": {
   "display_name": "Python 3 (ipykernel)",
   "language": "python",
   "name": "python3"
  },
  "language_info": {
   "codemirror_mode": {
    "name": "ipython",
    "version": 3
   },
   "file_extension": ".py",
   "mimetype": "text/x-python",
   "name": "python",
   "nbconvert_exporter": "python",
   "pygments_lexer": "ipython3",
   "version": "3.10.7"
  }
 },
 "nbformat": 4,
 "nbformat_minor": 5
}
