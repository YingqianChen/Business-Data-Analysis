{
 "cells": [
  {
   "cell_type": "code",
   "execution_count": 1,
   "id": "969b319e",
   "metadata": {},
   "outputs": [],
   "source": [
    "import requests\n",
    "from bs4 import BeautifulSoup\n",
    "\n",
    "soenewsurl = \"https://se.xmu.edu.cn/info/1059/202279.htm\"\n",
    "soeres = requests.get(soenewsurl)\n",
    "soeres.encoding = 'UTF8'\n",
    "soupll = BeautifulSoup(soeres.text, 'html.parser')\n",
    "datainfolist = soupll.select('p[class=\"MsoNormal\"]') # 在段落中指定class进一步筛选，去除正文以外的内容\n",
    "f = open(\"news.txt\",\"w+\")\n",
    "for data in datainfolist:\n",
    "    f.write(data.text)\n",
    "f.close()"
   ]
  },
  {
   "cell_type": "code",
   "execution_count": 3,
   "id": "7aef9de8",
   "metadata": {},
   "outputs": [
    {
     "data": {
      "text/plain": [
       "<p class=\"MsoNormal\" style=\"text-align: left; line-height: 150%; text-indent: 22pt\"><span lang=\"EN-US\" new=\"\" roman\"\"=\"\" style=\"font-size: 11pt; font-family: 宋体; line-height: 150%; mso-bidi-font-family: \" times=\"\">4</span><span new=\"\" roman\"\"=\"\" style=\"font-size: 11pt; font-family: 宋体; line-height: 150%; mso-bidi-font-family: \" times=\"\">月<span lang=\"EN-US\">6</span>日上午，学校在建南大会堂举行<span style=\"mso-bidi-font-weight: bold\">重温习近平总书记致厦门大学建校<span lang=\"EN-US\">100</span>周年贺信暨与时俱进建设世界一流大学再动员大会</span>。经济学科师生以线上线下相结合的方式收看了大会直播。随后，学院在<span lang=\"EN-US\">N501</span>会议室召开<span style=\"mso-bidi-font-weight: bold\">经济学科师生院友重温习近平总书记致厦门大学建校<span lang=\"EN-US\">100</span>周年贺信座谈会</span>。会上，经济学院<span lang=\"EN-US\">1983</span>级院友张宏</span><span style=\"font-size: 11pt; font-family: 宋体; line-height: 150%; mso-bidi-font-family: 微软雅黑\">樑</span><span new=\"\" roman\"\"=\"\" style=\"font-size: 11pt; font-family: 宋体; line-height: 150%; mso-bidi-font-family: \" times=\"\">和师生代表<span style=\"mso-bidi-font-weight: bold\">重温习近平总书记致厦门大学建校<span lang=\"EN-US\">100</span>周年贺信，并结合自身学习工作情况畅谈感想体会。</span>座谈会由经济学院党委书记黄鸿德主持。<br/>\n",
       "<br/>\n",
       "</span></p>"
      ]
     },
     "execution_count": 3,
     "metadata": {},
     "output_type": "execute_result"
    }
   ],
   "source": [
    "datainfolist[0].text()"
   ]
  }
 ],
 "metadata": {
  "kernelspec": {
   "display_name": "Python 3 (ipykernel)",
   "language": "python",
   "name": "python3"
  },
  "language_info": {
   "codemirror_mode": {
    "name": "ipython",
    "version": 3
   },
   "file_extension": ".py",
   "mimetype": "text/x-python",
   "name": "python",
   "nbconvert_exporter": "python",
   "pygments_lexer": "ipython3",
   "version": "3.10.7"
  }
 },
 "nbformat": 4,
 "nbformat_minor": 5
}
