{
 "cells": [
  {
   "cell_type": "code",
   "execution_count": 12,
   "id": "f0a6c678",
   "metadata": {},
   "outputs": [
    {
     "name": "stdout",
     "output_type": "stream",
     "text": [
      "请输入身份证号：351002198307142319\n",
      "数字2出现的次数为2次\n"
     ]
    }
   ],
   "source": [
    "id = input(\"请输入身份证号：\")\n",
    "times = id.count(\"2\")\n",
    "print(\"数字2出现的次数为\"+str(times)+\"次\")"
   ]
  }
 ],
 "metadata": {
  "kernelspec": {
   "display_name": "Python 3 (ipykernel)",
   "language": "python",
   "name": "python3"
  },
  "language_info": {
   "codemirror_mode": {
    "name": "ipython",
    "version": 3
   },
   "file_extension": ".py",
   "mimetype": "text/x-python",
   "name": "python",
   "nbconvert_exporter": "python",
   "pygments_lexer": "ipython3",
   "version": "3.10.7"
  }
 },
 "nbformat": 4,
 "nbformat_minor": 5
}
