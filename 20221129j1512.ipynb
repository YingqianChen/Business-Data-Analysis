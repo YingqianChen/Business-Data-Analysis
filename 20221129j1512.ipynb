{
 "cells": [
  {
   "cell_type": "code",
   "execution_count": 35,
   "id": "b03d57ed",
   "metadata": {},
   "outputs": [
    {
     "name": "stdout",
     "output_type": "stream",
     "text": [
      "使用read_table读取的订单信息表的长度为： 945\n"
     ]
    }
   ],
   "source": [
    "import pandas as pd\n",
    "order = pd.read_table(r'menudata/meal_order_info.csv',\n",
    "      sep = ',',encoding = 'gbk')\n",
    "print('使用read_table读取的订单信息表的长度为：',len(order))"
   ]
  },
  {
   "cell_type": "code",
   "execution_count": 5,
   "id": "189c39a6",
   "metadata": {},
   "outputs": [
    {
     "name": "stdout",
     "output_type": "stream",
     "text": [
      "使用read_csv读取的订单信息表的长度为： 945\n"
     ]
    }
   ],
   "source": [
    "## 使用read_csv读取订单信息表\n",
    "order1 = pd.read_csv(r'menudata/meal_order_info.csv',\n",
    "      encoding = 'gbk')\n",
    "print('使用read_csv读取的订单信息表的长度为：',len(order1))\n"
   ]
  },
  {
   "cell_type": "code",
   "execution_count": 7,
   "id": "d4fb936c",
   "metadata": {},
   "outputs": [
    {
     "name": "stdout",
     "output_type": "stream",
     "text": [
      "分隔符为;时订单信息表为：\n",
      "     info_id,\"emp_id\",\"number_consumers\",\"mode\",\"dining_table_id\",\"dining_table_name\",\"expenditure\",\"dishes_count\",\"accounts_payable\",\"use_start_time\",\"check_closed\",\"lock_time\",\"cashier_id\",\"pc_id\",\"order_number\",\"org_id\",\"print_doc_bill_num\",\"lock_table_info\",\"order_status\",\"phone\",\"name\"\n",
      "0    417,1442,4,NA,1501,1022,165,5,165,\"2016/8/1 11...                                                                                                                                                                                                                                            \n",
      "1    301,1095,3,NA,1430,1031,321,6,321,\"2016/8/1 11...                                                                                                                                                                                                                                            \n",
      "2    413,1147,6,NA,1488,1009,854,15,854,\"2016/8/1 1...                                                                                                                                                                                                                                            \n",
      "3    415,1166,4,NA,1502,1023,466,10,466,\"2016/8/1 1...                                                                                                                                                                                                                                            \n",
      "4    392,1094,10,NA,1499,1020,704,24,704,\"2016/8/1 ...                                                                                                                                                                                                                                            \n",
      "..                                                 ...                                                                                                                                                                                                                                            \n",
      "940  641,1095,8,NA,1492,1013,679,12,679,\"2016/8/31 ...                                                                                                                                                                                                                                            \n",
      "941  672,1089,6,NA,1489,1010,800,24,800,\"2016/8/31 ...                                                                                                                                                                                                                                            \n",
      "942  692,1155,8,NA,1492,1013,735,10,735,\"2016/8/31 ...                                                                                                                                                                                                                                            \n",
      "943  647,1094,4,NA,1485,1006,262,9,262,\"2016/8/31 2...                                                                                                                                                                                                                                            \n",
      "944  570,1113,8,NA,1517,1038,589,13,589,\"2016/8/31 ...                                                                                                                                                                                                                                            \n",
      "\n",
      "[945 rows x 1 columns]\n"
     ]
    }
   ],
   "source": [
    "# 代码 4-5\n",
    "## 使用read_table读取菜品订单信息表,sep = ';'\n",
    "order2 = pd.read_table(r'menudata/meal_order_info.csv',\n",
    "      sep = ';',encoding = 'gbk')\n",
    "print('分隔符为;时订单信息表为：\\n',order2)\n"
   ]
  },
  {
   "cell_type": "code",
   "execution_count": 6,
   "id": "52c5b32d",
   "metadata": {},
   "outputs": [
    {
     "name": "stdout",
     "output_type": "stream",
     "text": [
      "订单信息表为： \n",
      "           0       1                 2     3                4   \\\n",
      "0    info_id  emp_id  number_consumers  mode  dining_table_id   \n",
      "1        417    1442                 4   NaN             1501   \n",
      "2        301    1095                 3   NaN             1430   \n",
      "3        413    1147                 6   NaN             1488   \n",
      "4        415    1166                 4   NaN             1502   \n",
      "..       ...     ...               ...   ...              ...   \n",
      "941      641    1095                 8   NaN             1492   \n",
      "942      672    1089                 6   NaN             1489   \n",
      "943      692    1155                 8   NaN             1492   \n",
      "944      647    1094                 4   NaN             1485   \n",
      "945      570    1113                 8   NaN             1517   \n",
      "\n",
      "                    5            6             7                 8   \\\n",
      "0    dining_table_name  expenditure  dishes_count  accounts_payable   \n",
      "1                 1022          165             5               165   \n",
      "2                 1031          321             6               321   \n",
      "3                 1009          854            15               854   \n",
      "4                 1023          466            10               466   \n",
      "..                 ...          ...           ...               ...   \n",
      "941               1013          679            12               679   \n",
      "942               1010          800            24               800   \n",
      "943               1013          735            10               735   \n",
      "944               1006          262             9               262   \n",
      "945               1038          589            13               589   \n",
      "\n",
      "                     9   ...                  11          12     13  \\\n",
      "0        use_start_time  ...           lock_time  cashier_id  pc_id   \n",
      "1     2016/8/1 11:05:36  ...   2016/8/1 11:11:46         NaN    NaN   \n",
      "2     2016/8/1 11:15:57  ...   2016/8/1 11:31:55         NaN    NaN   \n",
      "3     2016/8/1 12:42:52  ...   2016/8/1 12:54:37         NaN    NaN   \n",
      "4     2016/8/1 12:51:38  ...   2016/8/1 13:08:20         NaN    NaN   \n",
      "..                  ...  ...                 ...         ...    ...   \n",
      "941  2016/8/31 21:23:48  ...  2016/8/31 21:31:48         NaN    NaN   \n",
      "942  2016/8/31 21:24:12  ...  2016/8/31 21:56:12         NaN    NaN   \n",
      "943  2016/8/31 21:25:18  ...  2016/8/31 21:33:34         NaN    NaN   \n",
      "944  2016/8/31 21:37:39  ...  2016/8/31 21:55:39         NaN    NaN   \n",
      "945  2016/8/31 21:41:56  ...  2016/8/31 21:32:56         NaN    NaN   \n",
      "\n",
      "               14      15                  16               17            18  \\\n",
      "0    order_number  org_id  print_doc_bill_num  lock_table_info  order_status   \n",
      "1             NaN     330                 NaN              NaN             1   \n",
      "2             NaN     328                 NaN              NaN             1   \n",
      "3             NaN     330                 NaN              NaN             1   \n",
      "4             NaN     330                 NaN              NaN             1   \n",
      "..            ...     ...                 ...              ...           ...   \n",
      "941           NaN     330                 NaN              NaN             1   \n",
      "942           NaN     330                 NaN              NaN             1   \n",
      "943           NaN     330                 NaN              NaN             1   \n",
      "944           NaN     330                 NaN              NaN             1   \n",
      "945           NaN     330                 NaN              NaN             1   \n",
      "\n",
      "              19    20  \n",
      "0          phone  name  \n",
      "1    18688880641   苗宇怡  \n",
      "2    18688880174    赵颖  \n",
      "3    18688880276   徐毅凡  \n",
      "4    18688880231   张大鹏  \n",
      "..           ...   ...  \n",
      "941  18688880307    李靖  \n",
      "942  18688880305    莫言  \n",
      "943  18688880327   习一冰  \n",
      "944  18688880207   章春华  \n",
      "945  18688880313   唐雅嘉  \n",
      "\n",
      "[946 rows x 21 columns]\n"
     ]
    }
   ],
   "source": [
    "## 使用read_csv读取菜品订单信息表,header=None\n",
    "order3 = pd.read_csv(r'menudata/meal_order_info.csv',\n",
    "      sep = ',',header = None,encoding = 'gbk')\n",
    "print('订单信息表为：','\\n',order3)"
   ]
  },
  {
   "cell_type": "code",
   "execution_count": 7,
   "id": "e8154410",
   "metadata": {},
   "outputs": [],
   "source": [
    "## 使用gbk解析菜品订单信息表\n",
    "order4 = pd.read_csv(r'menudata/meal_order_info.csv',\n",
    "      sep = ',',encoding = 'gbk')\n"
   ]
  },
  {
   "cell_type": "code",
   "execution_count": 9,
   "id": "bcadc9d6",
   "metadata": {},
   "outputs": [
    {
     "name": "stdout",
     "output_type": "stream",
     "text": [
      "订单信息表写入文本文件前目录内文件列表为：\n",
      " ['meal_order_detail.xlsx', 'meal_order_info.csv', 'orderInfo.csv', 'users.xlsx', '数据特征说明.xlsx']\n",
      "订单信息表写入文本文件后目录内文件列表为：\n",
      " ['meal_order_detail.xlsx', 'meal_order_info.csv', 'orderInfo.csv', 'users.xlsx', '数据特征说明.xlsx']\n"
     ]
    }
   ],
   "source": [
    "# 代码 4-6\n",
    "import os\n",
    "print('订单信息表写入文本文件前目录内文件列表为：\\n',\n",
    "      os.listdir(r'menudata'))\n",
    "## 将order以csv格式存储\n",
    "order.to_csv(r'menudata/orderInfo.csv',sep = ';',index = False) \n",
    "print('订单信息表写入文本文件后目录内文件列表为：\\n',\n",
    "      os.listdir('menudata'))"
   ]
  },
  {
   "cell_type": "code",
   "execution_count": 12,
   "id": "6dca638f",
   "metadata": {
    "scrolled": true
   },
   "outputs": [
    {
     "name": "stdout",
     "output_type": "stream",
     "text": [
      "客户信息表长度为： 734\n"
     ]
    }
   ],
   "source": [
    "# 代码 4-7\n",
    "user = pd.read_excel(r'menudata/users.xlsx')## 读取user.xlsx文件\n",
    "print('客户信息表长度为：',len(user))\n"
   ]
  },
  {
   "cell_type": "code",
   "execution_count": 13,
   "id": "bed37aa7",
   "metadata": {},
   "outputs": [
    {
     "name": "stdout",
     "output_type": "stream",
     "text": [
      "客户信息表写入excel文件前目录内文件列表为：\n",
      " ['meal_order_detail.xlsx', 'meal_order_info.csv', 'orderInfo.csv', 'users.xlsx', '数据特征说明.xlsx']\n",
      "客户信息表写入excel文件后目录内文件列表为：\n",
      " ['meal_order_detail.xlsx', 'meal_order_info.csv', 'orderInfo.csv', 'userInfo.xlsx', 'users.xlsx', '数据特征说明.xlsx']\n"
     ]
    }
   ],
   "source": [
    "# 代码 4-8\n",
    "print('客户信息表写入excel文件前目录内文件列表为：\\n',\n",
    "      os.listdir(r'menudata'))\n",
    "user.to_excel(r'menudata/userInfo.xlsx')\n",
    "print('客户信息表写入excel文件后目录内文件列表为：\\n',\n",
    "      os.listdir('menudata'))"
   ]
  },
  {
   "cell_type": "code",
   "execution_count": 21,
   "id": "0779a4ea",
   "metadata": {},
   "outputs": [
    {
     "name": "stdout",
     "output_type": "stream",
     "text": [
      "使用read_csv读取的订单信息表的长度为： 2779\n"
     ]
    }
   ],
   "source": [
    "detail = pd.read_excel(r'menudata/meal_order_detail.xlsx')\n",
    "print('使用read_csv读取的订单信息表的长度为：',len(detail))\n"
   ]
  },
  {
   "cell_type": "code",
   "execution_count": 36,
   "id": "8cbf8930",
   "metadata": {},
   "outputs": [
    {
     "data": {
      "text/html": [
       "<div>\n",
       "<style scoped>\n",
       "    .dataframe tbody tr th:only-of-type {\n",
       "        vertical-align: middle;\n",
       "    }\n",
       "\n",
       "    .dataframe tbody tr th {\n",
       "        vertical-align: top;\n",
       "    }\n",
       "\n",
       "    .dataframe thead th {\n",
       "        text-align: right;\n",
       "    }\n",
       "</style>\n",
       "<table border=\"1\" class=\"dataframe\">\n",
       "  <thead>\n",
       "    <tr style=\"text-align: right;\">\n",
       "      <th></th>\n",
       "      <th>detail_id</th>\n",
       "      <th>order_id</th>\n",
       "      <th>dishes_id</th>\n",
       "      <th>logicprn_name</th>\n",
       "      <th>parent_class_name</th>\n",
       "      <th>dishes_name</th>\n",
       "      <th>itemis_add</th>\n",
       "      <th>counts</th>\n",
       "      <th>amounts</th>\n",
       "      <th>cost</th>\n",
       "      <th>place_order_time</th>\n",
       "      <th>discount_amt</th>\n",
       "      <th>discount_reason</th>\n",
       "      <th>kick_back</th>\n",
       "      <th>add_inprice</th>\n",
       "      <th>add_info</th>\n",
       "      <th>bar_code</th>\n",
       "      <th>picture_file</th>\n",
       "      <th>emp_id</th>\n",
       "      <th>date</th>\n",
       "    </tr>\n",
       "  </thead>\n",
       "  <tbody>\n",
       "    <tr>\n",
       "      <th>0</th>\n",
       "      <td>2956</td>\n",
       "      <td>417</td>\n",
       "      <td>610062</td>\n",
       "      <td>NaN</td>\n",
       "      <td>NaN</td>\n",
       "      <td>蒜蓉生蚝</td>\n",
       "      <td>0</td>\n",
       "      <td>1</td>\n",
       "      <td>49</td>\n",
       "      <td>NaN</td>\n",
       "      <td>2016-08-01 11:05:36</td>\n",
       "      <td>NaN</td>\n",
       "      <td>NaN</td>\n",
       "      <td>NaN</td>\n",
       "      <td>0</td>\n",
       "      <td>NaN</td>\n",
       "      <td>NaN</td>\n",
       "      <td>caipu/104001.jpg</td>\n",
       "      <td>1442</td>\n",
       "      <td>2016-08-01</td>\n",
       "    </tr>\n",
       "    <tr>\n",
       "      <th>1</th>\n",
       "      <td>2958</td>\n",
       "      <td>417</td>\n",
       "      <td>609957</td>\n",
       "      <td>NaN</td>\n",
       "      <td>NaN</td>\n",
       "      <td>蒙古烤羊腿_x000D_\\n_x000D_\\n_x000D_\\n</td>\n",
       "      <td>0</td>\n",
       "      <td>1</td>\n",
       "      <td>48</td>\n",
       "      <td>NaN</td>\n",
       "      <td>2016-08-01 11:07:07</td>\n",
       "      <td>NaN</td>\n",
       "      <td>NaN</td>\n",
       "      <td>NaN</td>\n",
       "      <td>0</td>\n",
       "      <td>NaN</td>\n",
       "      <td>NaN</td>\n",
       "      <td>caipu/202003.jpg</td>\n",
       "      <td>1442</td>\n",
       "      <td>2016-08-01</td>\n",
       "    </tr>\n",
       "    <tr>\n",
       "      <th>2</th>\n",
       "      <td>2961</td>\n",
       "      <td>417</td>\n",
       "      <td>609950</td>\n",
       "      <td>NaN</td>\n",
       "      <td>NaN</td>\n",
       "      <td>大蒜苋菜</td>\n",
       "      <td>0</td>\n",
       "      <td>1</td>\n",
       "      <td>30</td>\n",
       "      <td>NaN</td>\n",
       "      <td>2016-08-01 11:07:40</td>\n",
       "      <td>NaN</td>\n",
       "      <td>NaN</td>\n",
       "      <td>NaN</td>\n",
       "      <td>0</td>\n",
       "      <td>NaN</td>\n",
       "      <td>NaN</td>\n",
       "      <td>caipu/303001.jpg</td>\n",
       "      <td>1442</td>\n",
       "      <td>2016-08-01</td>\n",
       "    </tr>\n",
       "    <tr>\n",
       "      <th>3</th>\n",
       "      <td>2966</td>\n",
       "      <td>417</td>\n",
       "      <td>610038</td>\n",
       "      <td>NaN</td>\n",
       "      <td>NaN</td>\n",
       "      <td>芝麻烤紫菜</td>\n",
       "      <td>0</td>\n",
       "      <td>1</td>\n",
       "      <td>25</td>\n",
       "      <td>NaN</td>\n",
       "      <td>2016-08-01 11:11:11</td>\n",
       "      <td>NaN</td>\n",
       "      <td>NaN</td>\n",
       "      <td>NaN</td>\n",
       "      <td>0</td>\n",
       "      <td>NaN</td>\n",
       "      <td>NaN</td>\n",
       "      <td>caipu/105002.jpg</td>\n",
       "      <td>1442</td>\n",
       "      <td>2016-08-01</td>\n",
       "    </tr>\n",
       "    <tr>\n",
       "      <th>4</th>\n",
       "      <td>2968</td>\n",
       "      <td>417</td>\n",
       "      <td>610003</td>\n",
       "      <td>NaN</td>\n",
       "      <td>NaN</td>\n",
       "      <td>蒜香包</td>\n",
       "      <td>0</td>\n",
       "      <td>1</td>\n",
       "      <td>13</td>\n",
       "      <td>NaN</td>\n",
       "      <td>2016-08-01 11:11:30</td>\n",
       "      <td>NaN</td>\n",
       "      <td>NaN</td>\n",
       "      <td>NaN</td>\n",
       "      <td>0</td>\n",
       "      <td>NaN</td>\n",
       "      <td>NaN</td>\n",
       "      <td>caipu/503002.jpg</td>\n",
       "      <td>1442</td>\n",
       "      <td>2016-08-01</td>\n",
       "    </tr>\n",
       "  </tbody>\n",
       "</table>\n",
       "</div>"
      ],
      "text/plain": [
       "   detail_id order_id  dishes_id  logicprn_name  parent_class_name  \\\n",
       "0       2956      417     610062            NaN                NaN   \n",
       "1       2958      417     609957            NaN                NaN   \n",
       "2       2961      417     609950            NaN                NaN   \n",
       "3       2966      417     610038            NaN                NaN   \n",
       "4       2968      417     610003            NaN                NaN   \n",
       "\n",
       "                        dishes_name  itemis_add  counts  amounts  cost  \\\n",
       "0                              蒜蓉生蚝           0       1       49   NaN   \n",
       "1  蒙古烤羊腿_x000D_\\n_x000D_\\n_x000D_\\n           0       1       48   NaN   \n",
       "2                              大蒜苋菜           0       1       30   NaN   \n",
       "3                             芝麻烤紫菜           0       1       25   NaN   \n",
       "4                               蒜香包           0       1       13   NaN   \n",
       "\n",
       "     place_order_time  discount_amt  discount_reason  kick_back  add_inprice  \\\n",
       "0 2016-08-01 11:05:36           NaN              NaN        NaN            0   \n",
       "1 2016-08-01 11:07:07           NaN              NaN        NaN            0   \n",
       "2 2016-08-01 11:07:40           NaN              NaN        NaN            0   \n",
       "3 2016-08-01 11:11:11           NaN              NaN        NaN            0   \n",
       "4 2016-08-01 11:11:30           NaN              NaN        NaN            0   \n",
       "\n",
       "   add_info  bar_code      picture_file  emp_id        date  \n",
       "0       NaN       NaN  caipu/104001.jpg    1442  2016-08-01  \n",
       "1       NaN       NaN  caipu/202003.jpg    1442  2016-08-01  \n",
       "2       NaN       NaN  caipu/303001.jpg    1442  2016-08-01  \n",
       "3       NaN       NaN  caipu/105002.jpg    1442  2016-08-01  \n",
       "4       NaN       NaN  caipu/503002.jpg    1442  2016-08-01  "
      ]
     },
     "execution_count": 36,
     "metadata": {},
     "output_type": "execute_result"
    }
   ],
   "source": [
    "detail.head()"
   ]
  },
  {
   "cell_type": "code",
   "execution_count": 22,
   "id": "b14eaf3d",
   "metadata": {},
   "outputs": [
    {
     "name": "stdout",
     "output_type": "stream",
     "text": [
      "订单详情表的维度为： 2\n",
      "订单信息表的维度为： 2\n",
      "客户信息表的维度为： 2\n",
      "订单详情表的形状为： (2779, 19)\n",
      "订单信息表的形状为： (945, 21)\n",
      "客户信息表的形状为： (734, 37)\n",
      "订单详情表的元素个数为： 52801\n",
      "订单信息表的元素个数为： 19845\n",
      "客户信息表的元素个数为： 27158\n"
     ]
    }
   ],
   "source": [
    "print('订单详情表的维度为：', detail.ndim)\n",
    "print('订单信息表的维度为：', order.ndim)\n",
    "print('客户信息表的维度为：', user.ndim)\n",
    "\n",
    "print('订单详情表的形状为：', detail.shape)\n",
    "print('订单信息表的形状为：', order.shape)\n",
    "print('客户信息表的形状为：', user.shape)\n",
    "\n",
    "print('订单详情表的元素个数为：', detail.size)\n",
    "print('订单信息表的元素个数为：', order.size)\n",
    "print('客户信息表的元素个数为：', user.size)"
   ]
  },
  {
   "cell_type": "code",
   "execution_count": 23,
   "id": "1c9982bc",
   "metadata": {},
   "outputs": [
    {
     "name": "stdout",
     "output_type": "stream",
     "text": [
      "订单详情表counts和amounts两列的描述性统计为：\n",
      "             counts      amounts\n",
      "count  2779.000000  2779.000000\n",
      "mean      1.111191    45.337172\n",
      "std       0.625428    36.808550\n",
      "min       1.000000     1.000000\n",
      "25%       1.000000    25.000000\n",
      "50%       1.000000    35.000000\n",
      "75%       1.000000    56.000000\n",
      "max      10.000000   178.000000\n",
      "订单信息表order_id(订单编号)与dishes_name(菜品名称)\n",
      "的描述性统计结果为： \n",
      "         order_id dishes_name\n",
      "count       2779        2779\n",
      "unique       278         154\n",
      "top          392       白饭/大碗\n",
      "freq          24          92\n"
     ]
    }
   ],
   "source": [
    "print('订单详情表counts和amounts两列的描述性统计为：\\n',\n",
    "      detail.loc[:, ['counts','amounts']].describe())\n",
    "\n",
    "detail['order_id'] = detail['order_id'].astype('category')\n",
    "detail['dishes_name'] = detail['dishes_name'].astype('category')\n",
    "print('''订单信息表order_id(订单编号)与dishes_name(菜品名称)\n",
    "的描述性统计结果为：''', '\\n',\n",
    "detail[['order_id','dishes_name']].describe())"
   ]
  },
  {
   "cell_type": "code",
   "execution_count": 24,
   "id": "217d2230",
   "metadata": {},
   "outputs": [
    {
     "name": "stdout",
     "output_type": "stream",
     "text": [
      "分组后的订单详情表为： <pandas.core.groupby.generic.DataFrameGroupBy object at 0x000001E7831FB880>\n",
      "订单详情表分组后前5组每组的均值为：\n",
      "             counts    amounts\n",
      "order_id                     \n",
      "137       1.500000  32.333333\n",
      "165       1.166667  52.944444\n",
      "166       1.400000  48.200000\n",
      "171       1.428571  36.285714\n",
      "177       1.000000  34.250000\n",
      "订单详情表分组后前5组每组的标准差为：\n",
      "             counts    amounts\n",
      "order_id                     \n",
      "137       1.224745  35.200379\n",
      "165       0.383482  52.193613\n",
      "166       0.547723  41.829415\n",
      "171       1.133893  19.267540\n",
      "177       0.000000  15.019432\n",
      "订单详情表分组后前5组每组的大小为： \n",
      " order_id\n",
      "137     6\n",
      "165    18\n",
      "166     5\n",
      "171     7\n",
      "177     4\n",
      "dtype: int64\n"
     ]
    }
   ],
   "source": [
    "detailGroup = detail[['order_id','counts',\n",
    "      'amounts']].groupby(by = 'order_id')\n",
    "print('分组后的订单详情表为：',detailGroup)\n",
    "\n",
    "\n",
    "\n",
    "# 代码 4-52\n",
    "print('订单详情表分组后前5组每组的均值为：\\n', \n",
    "      detailGroup.mean().head())\n",
    "\n",
    "print('订单详情表分组后前5组每组的标准差为：\\n', \n",
    "      detailGroup.std().head())\n",
    "\n",
    "print('订单详情表分组后前5组每组的大小为：','\\n', \n",
    "      detailGroup.size().head())"
   ]
  },
  {
   "cell_type": "code",
   "execution_count": 27,
   "id": "f937a869",
   "metadata": {},
   "outputs": [
    {
     "name": "stdout",
     "output_type": "stream",
     "text": [
      "订单详情表的菜品销量与售价的和与均值为：\n",
      "            counts        amounts\n",
      "sum   3088.000000  125992.000000\n",
      "mean     1.111191      45.337172\n"
     ]
    }
   ],
   "source": [
    "import numpy as np\n",
    "\n",
    "print('订单详情表的菜品销量与售价的和与均值为：\\n',\n",
    "      detail[['counts','amounts']].agg([np.sum,np.mean]))\n"
   ]
  },
  {
   "cell_type": "code",
   "execution_count": 28,
   "id": "6d5a7885",
   "metadata": {},
   "outputs": [
    {
     "name": "stdout",
     "output_type": "stream",
     "text": [
      "订单详情表的菜品销量总和与售价的均值为：\n",
      " counts     3088.000000\n",
      "amounts      45.337172\n",
      "dtype: float64\n",
      "菜品订单详情表的菜品销量总和与售价的总和与均值为：\n",
      "       counts        amounts\n",
      "sum   3088.0  125992.000000\n",
      "mean     NaN      45.337172\n"
     ]
    }
   ],
   "source": [
    "# 代码 4-54\n",
    "print('订单详情表的菜品销量总和与售价的均值为：\\n',\n",
    "      detail.agg({'counts':np.sum,'amounts':np.mean}))\n",
    "\n",
    "\n",
    "# 代码 4-55\n",
    "print('菜品订单详情表的菜品销量总和与售价的总和与均值为：\\n',\n",
    "      detail.agg({'counts':np.sum,'amounts':[np.mean,np.sum]}))"
   ]
  },
  {
   "cell_type": "code",
   "execution_count": 29,
   "id": "cae5f27d",
   "metadata": {},
   "outputs": [
    {
     "name": "stdout",
     "output_type": "stream",
     "text": [
      "菜品订单详情表的菜品销量两倍总和为： \n",
      " counts    6176\n",
      "dtype: int64\n",
      "订单详情表的菜品销量两倍总和为：\n",
      "    counts\n",
      "0       2\n",
      "1       2\n",
      "2       2\n",
      "3       2\n",
      "4       2\n",
      "订单详情表的菜品销量与售价的和的两倍为：\n",
      " counts       6176\n",
      "amounts    251984\n",
      "dtype: int64\n",
      "订单详情表分组后前3组每组的均值为：\n",
      "             counts    amounts\n",
      "order_id                     \n",
      "137       1.500000  32.333333\n",
      "165       1.166667  52.944444\n",
      "166       1.400000  48.200000\n",
      "订单详情表分组后前3组每组的标准差为：\n",
      "             counts    amounts\n",
      "order_id                     \n",
      "137       1.224745  35.200379\n",
      "165       0.383482  52.193613\n",
      "166       0.547723  41.829415\n",
      "订单详情分组前3组每组菜品总数和售价均值为：\n",
      "           counts    amounts\n",
      "order_id                   \n",
      "137            9  32.333333\n",
      "165           21  52.944444\n",
      "166            7  48.200000\n",
      "订单详情表的菜品销量与售价的均值为：\n",
      " counts      1.111191\n",
      "amounts    45.337172\n",
      "dtype: float64\n",
      "订单详情表分组后前3组每组的均值为： \n",
      "             counts    amounts\n",
      "order_id                     \n",
      "137       1.500000  32.333333\n",
      "165       1.166667  52.944444\n",
      "166       1.400000  48.200000\n",
      "订单详情表分组后前3组每组的标准差为： \n",
      "             counts    amounts\n",
      "order_id                     \n",
      "137       1.118034  32.133402\n",
      "165       0.372678  50.723074\n",
      "166       0.489898  37.413367\n",
      "订单详情表的菜品销量与售价的两倍为：\n",
      "    counts  amounts\n",
      "0       2       98\n",
      "1       2       96\n",
      "2       2       60\n",
      "3       2       50\n"
     ]
    },
    {
     "ename": "ZeroDivisionError",
     "evalue": "float division by zero",
     "output_type": "error",
     "traceback": [
      "\u001b[1;31m---------------------------------------------------------------------------\u001b[0m",
      "\u001b[1;31mZeroDivisionError\u001b[0m                         Traceback (most recent call last)",
      "\u001b[1;32m<ipython-input-29-41a95f36e85c>\u001b[0m in \u001b[0;36m<module>\u001b[1;34m\u001b[0m\n\u001b[0;32m     55\u001b[0m \u001b[1;31m# 代码 4-63\u001b[0m\u001b[1;33m\u001b[0m\u001b[1;33m\u001b[0m\u001b[1;33m\u001b[0m\u001b[0m\n\u001b[0;32m     56\u001b[0m print('订单详情表分组后实现组内离差标准化后前五行为：\\n', \n\u001b[1;32m---> 57\u001b[1;33m       detailGroup.transform(lambda x:(x.mean()\n\u001b[0m\u001b[0;32m     58\u001b[0m             -x.min())/(x.max()-x.min())).head())\n",
      "\u001b[1;32mC:\\ProgramData\\Anaconda3\\lib\\site-packages\\pandas\\core\\groupby\\generic.py\u001b[0m in \u001b[0;36mtransform\u001b[1;34m(self, func, engine, engine_kwargs, *args, **kwargs)\u001b[0m\n\u001b[0;32m   1357\u001b[0m \u001b[1;33m\u001b[0m\u001b[0m\n\u001b[0;32m   1358\u001b[0m         \u001b[1;32mif\u001b[0m \u001b[1;32mnot\u001b[0m \u001b[0misinstance\u001b[0m\u001b[1;33m(\u001b[0m\u001b[0mfunc\u001b[0m\u001b[1;33m,\u001b[0m \u001b[0mstr\u001b[0m\u001b[1;33m)\u001b[0m\u001b[1;33m:\u001b[0m\u001b[1;33m\u001b[0m\u001b[1;33m\u001b[0m\u001b[0m\n\u001b[1;32m-> 1359\u001b[1;33m             \u001b[1;32mreturn\u001b[0m \u001b[0mself\u001b[0m\u001b[1;33m.\u001b[0m\u001b[0m_transform_general\u001b[0m\u001b[1;33m(\u001b[0m\u001b[0mfunc\u001b[0m\u001b[1;33m,\u001b[0m \u001b[1;33m*\u001b[0m\u001b[0margs\u001b[0m\u001b[1;33m,\u001b[0m \u001b[1;33m**\u001b[0m\u001b[0mkwargs\u001b[0m\u001b[1;33m)\u001b[0m\u001b[1;33m\u001b[0m\u001b[1;33m\u001b[0m\u001b[0m\n\u001b[0m\u001b[0;32m   1360\u001b[0m \u001b[1;33m\u001b[0m\u001b[0m\n\u001b[0;32m   1361\u001b[0m         \u001b[1;32melif\u001b[0m \u001b[0mfunc\u001b[0m \u001b[1;32mnot\u001b[0m \u001b[1;32min\u001b[0m \u001b[0mbase\u001b[0m\u001b[1;33m.\u001b[0m\u001b[0mtransform_kernel_allowlist\u001b[0m\u001b[1;33m:\u001b[0m\u001b[1;33m\u001b[0m\u001b[1;33m\u001b[0m\u001b[0m\n",
      "\u001b[1;32mC:\\ProgramData\\Anaconda3\\lib\\site-packages\\pandas\\core\\groupby\\generic.py\u001b[0m in \u001b[0;36m_transform_general\u001b[1;34m(self, func, *args, **kwargs)\u001b[0m\n\u001b[0;32m   1304\u001b[0m             \u001b[1;31m# Try slow path and fast path.\u001b[0m\u001b[1;33m\u001b[0m\u001b[1;33m\u001b[0m\u001b[1;33m\u001b[0m\u001b[0m\n\u001b[0;32m   1305\u001b[0m             \u001b[1;32mtry\u001b[0m\u001b[1;33m:\u001b[0m\u001b[1;33m\u001b[0m\u001b[1;33m\u001b[0m\u001b[0m\n\u001b[1;32m-> 1306\u001b[1;33m                 \u001b[0mpath\u001b[0m\u001b[1;33m,\u001b[0m \u001b[0mres\u001b[0m \u001b[1;33m=\u001b[0m \u001b[0mself\u001b[0m\u001b[1;33m.\u001b[0m\u001b[0m_choose_path\u001b[0m\u001b[1;33m(\u001b[0m\u001b[0mfast_path\u001b[0m\u001b[1;33m,\u001b[0m \u001b[0mslow_path\u001b[0m\u001b[1;33m,\u001b[0m \u001b[0mgroup\u001b[0m\u001b[1;33m)\u001b[0m\u001b[1;33m\u001b[0m\u001b[1;33m\u001b[0m\u001b[0m\n\u001b[0m\u001b[0;32m   1307\u001b[0m             \u001b[1;32mexcept\u001b[0m \u001b[0mTypeError\u001b[0m\u001b[1;33m:\u001b[0m\u001b[1;33m\u001b[0m\u001b[1;33m\u001b[0m\u001b[0m\n\u001b[0;32m   1308\u001b[0m                 \u001b[1;32mreturn\u001b[0m \u001b[0mself\u001b[0m\u001b[1;33m.\u001b[0m\u001b[0m_transform_item_by_item\u001b[0m\u001b[1;33m(\u001b[0m\u001b[0mobj\u001b[0m\u001b[1;33m,\u001b[0m \u001b[0mfast_path\u001b[0m\u001b[1;33m)\u001b[0m\u001b[1;33m\u001b[0m\u001b[1;33m\u001b[0m\u001b[0m\n",
      "\u001b[1;32mC:\\ProgramData\\Anaconda3\\lib\\site-packages\\pandas\\core\\groupby\\generic.py\u001b[0m in \u001b[0;36m_choose_path\u001b[1;34m(self, fast_path, slow_path, group)\u001b[0m\n\u001b[0;32m   1415\u001b[0m     \u001b[1;32mdef\u001b[0m \u001b[0m_choose_path\u001b[0m\u001b[1;33m(\u001b[0m\u001b[0mself\u001b[0m\u001b[1;33m,\u001b[0m \u001b[0mfast_path\u001b[0m\u001b[1;33m:\u001b[0m \u001b[0mCallable\u001b[0m\u001b[1;33m,\u001b[0m \u001b[0mslow_path\u001b[0m\u001b[1;33m:\u001b[0m \u001b[0mCallable\u001b[0m\u001b[1;33m,\u001b[0m \u001b[0mgroup\u001b[0m\u001b[1;33m:\u001b[0m \u001b[0mDataFrame\u001b[0m\u001b[1;33m)\u001b[0m\u001b[1;33m:\u001b[0m\u001b[1;33m\u001b[0m\u001b[1;33m\u001b[0m\u001b[0m\n\u001b[0;32m   1416\u001b[0m         \u001b[0mpath\u001b[0m \u001b[1;33m=\u001b[0m \u001b[0mslow_path\u001b[0m\u001b[1;33m\u001b[0m\u001b[1;33m\u001b[0m\u001b[0m\n\u001b[1;32m-> 1417\u001b[1;33m         \u001b[0mres\u001b[0m \u001b[1;33m=\u001b[0m \u001b[0mslow_path\u001b[0m\u001b[1;33m(\u001b[0m\u001b[0mgroup\u001b[0m\u001b[1;33m)\u001b[0m\u001b[1;33m\u001b[0m\u001b[1;33m\u001b[0m\u001b[0m\n\u001b[0m\u001b[0;32m   1418\u001b[0m \u001b[1;33m\u001b[0m\u001b[0m\n\u001b[0;32m   1419\u001b[0m         \u001b[1;31m# if we make it here, test if we can use the fast path\u001b[0m\u001b[1;33m\u001b[0m\u001b[1;33m\u001b[0m\u001b[1;33m\u001b[0m\u001b[0m\n",
      "\u001b[1;32mC:\\ProgramData\\Anaconda3\\lib\\site-packages\\pandas\\core\\groupby\\generic.py\u001b[0m in \u001b[0;36m<lambda>\u001b[1;34m(group)\u001b[0m\n\u001b[0;32m   1408\u001b[0m         \u001b[1;32melse\u001b[0m\u001b[1;33m:\u001b[0m\u001b[1;33m\u001b[0m\u001b[1;33m\u001b[0m\u001b[0m\n\u001b[0;32m   1409\u001b[0m             \u001b[0mfast_path\u001b[0m \u001b[1;33m=\u001b[0m \u001b[1;32mlambda\u001b[0m \u001b[0mgroup\u001b[0m\u001b[1;33m:\u001b[0m \u001b[0mfunc\u001b[0m\u001b[1;33m(\u001b[0m\u001b[0mgroup\u001b[0m\u001b[1;33m,\u001b[0m \u001b[1;33m*\u001b[0m\u001b[0margs\u001b[0m\u001b[1;33m,\u001b[0m \u001b[1;33m**\u001b[0m\u001b[0mkwargs\u001b[0m\u001b[1;33m)\u001b[0m\u001b[1;33m\u001b[0m\u001b[1;33m\u001b[0m\u001b[0m\n\u001b[1;32m-> 1410\u001b[1;33m             slow_path = lambda group: group.apply(\n\u001b[0m\u001b[0;32m   1411\u001b[0m                 \u001b[1;32mlambda\u001b[0m \u001b[0mx\u001b[0m\u001b[1;33m:\u001b[0m \u001b[0mfunc\u001b[0m\u001b[1;33m(\u001b[0m\u001b[0mx\u001b[0m\u001b[1;33m,\u001b[0m \u001b[1;33m*\u001b[0m\u001b[0margs\u001b[0m\u001b[1;33m,\u001b[0m \u001b[1;33m**\u001b[0m\u001b[0mkwargs\u001b[0m\u001b[1;33m)\u001b[0m\u001b[1;33m,\u001b[0m \u001b[0maxis\u001b[0m\u001b[1;33m=\u001b[0m\u001b[0mself\u001b[0m\u001b[1;33m.\u001b[0m\u001b[0maxis\u001b[0m\u001b[1;33m\u001b[0m\u001b[1;33m\u001b[0m\u001b[0m\n\u001b[0;32m   1412\u001b[0m             )\n",
      "\u001b[1;32mC:\\ProgramData\\Anaconda3\\lib\\site-packages\\pandas\\core\\frame.py\u001b[0m in \u001b[0;36mapply\u001b[1;34m(self, func, axis, raw, result_type, args, **kwds)\u001b[0m\n\u001b[0;32m   7766\u001b[0m             \u001b[0mkwds\u001b[0m\u001b[1;33m=\u001b[0m\u001b[0mkwds\u001b[0m\u001b[1;33m,\u001b[0m\u001b[1;33m\u001b[0m\u001b[1;33m\u001b[0m\u001b[0m\n\u001b[0;32m   7767\u001b[0m         )\n\u001b[1;32m-> 7768\u001b[1;33m         \u001b[1;32mreturn\u001b[0m \u001b[0mop\u001b[0m\u001b[1;33m.\u001b[0m\u001b[0mget_result\u001b[0m\u001b[1;33m(\u001b[0m\u001b[1;33m)\u001b[0m\u001b[1;33m\u001b[0m\u001b[1;33m\u001b[0m\u001b[0m\n\u001b[0m\u001b[0;32m   7769\u001b[0m \u001b[1;33m\u001b[0m\u001b[0m\n\u001b[0;32m   7770\u001b[0m     \u001b[1;32mdef\u001b[0m \u001b[0mapplymap\u001b[0m\u001b[1;33m(\u001b[0m\u001b[0mself\u001b[0m\u001b[1;33m,\u001b[0m \u001b[0mfunc\u001b[0m\u001b[1;33m,\u001b[0m \u001b[0mna_action\u001b[0m\u001b[1;33m:\u001b[0m \u001b[0mOptional\u001b[0m\u001b[1;33m[\u001b[0m\u001b[0mstr\u001b[0m\u001b[1;33m]\u001b[0m \u001b[1;33m=\u001b[0m \u001b[1;32mNone\u001b[0m\u001b[1;33m)\u001b[0m \u001b[1;33m->\u001b[0m \u001b[0mDataFrame\u001b[0m\u001b[1;33m:\u001b[0m\u001b[1;33m\u001b[0m\u001b[1;33m\u001b[0m\u001b[0m\n",
      "\u001b[1;32mC:\\ProgramData\\Anaconda3\\lib\\site-packages\\pandas\\core\\apply.py\u001b[0m in \u001b[0;36mget_result\u001b[1;34m(self)\u001b[0m\n\u001b[0;32m    183\u001b[0m             \u001b[1;32mreturn\u001b[0m \u001b[0mself\u001b[0m\u001b[1;33m.\u001b[0m\u001b[0mapply_raw\u001b[0m\u001b[1;33m(\u001b[0m\u001b[1;33m)\u001b[0m\u001b[1;33m\u001b[0m\u001b[1;33m\u001b[0m\u001b[0m\n\u001b[0;32m    184\u001b[0m \u001b[1;33m\u001b[0m\u001b[0m\n\u001b[1;32m--> 185\u001b[1;33m         \u001b[1;32mreturn\u001b[0m \u001b[0mself\u001b[0m\u001b[1;33m.\u001b[0m\u001b[0mapply_standard\u001b[0m\u001b[1;33m(\u001b[0m\u001b[1;33m)\u001b[0m\u001b[1;33m\u001b[0m\u001b[1;33m\u001b[0m\u001b[0m\n\u001b[0m\u001b[0;32m    186\u001b[0m \u001b[1;33m\u001b[0m\u001b[0m\n\u001b[0;32m    187\u001b[0m     \u001b[1;32mdef\u001b[0m \u001b[0mapply_empty_result\u001b[0m\u001b[1;33m(\u001b[0m\u001b[0mself\u001b[0m\u001b[1;33m)\u001b[0m\u001b[1;33m:\u001b[0m\u001b[1;33m\u001b[0m\u001b[1;33m\u001b[0m\u001b[0m\n",
      "\u001b[1;32mC:\\ProgramData\\Anaconda3\\lib\\site-packages\\pandas\\core\\apply.py\u001b[0m in \u001b[0;36mapply_standard\u001b[1;34m(self)\u001b[0m\n\u001b[0;32m    274\u001b[0m \u001b[1;33m\u001b[0m\u001b[0m\n\u001b[0;32m    275\u001b[0m     \u001b[1;32mdef\u001b[0m \u001b[0mapply_standard\u001b[0m\u001b[1;33m(\u001b[0m\u001b[0mself\u001b[0m\u001b[1;33m)\u001b[0m\u001b[1;33m:\u001b[0m\u001b[1;33m\u001b[0m\u001b[1;33m\u001b[0m\u001b[0m\n\u001b[1;32m--> 276\u001b[1;33m         \u001b[0mresults\u001b[0m\u001b[1;33m,\u001b[0m \u001b[0mres_index\u001b[0m \u001b[1;33m=\u001b[0m \u001b[0mself\u001b[0m\u001b[1;33m.\u001b[0m\u001b[0mapply_series_generator\u001b[0m\u001b[1;33m(\u001b[0m\u001b[1;33m)\u001b[0m\u001b[1;33m\u001b[0m\u001b[1;33m\u001b[0m\u001b[0m\n\u001b[0m\u001b[0;32m    277\u001b[0m \u001b[1;33m\u001b[0m\u001b[0m\n\u001b[0;32m    278\u001b[0m         \u001b[1;31m# wrap results\u001b[0m\u001b[1;33m\u001b[0m\u001b[1;33m\u001b[0m\u001b[1;33m\u001b[0m\u001b[0m\n",
      "\u001b[1;32mC:\\ProgramData\\Anaconda3\\lib\\site-packages\\pandas\\core\\apply.py\u001b[0m in \u001b[0;36mapply_series_generator\u001b[1;34m(self)\u001b[0m\n\u001b[0;32m    288\u001b[0m             \u001b[1;32mfor\u001b[0m \u001b[0mi\u001b[0m\u001b[1;33m,\u001b[0m \u001b[0mv\u001b[0m \u001b[1;32min\u001b[0m \u001b[0menumerate\u001b[0m\u001b[1;33m(\u001b[0m\u001b[0mseries_gen\u001b[0m\u001b[1;33m)\u001b[0m\u001b[1;33m:\u001b[0m\u001b[1;33m\u001b[0m\u001b[1;33m\u001b[0m\u001b[0m\n\u001b[0;32m    289\u001b[0m                 \u001b[1;31m# ignore SettingWithCopy here in case the user mutates\u001b[0m\u001b[1;33m\u001b[0m\u001b[1;33m\u001b[0m\u001b[1;33m\u001b[0m\u001b[0m\n\u001b[1;32m--> 290\u001b[1;33m                 \u001b[0mresults\u001b[0m\u001b[1;33m[\u001b[0m\u001b[0mi\u001b[0m\u001b[1;33m]\u001b[0m \u001b[1;33m=\u001b[0m \u001b[0mself\u001b[0m\u001b[1;33m.\u001b[0m\u001b[0mf\u001b[0m\u001b[1;33m(\u001b[0m\u001b[0mv\u001b[0m\u001b[1;33m)\u001b[0m\u001b[1;33m\u001b[0m\u001b[1;33m\u001b[0m\u001b[0m\n\u001b[0m\u001b[0;32m    291\u001b[0m                 \u001b[1;32mif\u001b[0m \u001b[0misinstance\u001b[0m\u001b[1;33m(\u001b[0m\u001b[0mresults\u001b[0m\u001b[1;33m[\u001b[0m\u001b[0mi\u001b[0m\u001b[1;33m]\u001b[0m\u001b[1;33m,\u001b[0m \u001b[0mABCSeries\u001b[0m\u001b[1;33m)\u001b[0m\u001b[1;33m:\u001b[0m\u001b[1;33m\u001b[0m\u001b[1;33m\u001b[0m\u001b[0m\n\u001b[0;32m    292\u001b[0m                     \u001b[1;31m# If we have a view on v, we need to make a copy because\u001b[0m\u001b[1;33m\u001b[0m\u001b[1;33m\u001b[0m\u001b[1;33m\u001b[0m\u001b[0m\n",
      "\u001b[1;32mC:\\ProgramData\\Anaconda3\\lib\\site-packages\\pandas\\core\\groupby\\generic.py\u001b[0m in \u001b[0;36m<lambda>\u001b[1;34m(x)\u001b[0m\n\u001b[0;32m   1409\u001b[0m             \u001b[0mfast_path\u001b[0m \u001b[1;33m=\u001b[0m \u001b[1;32mlambda\u001b[0m \u001b[0mgroup\u001b[0m\u001b[1;33m:\u001b[0m \u001b[0mfunc\u001b[0m\u001b[1;33m(\u001b[0m\u001b[0mgroup\u001b[0m\u001b[1;33m,\u001b[0m \u001b[1;33m*\u001b[0m\u001b[0margs\u001b[0m\u001b[1;33m,\u001b[0m \u001b[1;33m**\u001b[0m\u001b[0mkwargs\u001b[0m\u001b[1;33m)\u001b[0m\u001b[1;33m\u001b[0m\u001b[1;33m\u001b[0m\u001b[0m\n\u001b[0;32m   1410\u001b[0m             slow_path = lambda group: group.apply(\n\u001b[1;32m-> 1411\u001b[1;33m                 \u001b[1;32mlambda\u001b[0m \u001b[0mx\u001b[0m\u001b[1;33m:\u001b[0m \u001b[0mfunc\u001b[0m\u001b[1;33m(\u001b[0m\u001b[0mx\u001b[0m\u001b[1;33m,\u001b[0m \u001b[1;33m*\u001b[0m\u001b[0margs\u001b[0m\u001b[1;33m,\u001b[0m \u001b[1;33m**\u001b[0m\u001b[0mkwargs\u001b[0m\u001b[1;33m)\u001b[0m\u001b[1;33m,\u001b[0m \u001b[0maxis\u001b[0m\u001b[1;33m=\u001b[0m\u001b[0mself\u001b[0m\u001b[1;33m.\u001b[0m\u001b[0maxis\u001b[0m\u001b[1;33m\u001b[0m\u001b[1;33m\u001b[0m\u001b[0m\n\u001b[0m\u001b[0;32m   1412\u001b[0m             )\n\u001b[0;32m   1413\u001b[0m         \u001b[1;32mreturn\u001b[0m \u001b[0mfast_path\u001b[0m\u001b[1;33m,\u001b[0m \u001b[0mslow_path\u001b[0m\u001b[1;33m\u001b[0m\u001b[1;33m\u001b[0m\u001b[0m\n",
      "\u001b[1;32m<ipython-input-29-41a95f36e85c>\u001b[0m in \u001b[0;36m<lambda>\u001b[1;34m(x)\u001b[0m\n\u001b[0;32m     55\u001b[0m \u001b[1;31m# 代码 4-63\u001b[0m\u001b[1;33m\u001b[0m\u001b[1;33m\u001b[0m\u001b[1;33m\u001b[0m\u001b[0m\n\u001b[0;32m     56\u001b[0m print('订单详情表分组后实现组内离差标准化后前五行为：\\n', \n\u001b[1;32m---> 57\u001b[1;33m       detailGroup.transform(lambda x:(x.mean()\n\u001b[0m\u001b[0;32m     58\u001b[0m             -x.min())/(x.max()-x.min())).head())\n",
      "\u001b[1;31mZeroDivisionError\u001b[0m: float division by zero"
     ]
    }
   ],
   "source": [
    "# 代码 4-56\n",
    "##自定义函数求两倍的和\n",
    "def DoubleSum(data):\n",
    "    s = data.sum()*2\n",
    "    return s\n",
    "print('菜品订单详情表的菜品销量两倍总和为：','\\n',\n",
    "      detail.agg({'counts':DoubleSum},axis = 0))\n",
    "      \n",
    "\n",
    "# 代码 4-57\n",
    "##自定义函数求两倍的和\n",
    "def DoubleSum1(data):\n",
    "    s = np.sum(data)*2\n",
    "    return s\n",
    "print('订单详情表的菜品销量两倍总和为：\\n',\n",
    "      detail.agg({'counts':DoubleSum1},axis = 0).head())\n",
    "\n",
    "print('订单详情表的菜品销量与售价的和的两倍为：\\n',\n",
    "      detail[['counts','amounts']].agg(DoubleSum1))\n",
    "\n",
    "\n",
    "# 代码 4-58\n",
    "print('订单详情表分组后前3组每组的均值为：\\n', \n",
    "      detailGroup.agg(np.mean).head(3))\n",
    "\n",
    "print('订单详情表分组后前3组每组的标准差为：\\n', \n",
    "      detailGroup.agg(np.std).head(3))\n",
    "\n",
    "\n",
    "\n",
    "# 代码 4-59\n",
    "print('订单详情分组前3组每组菜品总数和售价均值为：\\n', \n",
    "      detailGroup.agg({'counts':np.sum,\n",
    "            'amounts':np.mean}).head(3))\n",
    "\n",
    "\n",
    "\n",
    "# 代码 4-60\n",
    "print('订单详情表的菜品销量与售价的均值为：\\n',\n",
    "      detail[['counts','amounts']].apply(np.mean))\n",
    "\n",
    "\n",
    "# 代码 4-61\n",
    "print('订单详情表分组后前3组每组的均值为：','\\n', detailGroup.apply(np.mean).head(3))\n",
    "print('订单详情表分组后前3组每组的标准差为：','\\n', detailGroup.apply(np.std).head(3))\n",
    "\n",
    "\n",
    "# 代码 4-62\n",
    "print('订单详情表的菜品销量与售价的两倍为：\\n',\n",
    "      detail[['counts','amounts']].transform(\n",
    "            lambda x:x*2).head(4))\n",
    "\n",
    "\n",
    "\n",
    "# 代码 4-63\n",
    "print('订单详情表分组后实现组内离差标准化后前五行为：\\n', \n",
    "      detailGroup.transform(lambda x:(x.mean()\n",
    "            -x.min())/(x.max()-x.min())).head())"
   ]
  },
  {
   "cell_type": "code",
   "execution_count": 30,
   "id": "c3330305",
   "metadata": {},
   "outputs": [
    {
     "name": "stdout",
     "output_type": "stream",
     "text": [
      "订单详情表前五组每日菜品均价为：\n",
      "             amounts\n",
      "order_id           \n",
      "137       32.333333\n",
      "165       52.944444\n",
      "166       48.200000\n",
      "171       36.285714\n",
      "177       34.250000\n",
      "订单详情表前五组每日菜品售价中位数为：\n",
      "           amounts\n",
      "order_id         \n",
      "137          26.5\n",
      "165          30.5\n",
      "166          48.0\n",
      "171          38.0\n",
      "177          36.5\n",
      "订单详情表前五组每日菜品售出数目为：\n",
      " order_id\n",
      "137     9\n",
      "165    21\n",
      "166     7\n",
      "171    10\n",
      "177     4\n",
      "Name: counts, dtype: int64\n"
     ]
    }
   ],
   "source": [
    "# 代码 4-65\n",
    "dayMean = detailGroup.agg({'amounts':np.mean})\n",
    "print('订单详情表前五组每日菜品均价为：\\n',dayMean.head())\n",
    "\n",
    "dayMedian = detailGroup.agg({'amounts':np.median})\n",
    "print('订单详情表前五组每日菜品售价中位数为：\\n',dayMedian.head())\n",
    "\n",
    "\n",
    "# 代码 4-66\n",
    "daySaleSum = detailGroup.apply(np.sum)['counts']\n",
    "print('订单详情表前五组每日菜品售出数目为：\\n',daySaleSum.head())"
   ]
  },
  {
   "cell_type": "code",
   "execution_count": 31,
   "id": "a6ca5d3d",
   "metadata": {
    "scrolled": true
   },
   "outputs": [
    {
     "name": "stdout",
     "output_type": "stream",
     "text": [
      "以order_id作为分组键创建的订单销量与售价总和透视表为：\n",
      "           amounts  counts\n",
      "order_id                 \n",
      "137           194       9\n",
      "165           953      21\n",
      "166           241       7\n",
      "171           254      10\n",
      "177           137       4\n",
      "以order_id和dishes_name作为分组键创建的订单销量与售价总和透视表为：\n",
      "                       amounts  counts\n",
      "order_id dishes_name                 \n",
      "137       42度海之蓝            0       0\n",
      "          北冰洋汽水             0       0\n",
      "         38度剑南春             0       0\n",
      "         50度古井贡酒            0       0\n",
      "         52度泸州老窖            0       0\n",
      "以order_id和dishes_name作为行列分组键创建的透视表前5行4列为：\n",
      "             amounts                        \n",
      "dishes_name  42度海之蓝  北冰洋汽水  38度剑南春  50度古井贡酒\n",
      "order_id                                   \n",
      "137               0       0       0       0\n",
      "165               0       0      80       0\n",
      "166               0       0       0       0\n",
      "171               0       0       0       0\n",
      "177               0       0       0       0\n"
     ]
    }
   ],
   "source": [
    "# 代码 4-68\n",
    "detailPivot1 = pd.pivot_table(detail[[\n",
    "      'order_id','counts','amounts']],\n",
    "      index = 'order_id',aggfunc = np.sum)\n",
    "print('以order_id作为分组键创建的订单销量与售价总和透视表为：\\n',\n",
    "       detailPivot1.head())\n",
    "\n",
    "\n",
    "# 代码 4-69\n",
    "detailPivot2 = pd.pivot_table(detail[[\n",
    "      'order_id','dishes_name',\n",
    "      'counts','amounts']],\n",
    "      index = ['order_id','dishes_name'],\n",
    "      aggfunc = np.sum)\n",
    "print('以order_id和dishes_name作为分组键创建的订单\\\n",
    "销量与售价总和透视表为：\\n',detailPivot2.head())\n",
    "\n",
    "\n",
    "\n",
    "# 代码 4-70\n",
    "detailPivot3 = pd.pivot_table(detail[[\n",
    "      'order_id','dishes_name','counts','amounts']],\n",
    "      index = 'order_id',\n",
    "      columns = 'dishes_name',\n",
    "      aggfunc = np.sum)\n",
    "print('以order_id和dishes_name作为行列分组键创建的\\\n",
    "透视表前5行4列为：\\n',detailPivot3.iloc[:5,:4])"
   ]
  },
  {
   "cell_type": "code",
   "execution_count": 32,
   "id": "e9ecee72",
   "metadata": {},
   "outputs": [
    {
     "name": "stdout",
     "output_type": "stream",
     "text": [
      "以order_id作为行分组键counts作为值创建的透视表前5行为：\n",
      "           counts\n",
      "order_id        \n",
      "137            9\n",
      "165           21\n",
      "166            7\n",
      "171           10\n",
      "177            4\n",
      "空值填0后以order_id和dishes_name为行列分组键创建透视表前5行4列为：\n",
      "             amounts                        \n",
      "dishes_name  42度海之蓝  北冰洋汽水  38度剑南春  50度古井贡酒\n",
      "order_id                                   \n",
      "137               0       0       0       0\n",
      "165               0       0      80       0\n",
      "166               0       0       0       0\n",
      "171               0       0       0       0\n",
      "177               0       0       0       0\n",
      "添加margins后以order_id和dishes_name为分组键的透视表前5行后4列为：\n",
      "             counts                  \n",
      "dishes_name 黄油曲奇饼干 黄花菜炒木耳 黑米恋上葡萄 All\n",
      "order_id                            \n",
      "137              0      0      0   9\n",
      "165              0      1      0  21\n",
      "166              0      0      0   7\n",
      "171              0      0      0  10\n",
      "177              0      0      0   4\n",
      "以order_id和dishes_name为分组键counts为值的透视表前5行5列为：\n",
      " dishes_name   42度海之蓝   北冰洋汽水   38度剑南春   50度古井贡酒  52度泸州老窖 \n",
      "order_id                                                 \n",
      "137                0        0        0        0         0\n",
      "165                0        0        1        0         0\n",
      "166                0        0        0        0         0\n",
      "171                0        0        0        0         0\n",
      "177                0        0        0        0         0\n"
     ]
    }
   ],
   "source": [
    "# 代码 4-71\n",
    "detailPivot4 = pd.pivot_table(detail[[\n",
    "      'order_id','dishes_name','counts','amounts']],\n",
    "      index = 'order_id',\n",
    "      values = 'counts',\n",
    "      aggfunc = np.sum)\n",
    "print('以order_id作为行分组键counts作为值创建的\\\n",
    "透视表前5行为：\\n',detailPivot4.head())\n",
    "\n",
    "\n",
    "\n",
    "# 代码 4-72\n",
    "detailPivot5 = pd.pivot_table(detail[[\n",
    "      'order_id','dishes_name','counts','amounts']],\n",
    "      index = 'order_id',\n",
    "      columns = 'dishes_name',\n",
    "      aggfunc = np.sum,fill_value = 0)\n",
    "print('空值填0后以order_id和dishes_name为行列分组键\\\n",
    "创建透视表前5行4列为：\\n',detailPivot5.iloc[:5,:4])\n",
    "\n",
    "\n",
    "\n",
    "# 代码 4-73\n",
    "detailPivot6 = pd.pivot_table(detail[[\n",
    "      'order_id','dishes_name','counts','amounts']],\n",
    "      index = 'order_id',\n",
    "      columns = 'dishes_name',\n",
    "      aggfunc = np.sum,fill_value = 0,\n",
    "      margins = True)\n",
    "print('添加margins后以order_id和dishes_name为分组键\\\n",
    "的透视表前5行后4列为：\\n',detailPivot6.iloc[:5,-4:])\n",
    "\n",
    "\n",
    "\n",
    "# 代码 4-74\n",
    "detailCross = pd.crosstab(\n",
    "      index=detail['order_id'],\n",
    "      columns=detail['dishes_name'],\n",
    "      values = detail['counts'],aggfunc = np.sum)\n",
    "print('以order_id和dishes_name为分组键\\\n",
    "counts为值的透视表前5行5列为：\\n',detailCross.iloc[:5,:5])"
   ]
  },
  {
   "cell_type": "code",
   "execution_count": 33,
   "id": "469a9efe",
   "metadata": {},
   "outputs": [
    {
     "name": "stdout",
     "output_type": "stream",
     "text": [
      "订单详情表单日菜品成交总额与总数透视表前5行5列为：\n",
      "             amounts  counts\n",
      "date                       \n",
      "2016-08-01     9366     233\n",
      "2016-08-02     6125     151\n",
      "2016-08-03     6890     192\n",
      "2016-08-04     7549     169\n",
      "2016-08-05     8671     224\n",
      "订单详情表单日单个菜品成交总额交叉表后5行5列为：\n",
      " dishes_name  黄尾袋鼠西拉子红葡萄酒  黄油曲奇饼干  黄花菜炒木耳  黑米恋上葡萄     All\n",
      "date                                                    \n",
      "2016-08-07           230      32     105      99   31306\n",
      "2016-08-08            46       0       0      33    6532\n",
      "2016-08-09           138       0      35      99    7155\n",
      "2016-08-10            46       0      70      33   10231\n",
      "All                  736      80     525     561  125992\n"
     ]
    }
   ],
   "source": [
    "detail['place_order_time'] = pd.to_datetime(\n",
    "      detail['place_order_time'])\n",
    "detail['date'] = [i.date() for i in detail['place_order_time']]\n",
    "PivotDetail = pd.pivot_table(detail[[\n",
    "      'date','dishes_name','counts','amounts']],\n",
    "      index ='date',aggfunc = np.sum,\n",
    "      margins = True)\n",
    "print('订单详情表单日菜品成交总额与总数透视表前5行5列为：\\n',\n",
    "      PivotDetail.head())\n",
    "\n",
    "\n",
    "\n",
    "# 代码 4-76\n",
    "CrossDetail = pd.crosstab(\n",
    "      index=detail['date'],columns=detail['dishes_name'],\n",
    "      values = detail['amounts'],\n",
    "      aggfunc = np.sum,margins = True)\n",
    "print('订单详情表单日单个菜品成交总额交叉表后5行5列为：\\n',\n",
    "      CrossDetail.iloc[-5:,-5:])"
   ]
  },
  {
   "cell_type": "code",
   "execution_count": 14,
   "id": "9e5bfc73",
   "metadata": {},
   "outputs": [
    {
     "name": "stdout",
     "output_type": "stream",
     "text": [
      "进行转换前订单信息表lock_time的类型为： object\n",
      "进行转换后订单信息表lock_time的类型为： datetime64[ns]\n"
     ]
    }
   ],
   "source": [
    "print('进行转换前订单信息表lock_time的类型为：', \n",
    "      order['lock_time'].dtypes)\n",
    "order['lock_time'] = pd.to_datetime(order['lock_time'])\n",
    "print('进行转换后订单信息表lock_time的类型为：', \n",
    "      order['lock_time'].dtypes)\n"
   ]
  },
  {
   "cell_type": "code",
   "execution_count": 15,
   "id": "f73c9c69",
   "metadata": {},
   "outputs": [
    {
     "name": "stdout",
     "output_type": "stream",
     "text": [
      "最小时间为： 1677-09-21 00:12:43.145225\n",
      "最大时间为： 2262-04-11 23:47:16.854775807\n"
     ]
    }
   ],
   "source": [
    "print('最小时间为：', pd.Timestamp.min)\n",
    "print('最大时间为：', pd.Timestamp.max)\n"
   ]
  },
  {
   "cell_type": "code",
   "execution_count": 17,
   "id": "14496f44",
   "metadata": {},
   "outputs": [
    {
     "name": "stdout",
     "output_type": "stream",
     "text": [
      "lock_time中的年份数据前5个为： [2016, 2016, 2016, 2016, 2016]\n",
      "lock_time中的月份数据前5个为： [8, 8, 8, 8, 8]\n",
      "lock_time中的日期数据前5个为： [1, 1, 1, 1, 1]\n",
      "lock_time中的星期名称数据前5个为： [<built-in method weekday of Timestamp object at 0x000001E783B12F90>, <built-in method weekday of Timestamp object at 0x000001E783B12F20>, <built-in method weekday of Timestamp object at 0x000001E783B12EB0>, <built-in method weekday of Timestamp object at 0x000001E783B12E40>, <built-in method weekday of Timestamp object at 0x000001E783B12DD0>]\n"
     ]
    }
   ],
   "source": [
    "year1 = [i.year for i in order['lock_time']]\n",
    "print('lock_time中的年份数据前5个为：',year1[:5])\n",
    "month1 = [i.month for i in order['lock_time']]\n",
    "print('lock_time中的月份数据前5个为：',month1[:5])\n",
    "day1 = [i.day for i in order['lock_time']]\n",
    "print('lock_time中的日期数据前5个为：',day1[:5])\n",
    "weekday1 = [i.weekday for i in order['lock_time']]\n",
    "print('lock_time中的星期名称数据前5个为：',weekday1[:5])"
   ]
  },
  {
   "cell_type": "code",
   "execution_count": null,
   "id": "81a6da03",
   "metadata": {},
   "outputs": [],
   "source": []
  }
 ],
 "metadata": {
  "kernelspec": {
   "display_name": "Python 3 (ipykernel)",
   "language": "python",
   "name": "python3"
  },
  "language_info": {
   "codemirror_mode": {
    "name": "ipython",
    "version": 3
   },
   "file_extension": ".py",
   "mimetype": "text/x-python",
   "name": "python",
   "nbconvert_exporter": "python",
   "pygments_lexer": "ipython3",
   "version": "3.10.7"
  }
 },
 "nbformat": 4,
 "nbformat_minor": 5
}
