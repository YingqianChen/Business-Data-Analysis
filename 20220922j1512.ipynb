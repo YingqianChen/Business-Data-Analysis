{
 "cells": [
  {
   "cell_type": "code",
   "execution_count": 2,
   "id": "4a4866a5",
   "metadata": {},
   "outputs": [
    {
     "name": "stdout",
     "output_type": "stream",
     "text": [
      "你好Python\n"
     ]
    }
   ],
   "source": [
    "string0920 = \"你好Python\"\n",
    "\n",
    "print(string0920)"
   ]
  },
  {
   "cell_type": "code",
   "execution_count": 11,
   "id": "54fe2670",
   "metadata": {},
   "outputs": [
    {
     "name": "stdout",
     "output_type": "stream",
     "text": [
      "你好Python\n"
     ]
    }
   ],
   "source": [
    "string0921 = '你好Python'\n",
    "\n",
    "print(string0921)"
   ]
  },
  {
   "cell_type": "code",
   "execution_count": 3,
   "id": "55222ed4",
   "metadata": {},
   "outputs": [
    {
     "name": "stdout",
     "output_type": "stream",
     "text": [
      "你\n"
     ]
    }
   ],
   "source": [
    "print(string0920[0])"
   ]
  },
  {
   "cell_type": "code",
   "execution_count": 4,
   "id": "9721b77b",
   "metadata": {},
   "outputs": [
    {
     "name": "stdout",
     "output_type": "stream",
     "text": [
      "P\n"
     ]
    }
   ],
   "source": [
    "print(string0920[2])"
   ]
  },
  {
   "cell_type": "code",
   "execution_count": 6,
   "id": "f044b20c",
   "metadata": {},
   "outputs": [
    {
     "name": "stdout",
     "output_type": "stream",
     "text": [
      "Python\n"
     ]
    }
   ],
   "source": [
    "print(string0920[2:8])"
   ]
  },
  {
   "cell_type": "code",
   "execution_count": 7,
   "id": "4011e081",
   "metadata": {},
   "outputs": [
    {
     "name": "stdout",
     "output_type": "stream",
     "text": [
      "Python\n"
     ]
    }
   ],
   "source": [
    "print(string0920[2:])"
   ]
  },
  {
   "cell_type": "code",
   "execution_count": 8,
   "id": "a8a9405c",
   "metadata": {},
   "outputs": [
    {
     "name": "stdout",
     "output_type": "stream",
     "text": [
      "你好\n"
     ]
    }
   ],
   "source": [
    "print(string0920[:2])"
   ]
  },
  {
   "cell_type": "code",
   "execution_count": 9,
   "id": "39fec769",
   "metadata": {},
   "outputs": [
    {
     "name": "stdout",
     "output_type": "stream",
     "text": [
      "你好Pyth\n"
     ]
    }
   ],
   "source": [
    "print(string0920[:-2])"
   ]
  },
  {
   "cell_type": "code",
   "execution_count": 10,
   "id": "74d80739",
   "metadata": {},
   "outputs": [
    {
     "name": "stdout",
     "output_type": "stream",
     "text": [
      "Pyth\n"
     ]
    }
   ],
   "source": [
    "print(string0920[2:-2])"
   ]
  },
  {
   "cell_type": "code",
   "execution_count": 21,
   "id": "c3509fd9",
   "metadata": {},
   "outputs": [
    {
     "name": "stdout",
     "output_type": "stream",
     "text": [
      "['600000', '浦发银行', 11.52, 11.54, 11.61, 11.4]\n"
     ]
    }
   ],
   "source": [
    "stock_name = ['600000','浦发银行']\n",
    "stock_price = [11.52, 11.54, 11.61, 11.40]\n",
    "\n",
    "stock_info = stock_name + stock_price\n",
    "print(stock_info)"
   ]
  },
  {
   "cell_type": "code",
   "execution_count": 25,
   "id": "51e3ddb8",
   "metadata": {},
   "outputs": [
    {
     "data": {
      "text/plain": [
       "['600000', '浦发银行', 11.52, 11.54, 11.61, 11.4, 'XMU', 'XMU', 'XMU']"
      ]
     },
     "execution_count": 25,
     "metadata": {},
     "output_type": "execute_result"
    }
   ],
   "source": [
    "stock_info.append('XMU')\n",
    "stock_info"
   ]
  },
  {
   "cell_type": "code",
   "execution_count": 26,
   "id": "b59e1aa9",
   "metadata": {},
   "outputs": [
    {
     "name": "stdout",
     "output_type": "stream",
     "text": [
      "['600000', '浦发银行', 11.52, 11.54, 11.61, 11.4, 'XMU', 'XMU']\n"
     ]
    }
   ],
   "source": [
    "del stock_info[7]\n",
    "print(stock_info)"
   ]
  },
  {
   "cell_type": "code",
   "execution_count": 27,
   "id": "487641c6",
   "metadata": {},
   "outputs": [
    {
     "name": "stdout",
     "output_type": "stream",
     "text": [
      "['600000', '浦发银行', 11.52, 11.54, 11.61, 11.4, 'XMU']\n"
     ]
    }
   ],
   "source": [
    "stock_info.pop()\n",
    "print(stock_info)"
   ]
  },
  {
   "cell_type": "code",
   "execution_count": 28,
   "id": "fc139835",
   "metadata": {},
   "outputs": [
    {
     "name": "stdout",
     "output_type": "stream",
     "text": [
      "['600000', '浦发银行', 11.52, 11.54, 11.61, 11.4]\n"
     ]
    }
   ],
   "source": [
    "stock_info.pop()\n",
    "print(stock_info)"
   ]
  },
  {
   "cell_type": "code",
   "execution_count": 29,
   "id": "0764cb25",
   "metadata": {},
   "outputs": [
    {
     "name": "stdout",
     "output_type": "stream",
     "text": [
      "['600000', '浦发银行', 11.52, 11.54, 11.61]\n"
     ]
    }
   ],
   "source": [
    "stock_info.pop()\n",
    "print(stock_info)"
   ]
  },
  {
   "cell_type": "code",
   "execution_count": 30,
   "id": "466f4ec1",
   "metadata": {},
   "outputs": [
    {
     "name": "stdout",
     "output_type": "stream",
     "text": [
      "['600000', '浦发银行', 11.52, 11.54, 11.61, 11.4]\n"
     ]
    }
   ],
   "source": [
    "stock_info.append(11.4)\n",
    "print(stock_info)"
   ]
  },
  {
   "cell_type": "code",
   "execution_count": 31,
   "id": "fdf1d932",
   "metadata": {},
   "outputs": [
    {
     "data": {
      "text/plain": [
       "1"
      ]
     },
     "execution_count": 31,
     "metadata": {},
     "output_type": "execute_result"
    }
   ],
   "source": [
    "stock_info.count('浦发银行')"
   ]
  },
  {
   "cell_type": "code",
   "execution_count": 2,
   "id": "1aa45e66",
   "metadata": {},
   "outputs": [
    {
     "name": "stdout",
     "output_type": "stream",
     "text": [
      "['600000', 11.52, 11.54, 11.61, 11.4]\n"
     ]
    }
   ],
   "source": [
    "del stock_info[1]\n",
    "print(stock_info)"
   ]
  },
  {
   "cell_type": "code",
   "execution_count": 3,
   "id": "2a189788",
   "metadata": {},
   "outputs": [
    {
     "name": "stdout",
     "output_type": "stream",
     "text": [
      "['600000', 11.52, 11.54, 11.61, 11.4, '浦发银行']\n"
     ]
    }
   ],
   "source": [
    "stock_info.append('浦发银行')\n",
    "print(stock_info)"
   ]
  },
  {
   "cell_type": "code",
   "execution_count": 21,
   "id": "a3ae8a18",
   "metadata": {},
   "outputs": [
    {
     "name": "stdout",
     "output_type": "stream",
     "text": [
      "['666666', 11.52, 11.54, 11.61, 11.4]\n"
     ]
    }
   ],
   "source": [
    "stock_info[0]='666666'\n",
    "print(stock_info)"
   ]
  },
  {
   "cell_type": "code",
   "execution_count": 13,
   "id": "da17da69",
   "metadata": {},
   "outputs": [
    {
     "name": "stdout",
     "output_type": "stream",
     "text": [
      "['600000', '浦发银行', '600000', '浦发银行', '600000', '浦发银行']\n"
     ]
    }
   ],
   "source": [
    "print(['600000', '浦发银行'] * 3)"
   ]
  },
  {
   "cell_type": "code",
   "execution_count": 14,
   "id": "69767d63",
   "metadata": {},
   "outputs": [
    {
     "data": {
      "text/plain": [
       "True"
      ]
     },
     "execution_count": 14,
     "metadata": {},
     "output_type": "execute_result"
    }
   ],
   "source": [
    "email_subject = '<广告> 休息一下，看看有没有感兴趣的产品'\n",
    "'<广告>' in email_subject\n"
   ]
  },
  {
   "cell_type": "code",
   "execution_count": 18,
   "id": "24955bcd",
   "metadata": {},
   "outputs": [
    {
     "name": "stdout",
     "output_type": "stream",
     "text": [
      "('浦发银行', '招商银行', '保利地产', '平安银行')\n"
     ]
    }
   ],
   "source": [
    "bank_name=('浦发银行', '招商银行', '保利地产', '平安银行')\n",
    "print(bank_name)"
   ]
  },
  {
   "cell_type": "code",
   "execution_count": 22,
   "id": "2878f1ef",
   "metadata": {},
   "outputs": [
    {
     "name": "stdout",
     "output_type": "stream",
     "text": [
      "招商银行\n"
     ]
    }
   ],
   "source": [
    "print(bank_name[1])"
   ]
  },
  {
   "cell_type": "code",
   "execution_count": 23,
   "id": "b4bb0bcd",
   "metadata": {},
   "outputs": [
    {
     "name": "stdout",
     "output_type": "stream",
     "text": [
      "('招商银行', '保利地产')\n"
     ]
    }
   ],
   "source": [
    "print(bank_name[1:-1])"
   ]
  },
  {
   "cell_type": "code",
   "execution_count": 19,
   "id": "c993d500",
   "metadata": {
    "scrolled": true
   },
   "outputs": [
    {
     "ename": "TypeError",
     "evalue": "'tuple' object does not support item assignment",
     "output_type": "error",
     "traceback": [
      "\u001b[1;31m---------------------------------------------------------------------------\u001b[0m",
      "\u001b[1;31mTypeError\u001b[0m                                 Traceback (most recent call last)",
      "\u001b[1;32m<ipython-input-19-10c2e9543a3d>\u001b[0m in \u001b[0;36m<module>\u001b[1;34m\u001b[0m\n\u001b[1;32m----> 1\u001b[1;33m \u001b[0mbank_name\u001b[0m\u001b[1;33m[\u001b[0m\u001b[1;36m1\u001b[0m\u001b[1;33m]\u001b[0m \u001b[1;33m=\u001b[0m \u001b[1;34m'农业银行'\u001b[0m\u001b[1;33m\u001b[0m\u001b[1;33m\u001b[0m\u001b[0m\n\u001b[0m",
      "\u001b[1;31mTypeError\u001b[0m: 'tuple' object does not support item assignment"
     ]
    }
   ],
   "source": [
    "bank_name[1] = '农业银行'\n"
   ]
  },
  {
   "cell_type": "code",
   "execution_count": 24,
   "id": "9d729c39",
   "metadata": {},
   "outputs": [
    {
     "name": "stdout",
     "output_type": "stream",
     "text": [
      "(['活期存款', 0.003], ['整存整取一年', 0.0195], ['整存整取二年', 0.024], ['整存整取三年', 0.028])\n"
     ]
    }
   ],
   "source": [
    "rate_info = (['活期存款',0.0030],['整存整取一年',0.0195],\n",
    "             ['整存整取二年',0.0240],['整存整取三年',0.0280])\n",
    "\n",
    "print(rate_info)\n"
   ]
  },
  {
   "cell_type": "code",
   "execution_count": 25,
   "id": "9994264f",
   "metadata": {},
   "outputs": [
    {
     "name": "stdout",
     "output_type": "stream",
     "text": [
      "(['活期存款', 0.003], ['整存整取一年', 0.02], ['整存整取二年', 0.024], ['整存整取三年', 0.028])\n"
     ]
    }
   ],
   "source": [
    "rate_info[1][1] = 0.0200\n",
    "print(rate_info)"
   ]
  },
  {
   "cell_type": "code",
   "execution_count": 1,
   "id": "20196aed",
   "metadata": {},
   "outputs": [
    {
     "name": "stdout",
     "output_type": "stream",
     "text": [
      "请输入商品价格：-2\n",
      "输入价格有误，已更正为 0 元 \n",
      "商品价格是：0.00 元 \n"
     ]
    }
   ],
   "source": [
    "price = float(input('请输入商品价格：'))\n",
    "\n",
    "if price < 0:\n",
    "    price = 0 \n",
    "    print('输入价格有误，已更正为 0 元 ') \n",
    "\n",
    "print('商品价格是：{:.2f} 元 '.format(price))\n"
   ]
  },
  {
   "cell_type": "code",
   "execution_count": 2,
   "id": "4ca53941",
   "metadata": {},
   "outputs": [
    {
     "data": {
      "text/plain": [
       "int"
      ]
     },
     "execution_count": 2,
     "metadata": {},
     "output_type": "execute_result"
    }
   ],
   "source": [
    "type(price)"
   ]
  },
  {
   "cell_type": "code",
   "execution_count": 3,
   "id": "cbcb86e0",
   "metadata": {
    "scrolled": true
   },
   "outputs": [
    {
     "name": "stdout",
     "output_type": "stream",
     "text": [
      "0\n"
     ]
    }
   ],
   "source": [
    "print(price)"
   ]
  },
  {
   "cell_type": "code",
   "execution_count": 1,
   "id": "f66d8bd7",
   "metadata": {},
   "outputs": [
    {
     "name": "stdout",
     "output_type": "stream",
     "text": [
      "请输入商品价格：25.07\n",
      "商品价格是：25.07 元 \n"
     ]
    }
   ],
   "source": [
    "price1 = float(input('请输入商品价格：'))\n",
    "\n",
    "if price1 < 0:\n",
    "  price1 = 0 \n",
    "  print('输入价格有误，已更正为 0 元 ') \n",
    "\n",
    "print('商品价格是：{:.2f} 元 '.format(price1))"
   ]
  },
  {
   "cell_type": "code",
   "execution_count": 2,
   "id": "c579ecbb",
   "metadata": {},
   "outputs": [
    {
     "name": "stdout",
     "output_type": "stream",
     "text": [
      "25.07\n"
     ]
    }
   ],
   "source": [
    "print(price1)"
   ]
  },
  {
   "cell_type": "code",
   "execution_count": 3,
   "id": "ed48c0dc",
   "metadata": {},
   "outputs": [
    {
     "name": "stdout",
     "output_type": "stream",
     "text": [
      "25.07\n"
     ]
    }
   ],
   "source": [
    "strprice=str(price1)\n",
    "print(strprice)"
   ]
  },
  {
   "cell_type": "code",
   "execution_count": 4,
   "id": "6c19c680",
   "metadata": {},
   "outputs": [
    {
     "name": "stdout",
     "output_type": "stream",
     "text": [
      "{'浦发银行', '建设银行', '农业银行', '招商银行'}\n"
     ]
    }
   ],
   "source": [
    "print(set(['浦发银行','招商银行','农业银行','建设银行']))"
   ]
  },
  {
   "cell_type": "code",
   "execution_count": 5,
   "id": "8ae77220",
   "metadata": {},
   "outputs": [
    {
     "data": {
      "text/plain": [
       "{'中国银行', '农业银行', '工商银行', '建设银行', '招商银行', '浦发银行'}"
      ]
     },
     "execution_count": 5,
     "metadata": {},
     "output_type": "execute_result"
    }
   ],
   "source": [
    "stock_name_set1 = {'建设银行', '浦发银行', '招商银行', '农业银行'}\n",
    "stock_name_set2 = {'工商银行', '中国银行', '招商银行', '农业银行'}\n",
    "\n",
    "stock_name_set1 | stock_name_set2\n"
   ]
  },
  {
   "cell_type": "code",
   "execution_count": 16,
   "id": "a9b6f44c",
   "metadata": {},
   "outputs": [
    {
     "ename": "TypeError",
     "evalue": "'set' object is not subscriptable",
     "output_type": "error",
     "traceback": [
      "\u001b[1;31m---------------------------------------------------------------------------\u001b[0m",
      "\u001b[1;31mTypeError\u001b[0m                                 Traceback (most recent call last)",
      "\u001b[1;32m<ipython-input-16-03a8d243a7e7>\u001b[0m in \u001b[0;36m<module>\u001b[1;34m\u001b[0m\n\u001b[1;32m----> 1\u001b[1;33m \u001b[0mprint\u001b[0m\u001b[1;33m(\u001b[0m\u001b[0mstock_name_set1\u001b[0m\u001b[1;33m[\u001b[0m\u001b[1;34m'浦发银行'\u001b[0m\u001b[1;33m]\u001b[0m\u001b[1;33m)\u001b[0m\u001b[1;33m\u001b[0m\u001b[1;33m\u001b[0m\u001b[0m\n\u001b[0m",
      "\u001b[1;31mTypeError\u001b[0m: 'set' object is not subscriptable"
     ]
    }
   ],
   "source": [
    "print(stock_name_set1['浦发银行'])"
   ]
  },
  {
   "cell_type": "code",
   "execution_count": 6,
   "id": "e4f1a417",
   "metadata": {},
   "outputs": [
    {
     "data": {
      "text/plain": [
       "{'建设银行', '浦发银行'}"
      ]
     },
     "execution_count": 6,
     "metadata": {},
     "output_type": "execute_result"
    }
   ],
   "source": [
    "stock_name_set1-stock_name_set2"
   ]
  },
  {
   "cell_type": "code",
   "execution_count": 13,
   "id": "be1b32b7",
   "metadata": {},
   "outputs": [
    {
     "name": "stdout",
     "output_type": "stream",
     "text": [
      "{'600000': '浦发银行', '600036': '招商银行', '600048': '保利地产', '000001': '平安银行'}\n"
     ]
    }
   ],
   "source": [
    "stock_dic = {'600000':'浦发银行','600036':'招商银行', '600048':'保利地产','000001':'平安银行'}\n",
    "print(stock_dic)"
   ]
  },
  {
   "cell_type": "code",
   "execution_count": 14,
   "id": "a9e8256e",
   "metadata": {},
   "outputs": [
    {
     "name": "stdout",
     "output_type": "stream",
     "text": [
      "浦发银行\n"
     ]
    }
   ],
   "source": [
    "print(stock_dic['600000'])"
   ]
  },
  {
   "cell_type": "code",
   "execution_count": 15,
   "id": "351f8728",
   "metadata": {
    "scrolled": true
   },
   "outputs": [
    {
     "ename": "KeyError",
     "evalue": "'浦发银行'",
     "output_type": "error",
     "traceback": [
      "\u001b[1;31m---------------------------------------------------------------------------\u001b[0m",
      "\u001b[1;31mKeyError\u001b[0m                                  Traceback (most recent call last)",
      "\u001b[1;32m<ipython-input-15-ac060cc74522>\u001b[0m in \u001b[0;36m<module>\u001b[1;34m\u001b[0m\n\u001b[1;32m----> 1\u001b[1;33m \u001b[0mprint\u001b[0m\u001b[1;33m(\u001b[0m\u001b[0mstock_dic\u001b[0m\u001b[1;33m[\u001b[0m\u001b[1;34m'浦发银行'\u001b[0m\u001b[1;33m]\u001b[0m\u001b[1;33m)\u001b[0m\u001b[1;33m\u001b[0m\u001b[1;33m\u001b[0m\u001b[0m\n\u001b[0m",
      "\u001b[1;31mKeyError\u001b[0m: '浦发银行'"
     ]
    }
   ],
   "source": [
    "print(stock_dic['浦发银行'])"
   ]
  },
  {
   "cell_type": "code",
   "execution_count": 18,
   "id": "98a892ed",
   "metadata": {},
   "outputs": [
    {
     "data": {
      "text/plain": [
       "{'600000': '上海浦发', '600036': '招商银行', '600048': '保利地产', '000001': '平安银行'}"
      ]
     },
     "execution_count": 18,
     "metadata": {},
     "output_type": "execute_result"
    }
   ],
   "source": [
    "stock_dic['600000'] = '上海浦发'\n",
    "stock_dic\n"
   ]
  },
  {
   "cell_type": "code",
   "execution_count": 19,
   "id": "0dd85679",
   "metadata": {},
   "outputs": [
    {
     "data": {
      "text/plain": [
       "{'600000': '上海浦发',\n",
       " '600036': '招商银行',\n",
       " '600048': '保利地产',\n",
       " '000001': '平安银行',\n",
       " '000063': '中兴通讯'}"
      ]
     },
     "execution_count": 19,
     "metadata": {},
     "output_type": "execute_result"
    }
   ],
   "source": [
    "stock_dic['000063'] = '中兴通讯'\n",
    "stock_dic\n"
   ]
  },
  {
   "cell_type": "code",
   "execution_count": 20,
   "id": "93c26a64",
   "metadata": {},
   "outputs": [
    {
     "data": {
      "text/plain": [
       "{'600000': '上海浦发', '600036': '招商银行', '600048': '保利地产', '000001': '平安银行'}"
      ]
     },
     "execution_count": 20,
     "metadata": {},
     "output_type": "execute_result"
    }
   ],
   "source": [
    "del stock_dic['000063']\n",
    "stock_dic\n"
   ]
  },
  {
   "cell_type": "code",
   "execution_count": 7,
   "id": "996bbfdf",
   "metadata": {},
   "outputs": [
    {
     "data": {
      "text/plain": [
       "{'农业银行', '工商银行', '建设银行', '招商银行', '浦发银行'}"
      ]
     },
     "execution_count": 7,
     "metadata": {},
     "output_type": "execute_result"
    }
   ],
   "source": [
    "bank_stock_name = {'建设银行', '浦发银行', '招商银行', '农业银行'}\n",
    "bank_stock_name.add('工商银行')\n",
    "bank_stock_name\n"
   ]
  },
  {
   "cell_type": "code",
   "execution_count": 8,
   "id": "b6360fcd",
   "metadata": {},
   "outputs": [
    {
     "name": "stdout",
     "output_type": "stream",
     "text": [
      "{'浦发银行', '农业银行', '工商银行', '建设银行', '招商银行'}\n"
     ]
    }
   ],
   "source": [
    "print(bank_stock_name)"
   ]
  },
  {
   "cell_type": "code",
   "execution_count": 9,
   "id": "6de314ef",
   "metadata": {},
   "outputs": [
    {
     "name": "stdout",
     "output_type": "stream",
     "text": [
      "{'农业银行', '工商银行', '建设银行', '招商银行'}\n"
     ]
    }
   ],
   "source": [
    "bank_stock_name.pop()\n",
    "print(bank_stock_name)"
   ]
  },
  {
   "cell_type": "code",
   "execution_count": 10,
   "id": "87846560",
   "metadata": {},
   "outputs": [
    {
     "name": "stdout",
     "output_type": "stream",
     "text": [
      "{'农业银行', '工商银行', '建设银行', '招商银行'}\n"
     ]
    }
   ],
   "source": [
    "bank_stock_name.discard('中国银行')\n",
    "print(bank_stock_name)"
   ]
  },
  {
   "cell_type": "code",
   "execution_count": 11,
   "id": "6fc8643f",
   "metadata": {},
   "outputs": [
    {
     "ename": "KeyError",
     "evalue": "'中国银行'",
     "output_type": "error",
     "traceback": [
      "\u001b[1;31m---------------------------------------------------------------------------\u001b[0m",
      "\u001b[1;31mKeyError\u001b[0m                                  Traceback (most recent call last)",
      "\u001b[1;32m<ipython-input-11-b2152da19df6>\u001b[0m in \u001b[0;36m<module>\u001b[1;34m\u001b[0m\n\u001b[1;32m----> 1\u001b[1;33m \u001b[0mbank_stock_name\u001b[0m\u001b[1;33m.\u001b[0m\u001b[0mremove\u001b[0m\u001b[1;33m(\u001b[0m\u001b[1;34m'中国银行'\u001b[0m\u001b[1;33m)\u001b[0m\u001b[1;33m\u001b[0m\u001b[1;33m\u001b[0m\u001b[0m\n\u001b[0m\u001b[0;32m      2\u001b[0m \u001b[0mprint\u001b[0m\u001b[1;33m(\u001b[0m\u001b[0mbank_stock_name\u001b[0m\u001b[1;33m)\u001b[0m\u001b[1;33m\u001b[0m\u001b[1;33m\u001b[0m\u001b[0m\n",
      "\u001b[1;31mKeyError\u001b[0m: '中国银行'"
     ]
    }
   ],
   "source": [
    "bank_stock_name.remove('中国银行')\n",
    "print(bank_stock_name)"
   ]
  },
  {
   "cell_type": "code",
   "execution_count": 12,
   "id": "915d82a8",
   "metadata": {},
   "outputs": [
    {
     "data": {
      "text/plain": [
       "{'sh_600000', 'sh_600036', 'sh_600048'}"
      ]
     },
     "execution_count": 12,
     "metadata": {},
     "output_type": "execute_result"
    }
   ],
   "source": [
    "stock_code = ['600000', '600036', '600048', '000001']\n",
    "sh_stock_code = {'sh_' + item for item in stock_code if item.startswith('60')}\n",
    "sh_stock_code\n"
   ]
  },
  {
   "cell_type": "code",
   "execution_count": null,
   "id": "0f088387",
   "metadata": {},
   "outputs": [],
   "source": []
  }
 ],
 "metadata": {
  "kernelspec": {
   "display_name": "Python 3 (ipykernel)",
   "language": "python",
   "name": "python3"
  },
  "language_info": {
   "codemirror_mode": {
    "name": "ipython",
    "version": 3
   },
   "file_extension": ".py",
   "mimetype": "text/x-python",
   "name": "python",
   "nbconvert_exporter": "python",
   "pygments_lexer": "ipython3",
   "version": "3.10.7"
  }
 },
 "nbformat": 4,
 "nbformat_minor": 5
}
