{
 "cells": [
  {
   "cell_type": "code",
   "execution_count": 1,
   "metadata": {},
   "outputs": [
    {
     "name": "stdout",
     "output_type": "stream",
     "text": [
      "<html><body><div>\n",
      "    <ul>\n",
      "        <li class=\"item-0\"><a href=\"www.xmu.edu.cn\">xmu</a>\n",
      "        </li><li class=\"item-1\"><a href=\" www.fudan.edu.cn\">fudan</a>\n",
      "        </li><li class=\"item-2\"><a href=\"www.sina.com.cn\">sina</a>\n",
      "        </li><li class=\"item-3\"><a href=\"www.taobao.com.cn\">taobao</a>\n",
      "</li></ul></div></body></html>\n"
     ]
    }
   ],
   "source": [
    "from lxml import etree\n",
    "text2021 = '''\n",
    "<div>\n",
    "    <ul>\n",
    "        <li class=\"item-0\"><a href=\"www.xmu.edu.cn\">xmu</a>\n",
    "        <li class=\"item-1\"><a href=\" www.fudan.edu.cn\">fudan</a>\n",
    "        <li class=\"item-2\"><a href=\"www.sina.com.cn\">sina</a>\n",
    "        <li class=\"item-3\"><a href=\"www.taobao.com.cn\">taobao</a>\n",
    "'''\n",
    "html2021 = etree.HTML(text2021)\n",
    "result2021 = etree.tostring(html2021)\n",
    "print(result2021.decode('UTF-8'))\n"
   ]
  },
  {
   "cell_type": "code",
   "execution_count": 2,
   "metadata": {},
   "outputs": [
    {
     "name": "stdout",
     "output_type": "stream",
     "text": [
      "['\\n    ', '\\n        ', 'xmu', '\\n        ', 'fudan', '\\n        ', 'sina', '\\n        ', 'taobao', '\\n']\n"
     ]
    }
   ],
   "source": [
    "result1 = html2021.xpath('//*/text()')\n",
    "print(result1)"
   ]
  },
  {
   "cell_type": "code",
   "execution_count": 3,
   "metadata": {},
   "outputs": [
    {
     "name": "stdout",
     "output_type": "stream",
     "text": [
      "\n",
      "    \n",
      "\n",
      "        \n",
      "xmu\n",
      "\n",
      "        \n",
      "fudan\n",
      "\n",
      "        \n",
      "sina\n",
      "\n",
      "        \n",
      "taobao\n",
      "\n",
      "\n"
     ]
    }
   ],
   "source": [
    "for item in result1:\n",
    "     print(item)\n"
   ]
  },
  {
   "cell_type": "code",
   "execution_count": 5,
   "metadata": {},
   "outputs": [
    {
     "name": "stdout",
     "output_type": "stream",
     "text": [
      "[<Element li at 0x168c04b9c48>]\n"
     ]
    }
   ],
   "source": [
    "result2 = html2021.xpath('//li[@class=\"item-3\"]')\n",
    "print(result2)\n"
   ]
  },
  {
   "cell_type": "code",
   "execution_count": 6,
   "metadata": {},
   "outputs": [
    {
     "name": "stdout",
     "output_type": "stream",
     "text": [
      "['xmu', 'fudan', 'sina', 'taobao']\n"
     ]
    }
   ],
   "source": [
    "result4 = html2021.xpath('//ul//a/text()')\n",
    "print(result4)"
   ]
  },
  {
   "cell_type": "code",
   "execution_count": 11,
   "metadata": {},
   "outputs": [
    {
     "name": "stdout",
     "output_type": "stream",
     "text": [
      "['\\n        ', '\\n        ', '\\n        ', '\\n']\n"
     ]
    }
   ],
   "source": [
    "result51 = html2021.xpath('//li/text()')\n",
    "print(result51)"
   ]
  },
  {
   "cell_type": "code",
   "execution_count": 12,
   "metadata": {},
   "outputs": [
    {
     "name": "stdout",
     "output_type": "stream",
     "text": [
      "['fudan']\n"
     ]
    }
   ],
   "source": [
    "result5 = html2021.xpath('//li[2]/a/text()')\n",
    "print(result5)"
   ]
  },
  {
   "cell_type": "code",
   "execution_count": 13,
   "metadata": {},
   "outputs": [
    {
     "name": "stdout",
     "output_type": "stream",
     "text": [
      "['taobao']\n"
     ]
    }
   ],
   "source": [
    "result6 = html2021.xpath('//li[last()]/a/text()')\n",
    "print(result6)"
   ]
  },
  {
   "cell_type": "code",
   "execution_count": 14,
   "metadata": {},
   "outputs": [
    {
     "name": "stdout",
     "output_type": "stream",
     "text": [
      "['sina']\n"
     ]
    }
   ],
   "source": [
    "result7 = html2021.xpath('//li[last()-1]/a/text()')\n",
    "print(result7)"
   ]
  },
  {
   "cell_type": "code",
   "execution_count": 15,
   "metadata": {},
   "outputs": [
    {
     "name": "stdout",
     "output_type": "stream",
     "text": [
      "['xmu', 'fudan', 'sina']\n"
     ]
    }
   ],
   "source": [
    "result8 = html2021.xpath('//li[position()<=3]/a/text()')\n",
    "print(result8)"
   ]
  },
  {
   "cell_type": "code",
   "execution_count": 20,
   "metadata": {},
   "outputs": [
    {
     "name": "stdout",
     "output_type": "stream",
     "text": [
      "['xmu']\n"
     ]
    }
   ],
   "source": [
    "result3 = html2021.xpath('//a[@href=\"www.xmu.edu.cn\"]/text()')\n",
    "print(result3)"
   ]
  },
  {
   "cell_type": "code",
   "execution_count": 21,
   "metadata": {},
   "outputs": [
    {
     "name": "stdout",
     "output_type": "stream",
     "text": [
      "['item-3']\n"
     ]
    }
   ],
   "source": [
    "#result9 = html2021.xpath('//a[@href=\"www.xmu.edu.cn\"]/../@class')\n",
    "result9 = html2021.xpath('//a[@href=\"www.taobao.com.cn\"]/../@class')\n",
    "print(result9)"
   ]
  },
  {
   "cell_type": "code",
   "execution_count": 5,
   "metadata": {},
   "outputs": [
    {
     "name": "stdout",
     "output_type": "stream",
     "text": [
      "电影名: ['神秘巨星 Secret Superstar']\n"
     ]
    }
   ],
   "source": [
    "import requests\n",
    "from lxml import etree\n",
    "import time\n",
    "\n",
    "url = 'https://movie.douban.com/subject/26942674/'\n",
    "header_db={'User-Agent':'Mozilla/5.0 (Windows NT 10.0; Win64; x64; rv:54.0) Gecko/20100101 Firefox/54.0','Connection':'keep-alive'}\n",
    "data = requests.get(url,headers=header_db).text\n",
    "s=etree.HTML(data)\n",
    " \n",
    "film_name = s.xpath('//*[@id=\"content\"]/h1/span[1]/text()')\n",
    "print(\"电影名:\",film_name)\n"
   ]
  },
  {
   "cell_type": "code",
   "execution_count": null,
   "metadata": {},
   "outputs": [],
   "source": []
  }
 ],
 "metadata": {
  "kernelspec": {
   "display_name": "Python 3 (ipykernel)",
   "language": "python",
   "name": "python3"
  },
  "language_info": {
   "codemirror_mode": {
    "name": "ipython",
    "version": 3
   },
   "file_extension": ".py",
   "mimetype": "text/x-python",
   "name": "python",
   "nbconvert_exporter": "python",
   "pygments_lexer": "ipython3",
   "version": "3.10.7"
  }
 },
 "nbformat": 4,
 "nbformat_minor": 2
}
