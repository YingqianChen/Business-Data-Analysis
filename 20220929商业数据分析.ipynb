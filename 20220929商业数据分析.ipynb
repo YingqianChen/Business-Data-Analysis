{
 "cells": [
  {
   "cell_type": "code",
   "execution_count": 1,
   "id": "9f32f8fe",
   "metadata": {},
   "outputs": [
    {
     "name": "stdout",
     "output_type": "stream",
     "text": [
      "272\n"
     ]
    }
   ],
   "source": [
    "import time\n",
    "date = time.localtime()\n",
    "year = date[0]\n",
    "month = date[1]\n",
    "day = date[2]\n",
    "day_month = [31, 28, 31, 30, 31, 30, 31, 31, 30, 31, 30, 31]\n",
    "if year%400==0 or (year%4==0 and year%100!=0):\n",
    "    day_month[1]=29\n",
    "if month==1:\n",
    "    print(day)\n",
    "else:\n",
    "    print(sum(day_month[:month-1])+day)"
   ]
  },
  {
   "cell_type": "code",
   "execution_count": 3,
   "id": "2bd9723e",
   "metadata": {},
   "outputs": [
    {
     "name": "stdout",
     "output_type": "stream",
     "text": [
      "1+2+3+...+100= 5050\n",
      "1+2+3+...+100= 5050\n"
     ]
    }
   ],
   "source": [
    "s = 0\n",
    "for i in range(1,101):\n",
    "    s +=i\n",
    "print('1+2+3+...+100=', s)\n",
    "print('1+2+3+...+100=', sum(range(1,101)))"
   ]
  },
  {
   "cell_type": "code",
   "execution_count": 4,
   "id": "448b62fb",
   "metadata": {},
   "outputs": [
    {
     "name": "stdout",
     "output_type": "stream",
     "text": [
      "列表的第 1 个元素是 a\n",
      "列表的第 2 个元素是 b\n",
      "列表的第 3 个元素是 mp\n",
      "列表的第 4 个元素是 eg\n"
     ]
    }
   ],
   "source": [
    "a_list=['a','b','mp','eg']\n",
    "for i,v in enumerate(a_list):\n",
    "    print('列表的第',i+1,'个元素是',v)"
   ]
  },
  {
   "cell_type": "code",
   "execution_count": 6,
   "id": "e2fa0ae1",
   "metadata": {},
   "outputs": [
    {
     "name": "stdout",
     "output_type": "stream",
     "text": [
      "7\n",
      "14\n",
      "21\n",
      "28\n",
      "42\n",
      "49\n",
      "56\n",
      "63\n",
      "77\n",
      "84\n",
      "91\n",
      "98\n"
     ]
    }
   ],
   "source": [
    "for i in range(1,101):\n",
    "    if i%7==0 and i%5!=0:\n",
    "        print(i)"
   ]
  },
  {
   "cell_type": "code",
   "execution_count": 8,
   "id": "af4ee1d7",
   "metadata": {},
   "outputs": [
    {
     "name": "stdout",
     "output_type": "stream",
     "text": [
      "153\n",
      "370\n",
      "371\n",
      "407\n"
     ]
    }
   ],
   "source": [
    "for i in range(100,1000):\n",
    "    ge = i%10\n",
    "    shi = i//10%10\n",
    "    bai = i//100\n",
    "    if ge**3+shi**3+bai**3 == i:\n",
    "        print(i)"
   ]
  },
  {
   "cell_type": "code",
   "execution_count": 10,
   "id": "870aa63a",
   "metadata": {},
   "outputs": [
    {
     "name": "stdout",
     "output_type": "stream",
     "text": [
      "65.57142857142857\n"
     ]
    }
   ],
   "source": [
    "score = [70,29,40,90,80,50,100]\n",
    "s = 0\n",
    "for i in score:\n",
    "    s += i\n",
    "print(s/len(score))"
   ]
  },
  {
   "cell_type": "code",
   "execution_count": 15,
   "id": "c05f28b9",
   "metadata": {},
   "outputs": [
    {
     "name": "stdout",
     "output_type": "stream",
     "text": [
      "1 * 1 = 1 \t\n",
      "\n",
      "\n",
      "2 * 1 = 2 \t\n",
      "2 * 2 = 4 \t\n",
      "\n",
      "\n",
      "3 * 1 = 3 \t\n",
      "3 * 2 = 6 \t\n",
      "3 * 3 = 9 \t\n",
      "\n",
      "\n",
      "4 * 1 = 4 \t\n",
      "4 * 2 = 8 \t\n",
      "4 * 3 = 12 \t\n",
      "4 * 4 = 16 \t\n",
      "\n",
      "\n",
      "5 * 1 = 5 \t\n",
      "5 * 2 = 10 \t\n",
      "5 * 3 = 15 \t\n",
      "5 * 4 = 20 \t\n",
      "5 * 5 = 25 \t\n",
      "\n",
      "\n",
      "6 * 1 = 6 \t\n",
      "6 * 2 = 12 \t\n",
      "6 * 3 = 18 \t\n",
      "6 * 4 = 24 \t\n",
      "6 * 5 = 30 \t\n",
      "6 * 6 = 36 \t\n",
      "\n",
      "\n",
      "7 * 1 = 7 \t\n",
      "7 * 2 = 14 \t\n",
      "7 * 3 = 21 \t\n",
      "7 * 4 = 28 \t\n",
      "7 * 5 = 35 \t\n",
      "7 * 6 = 42 \t\n",
      "7 * 7 = 49 \t\n",
      "\n",
      "\n",
      "8 * 1 = 8 \t\n",
      "8 * 2 = 16 \t\n",
      "8 * 3 = 24 \t\n",
      "8 * 4 = 32 \t\n",
      "8 * 5 = 40 \t\n",
      "8 * 6 = 48 \t\n",
      "8 * 7 = 56 \t\n",
      "8 * 8 = 64 \t\n",
      "\n",
      "\n",
      "9 * 1 = 9 \t\n",
      "9 * 2 = 18 \t\n",
      "9 * 3 = 27 \t\n",
      "9 * 4 = 36 \t\n",
      "9 * 5 = 45 \t\n",
      "9 * 6 = 54 \t\n",
      "9 * 7 = 63 \t\n",
      "9 * 8 = 72 \t\n",
      "9 * 9 = 81 \t\n",
      "\n",
      "\n"
     ]
    }
   ],
   "source": [
    "for i in range(1,10):\n",
    "    for j in range(1,i+1):\n",
    "        print(i,'*',j,'=',i*j,'\\t')\n",
    "    print('\\n')"
   ]
  },
  {
   "cell_type": "code",
   "execution_count": 18,
   "id": "b5206af3",
   "metadata": {},
   "outputs": [
    {
     "name": "stdout",
     "output_type": "stream",
     "text": [
      "187\n"
     ]
    }
   ],
   "source": [
    "for i in range(200,0,-1):\n",
    "    if i%17==0:\n",
    "        print(i)\n",
    "        break"
   ]
  },
  {
   "cell_type": "code",
   "execution_count": 19,
   "id": "bdab0590",
   "metadata": {},
   "outputs": [
    {
     "name": "stdout",
     "output_type": "stream",
     "text": [
      "ji: 15 tu: 15\n"
     ]
    }
   ],
   "source": [
    "for ji in range(0,31):\n",
    "    if ji*2+(30-ji)*4 ==90:\n",
    "        print('ji:',ji,'tu:',30-ji)"
   ]
  },
  {
   "cell_type": "code",
   "execution_count": 21,
   "id": "c7b27c83",
   "metadata": {},
   "outputs": [
    {
     "name": "stdout",
     "output_type": "stream",
     "text": [
      "123\n",
      "124\n",
      "132\n",
      "134\n",
      "142\n",
      "143\n",
      "213\n",
      "214\n",
      "231\n",
      "234\n",
      "241\n",
      "243\n",
      "312\n",
      "314\n",
      "321\n",
      "324\n",
      "341\n",
      "342\n",
      "412\n",
      "413\n",
      "421\n",
      "423\n",
      "431\n",
      "432\n"
     ]
    }
   ],
   "source": [
    "digits = (1,2,3,4)\n",
    "for i in digits:\n",
    "    for j in digits:\n",
    "        for k in digits:\n",
    "            if i!=j and i!=k and j!=k:\n",
    "                print(i*100+j*10+k)"
   ]
  },
  {
   "cell_type": "code",
   "execution_count": null,
   "id": "b4028b97",
   "metadata": {},
   "outputs": [],
   "source": []
  }
 ],
 "metadata": {
  "kernelspec": {
   "display_name": "Python 3 (ipykernel)",
   "language": "python",
   "name": "python3"
  },
  "language_info": {
   "codemirror_mode": {
    "name": "ipython",
    "version": 3
   },
   "file_extension": ".py",
   "mimetype": "text/x-python",
   "name": "python",
   "nbconvert_exporter": "python",
   "pygments_lexer": "ipython3",
   "version": "3.10.7"
  }
 },
 "nbformat": 4,
 "nbformat_minor": 5
}
