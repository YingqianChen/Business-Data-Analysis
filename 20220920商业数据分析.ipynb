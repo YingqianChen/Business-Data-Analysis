{
 "cells": [
  {
   "cell_type": "code",
   "execution_count": 6,
   "id": "bceee84a",
   "metadata": {},
   "outputs": [
    {
     "name": "stdout",
     "output_type": "stream",
     "text": [
      "请输入身份证号：123456198309082212\n",
      "您的生日为：1983年09月08日\n"
     ]
    }
   ],
   "source": [
    "id = input(\"请输入身份证号：\")\n",
    "year = id[6:10]\n",
    "month = id[10:12]\n",
    "day = id[12:14]\n",
    "print(\"您的生日为：\" + year + \"年\" + month + \"月\" + day + '日')"
   ]
  }
 ],
 "metadata": {
  "kernelspec": {
   "display_name": "Python 3 (ipykernel)",
   "language": "python",
   "name": "python3"
  },
  "language_info": {
   "codemirror_mode": {
    "name": "ipython",
    "version": 3
   },
   "file_extension": ".py",
   "mimetype": "text/x-python",
   "name": "python",
   "nbconvert_exporter": "python",
   "pygments_lexer": "ipython3",
   "version": "3.9.12"
  }
 },
 "nbformat": 4,
 "nbformat_minor": 5
}
