{
 "cells": [
  {
   "cell_type": "code",
   "execution_count": 1,
   "metadata": {},
   "outputs": [
    {
     "name": "stdout",
     "output_type": "stream",
     "text": [
      "[<p style=\"text-indent: 32px; line-height: 150%; text-align: justify;\"><span style=\"font-size:16px;line-height:150%;font-family: 宋体\">考虑到数据驱动的创新使公司能够设计出更响应市场需求的产品，这大大降低了创新的风险。同一种供应链中的客户数据具有一定的共性，但数据分离使其难以最大化数据价值。如何选择合适的合作创新模式应基于企业特定的大数据分析能力。计国君、余木红等在</span><em><strong><span lang=\"EN-US\" style=\"font-size:16px;line-height:150%;font-family:'times new roman',serif\">Annals of Operations Research</span></strong></em><span style=\"font-size:16px;line-height:150%;font-family:宋体\">（</span><span lang=\"EN-US\" style=\"font-size:16px;line-height:150%;font-family:'times new roman',serif\">2022, online:1-24</span><span style=\"font-size: 16px;line-height:150%;font-family:宋体\">）发表了论文</span><span lang=\"EN-US\" style=\"font-size:16px;line-height:150%;font-family:'times new roman',serif\">“Decision optimization in cooperation innovation: the impact of big data analytics capability and cooperative modes”</span><span style=\"font-size:16px;line-height:150%;font-family:宋体\">，主要研究了大数据分析能力对合作模式选择的影响，及其匹配关系对合作绩效的影响。通过构建博弈论模型，考察了两种合作模式：数据分析由两个公司单独实施（即松散合作）；由两家公司共同实施（紧密合作），并进一步讨论松散模式下协调契约。结论表明：一是两家公司的大数据能力对紧密性合作模式的选择都有正的影响；二是随着大数据能力的提高，企业的创新绩效差距在松散模式和紧密模式之间将显著增大；三是当数据分析能力达到一定条件时，成本补偿契约可以缓解两种合作模式之间的差距。</span></p>, <p style=\"text-indent: 32px; line-height: 150%; text-align: justify;\"><span style=\"font-size:16px;line-height:150%;font-family: 宋体\">最近消费者对产品可追溯性意识的提高揭示了传统的供应链追溯系统存在的缺点。传统的可追溯系统是集中的、数据被使用的这些工具很容易被篡改，导致消费者的信任水平较低。区块链技术作为分布式技术，可以解决这些问题。在上述问题驱动下，计国君、周姝等在</span><em><strong><span lang=\"EN-US\" style=\"font-size:16px;line-height:150%;font-family:'times new roman',serif\">International Journal of Production Economics</span></strong></em><span style=\"font-size:16px;line-height:150%;font-family:宋体\">（</span><span lang=\"EN-US\" style=\"font-size:16px;line-height: 150%;font-family:'times new roman',serif\">2022</span><span style=\"font-size:16px;line-height:150%;font-family:宋体\">，</span><span lang=\"EN-US\" style=\"font-size:16px;line-height: 150%;font-family:'times new roman',serif\">247</span><span style=\"font-size:16px;line-height:150%;font-family:宋体\">：</span><span lang=\"EN-US\" style=\"font-size:16px;line-height: 150%;font-family:'times new roman',serif\">1-11</span><span style=\"font-size:16px;line-height:150%;font-family:宋体\">）发表论文</span><span lang=\"EN-US\" style=\"font-size:16px;line-height:150%;font-family:'times new roman',serif\">“Timing of blockchain adoption in a supply chain with competing manufacturers”</span><span style=\"font-size:16px;line-height:150%;font-family: 宋体\">，研究了区块链技术的运用于两个竞争制造商和一个零售商的供应链决策，探讨其对供应链管理及其供应链性能影响。研究发现，制造商只能在消费者使用时才应采用区块链技术，当对区块链技术的敏感性超过了一定的水平，制造商可以引入区块链科技优先的公司更有可能获得巨额利润。针对零售商收取的单位验证费用，在引入区块链技术时，制造商补贴相关费用给零售商以较低的批发价格，即零售商不需要支付额外的批发成本给区块链技术的产品。研究结论为供应链成员运用区块链技术提供了市场指导实践。</span></p>, <p style=\"text-indent: 32px; line-height: 150%; text-align: justify;\"><span style=\"font-size:16px;line-height:150%;font-family: 宋体\">电子商务的转变导致零售商的在线销售额惊人增长。然而，在线购买的退货数量持续增加，对零售商的经营和利润产生了深远的影响。因此，零售商需要允许产品退货及其最小化之间取得平衡。杨光勇、计国君、</span><span lang=\"EN-US\" style=\"font-size:16px;line-height:150%;font-family:'times new roman',serif\">Kim Hua Tan </span><span style=\"font-size:16px;line-height:150%;font-family:宋体\">在</span><em><strong><span lang=\"EN-US\" style=\"font-size:16px;line-height:150%;font-family:'times new roman',serif\">Annals of Operations Research</span></strong></em><span style=\"font-size:16px;line-height:150%;font-family:宋体\">（</span><span lang=\"EN-US\" style=\"font-size:16px;line-height:150%;font-family:'times new roman',serif\">2022,308:703-726</span><span style=\"font-size:16px;line-height:150%;font-family:宋体\">）发表了论文</span><span lang=\"EN-US\" style=\"font-size:16px;line-height:150%;font-family:'times new roman',serif\">“Impact of artificial intelligence adoption on online returns policies”</span><span style=\"font-size:16px;line-height:150%;font-family:宋体\">，研究了离线陈列室与人工智能</span><span lang=\"EN-US\" style=\"font-size:16px;line-height:150%;font-family:'times new roman',serif\">(AI)</span><span style=\"font-size:16px;line-height:150%;font-family:宋体\">在线虚拟现实网络空间，以及设置如何影响客户的购买和零售商的退货决策，结合案例研究说明</span><span lang=\"EN-US\" style=\"font-size:16px;line-height:150%;font-family:'times new roman',serif\">AI</span><span style=\"font-size:16px;line-height: 150%;font-family:宋体\">的应用。研究结果表明，采用人工智能有助于卖家制定更好的退货政策，最大限度地进行转售退货，降低短缺的风险。结论证实了人工智能应用在零售业务中的潜力，应该引起在线零售领域的从业者和研究人员的兴趣，特别是那些关注在线退货政策和消费者个性化服务体验的商家。</span></p>, <p style=\"text-indent: 32px; line-height: 150%; text-align: justify;\"><span style=\"font-size:16px;line-height:150%;font-family: 宋体\">针对拥有在线渠道和实体店的全渠道零售商，考察有效管理消费者退货的三种创新机制：在线购买</span><span lang=\"EN-US\" style=\"font-size:16px;line-height:150%;font-family:'times new roman',serif\">-</span><span style=\"font-size:16px;line-height: 150%;font-family:宋体\">退货到实体店</span><span lang=\"EN-US\" style=\"font-size:16px;line-height:150%;font-family:'times new roman',serif\">(BORS)</span><span style=\"font-size:16px;line-height:150%;font-family:宋体\">；设计退货保险，通过减少退货麻烦成本来提高退货体验；以及一种虚拟的试用体验，使在线消费者能够在不光顾商店的情况下评估产品的适合性。商家可以从消费者光顾商店和进行额外的购买中获得额外的交叉销售利润。杨光勇、计国君在</span><em><strong><span lang=\"EN-US\" style=\"font-size:16px;line-height:150%;font-family:'times new roman',serif\">Omega</span></strong></em><span style=\"font-size:16px;line-height:150%;font-family: 宋体\">（</span><span lang=\"EN-US\" style=\"font-size:16px;line-height:150%;font-family:'times new roman',serif\">2022</span><span style=\"font-size:16px;line-height:150%;font-family:宋体\">，</span><span lang=\"EN-US\" style=\"font-size:16px;line-height:150%;font-family:'times new roman',serif\">111</span><span style=\"font-size:16px;line-height: 150%;font-family:宋体\">：</span><span lang=\"EN-US\" style=\"font-size:16px;line-height:150%;font-family:'times new roman',serif\">1-10</span><span style=\"font-size:16px;line-height:150%;font-family:宋体\">）发表了论文</span><span lang=\"EN-US\" style=\"font-size:16px;line-height:150%;font-family:'times new roman',serif\">“The impact of cross-selling on managing consumer returns in omnichannel operations”</span><span style=\"font-size:16px;line-height:150%;font-family:宋体\">，评估了在全渠道运作中三种创新机制下交叉销售对管理消费者退货的影响。通过构建理论模型，研究结果表明：</span><span lang=\"EN-US\" style=\"font-size:16px;line-height:150%;font-family:'times new roman',serif\">(1)</span><span style=\"font-size:16px;line-height: 150%;font-family:宋体\">当实施</span><span lang=\"EN-US\" style=\"font-size:16px;line-height:150%;font-family:'times new roman',serif\">BORS</span><span style=\"font-size:16px;line-height:150%;font-family:宋体\">时，交叉销售网络对利润具有正的影响；</span><span lang=\"EN-US\" style=\"font-size:16px;line-height:150%;font-family:'times new roman',serif\">(2)</span><span style=\"font-size:16px;line-height: 150%;font-family:宋体\">当建立退货保险时，交叉销售不直接影响退货保险的有效性；</span><span lang=\"EN-US\" style=\"font-size:16px;line-height:150%;font-family:'times new roman',serif\">(3)</span><span style=\"font-size:16px;line-height: 150%;font-family:宋体\">当提供虚拟试用体验时，交叉销售对利润产生负面影响。进一步发现，考虑合并需求的损失，通过提供</span><span lang=\"EN-US\" style=\"font-size:16px;line-height:150%;font-family:'times new roman',serif\">BORS</span><span style=\"font-size:16px;line-height:150%;font-family:宋体\">或退货保险来获取客户，不同的渠道成本，要针对稀缺库存和不同残值提供相应的分配政策。</span></p>, <p style=\"text-indent: 32px; line-height: 150%; text-align: justify;\"><span style=\"font-size:16px;line-height:150%;font-family: 宋体\">作为一种新兴的促销工具，各种类型的在线服务越来越多地被公司采用，以提高消费者的满意度并增加利润。考察供应商在线上或线下销售产品给零售商的两级供应链，在线渠道的特点是直接销售和转售。计国君、付天宇等在</span><em><strong><span lang=\"EN-US\" style=\"font-size:16px;line-height:150%;font-family:'times new roman',serif\">Mathematical Problems in Engineering</span></strong></em> <span style=\"font-size:16px;line-height: 150%;font-family:宋体\">（</span><span lang=\"EN-US\" style=\"font-size:16px;line-height:150%;font-family:'times new roman',serif\">2022</span><span style=\"font-size:16px;line-height:150%;font-family:宋体\">，</span><span lang=\"EN-US\" style=\"font-size:16px;line-height:150%;font-family:'times new roman',serif\">online:1-35</span><span style=\"font-size:16px;line-height:150%;font-family:宋体\">）发表论文</span><span lang=\"EN-US\" style=\"font-size:16px;line-height:150%;font-family:'times new roman',serif\">“Optimal Online Service Strategy and Price Decision in Omnichannel Retail”</span><span style=\"font-size:16px;line-height:150%;font-family:宋体\">，考虑了三种在线服务策略：不提供在线服务；优先服务；反应性在线服务。研究结论发现，在大多数情况下，投资于在线服务相比无服务情形更能让所有商家受益。在直销情况下，线下零售商由于在线展厅效应从反应性在线服务策略中获益最大，而供应商绩效在优先服务策略中最好。然而，在转售情况下，发现供应商和线上、线下零售商受益大多数都来自于反应性服务策略。此外，还比较了这三种策略的价格和服务水平，发现在线展厅效应系数会影响最优批发价格、零售价格和在线服务水平。最后，研究结果揭示供应商对这两种情况的选择取决于在线渠道的固定成本。</span></p>, <p><br/></p>]\n"
     ]
    }
   ],
   "source": [
    "import requests\n",
    "from bs4 import BeautifulSoup\n",
    "glxynewsurl=\"https://sm.xmu.edu.cn/info/1049/22794.htm\"\n",
    "glxyres=requests.get(glxynewsurl)\n",
    "glxyres.encoding=\"UTF8\"\n",
    "soup11=BeautifulSoup(glxyres.text,'html.parser')\n",
    "contentlist1=soup11.select('.v_news_content p')\n",
    "print(contentlist1)"
   ]
  },
  {
   "cell_type": "code",
   "execution_count": 2,
   "metadata": {},
   "outputs": [
    {
     "name": "stdout",
     "output_type": "stream",
     "text": [
      "下载完成\n"
     ]
    }
   ],
   "source": [
    "import requests\n",
    "from lxml import etree\n",
    "import time\n",
    "import os\n",
    "\n",
    "def download_pic(src):\n",
    "    root = 'C://Users//yanli'\n",
    "    path=root+src.split('/')[-1]\n",
    "    if not os.path.exists(root):\n",
    "      os.mkdir(root)\n",
    "    #if not os.path.exists(path):\n",
    "    r = requests.get(src)\n",
    "    r.raise_for_status()\n",
    "    with open(path1,'wb') as f:\n",
    "     f.write(r.content)\n",
    "    print('爬取成功')\n",
    "    \n",
    "def get_html(url):\n",
    "    response = requests.get(url)\n",
    "    response.encoding='gbk'\n",
    "    html = etree.HTML(response.text)\n",
    "    img_src=html.xpath('//ul[@class=\"clearfix\"]/li/a/img/@src')\n",
    "    for src in img_src:\n",
    "      print(src)        \n",
    "      download_pic(src)\n",
    "\n",
    "indexa=1\n",
    "for i in range(1,1):\n",
    "    #url='https://www.99tu.com/mz/siwameitui/29_{}.html'.format(i)\n",
    "    url='https://www.99tu.com/bz/5042_{}.html'.format(i)\n",
    "    print('这是第'+str(indexa)+\"页数据\")\n",
    "    indexa=indexa+1\n",
    "    get_html(url)\n",
    "    time.sleep(2)\n",
    "print('下载完成')"
   ]
  },
  {
   "cell_type": "code",
   "execution_count": 4,
   "metadata": {
    "scrolled": false
   },
   "outputs": [
    {
     "name": "stdout",
     "output_type": "stream",
     "text": [
      "VCG2108f52ee32.jpg 下载成功\n",
      "VCG2175e049668.jpg 下载成功\n",
      "VCG4182113922.jpg 下载成功\n",
      "未成功匹配到字段\n",
      "没有访问地址\n",
      "VCG4182113922.jpg 下载成功\n",
      "VCG211369893883.jpg 下载成功\n",
      "VCG213955db538.jpg 下载成功\n",
      "VCG211147392648.jpg 下载成功\n",
      "VCG21gic19732889.jpg 下载成功\n",
      "VCG211399936661.jpg 下载成功\n",
      "VCG211291468295.jpg 下载成功\n",
      "VCG211218283350.jpg 下载成功\n",
      "VCG211198210607.jpg 下载成功\n",
      "VCG211398354502.jpg 下载成功\n",
      "VCG211366395226.jpg 下载成功\n",
      "VCG211218283207.jpg 下载成功\n",
      "VCG41N924639644.jpg 下载成功\n",
      "VCG41N1411654832.jpg 下载成功\n",
      "VCG41N1144636702.jpg 下载成功\n",
      "VCG41122692047.jpg 下载成功\n",
      "VCG21gic12621122.jpg 下载成功\n",
      "VCG41N1411661961.jpg 下载成功\n",
      "VCG21gic7734336.jpg 下载成功\n",
      "VCG2111770bf66.jpg 下载成功\n",
      "VCG41N1095161218.jpg 下载成功\n",
      "VCG211394266870.jpg 下载成功\n",
      "VCG211218283349.jpg 下载成功\n",
      "VCG211348589887.jpg 下载成功\n",
      "VCG41122680510.jpg 下载成功\n",
      "VCG211394103983.jpg 下载成功\n",
      "VCG41122676018.jpg 下载成功\n",
      "VCG41N911119842.jpg 下载成功\n",
      "VCG41152760808.jpg 下载成功\n",
      "VCG211393968727.jpg 下载成功\n",
      "VCG211147392655.jpg 下载成功\n",
      "VCG211284819401.jpg 下载成功\n",
      "VCG41N908777910.jpg 下载成功\n",
      "VCG211393682083.jpg 下载成功\n",
      "VCG21239208410.jpg 下载成功\n",
      "VCG41N88014634.jpg 下载成功\n",
      "VCG41N1395353472.jpg 下载成功\n",
      "VCG41N1409634785.jpg 下载成功\n",
      "VCG211351207856.jpg 下载成功\n",
      "VCG211259386021.jpg 下载成功\n",
      "VCG211313849944.jpg 下载成功\n",
      "VCG41N1408942766.jpg 下载成功\n",
      "VCG41522694737.jpg 下载成功\n",
      "VCG211332705703.jpg 下载成功\n",
      "VCG211326657807.jpg 下载成功\n",
      "VCG211390647195.jpg 下载成功\n",
      "VCG41N1001374318.jpg 下载成功\n",
      "VCG21gic16261964.jpg 下载成功\n",
      "VCG21409097867.jpg 下载成功\n",
      "VCG41N1406735138.jpg 下载成功\n",
      "VCG211348590010.jpg 下载成功\n",
      "VCG211284067430.jpg 下载成功\n",
      "VCG211222196359.jpg 下载成功\n",
      "VCG211389557041.jpg 下载成功\n",
      "VCG41512070239.jpg 下载成功\n",
      "VCG41122630811.jpg 下载成功\n",
      "VCG41N1220845913.jpg 下载成功\n",
      "VCG211389253259.jpg 下载成功\n",
      "VCG4181387322.jpg 下载成功\n",
      "VCG21gic3261144.jpg 下载成功\n",
      "VCG211297292486.jpg 下载成功\n",
      "VCG41N1403439421.jpg 下载成功\n",
      "VCG211174336863.jpg 下载成功\n",
      "VCG211348589860.jpg 下载成功\n",
      "VCG211334300338.jpg 下载成功\n",
      "VCG41N1400422996.jpg 下载成功\n",
      "VCG211381583539.jpg 下载成功\n",
      "VCG211283085250.jpg 下载成功\n",
      "VCG41FD005086.jpg 下载成功\n",
      "VCG211388106789.jpg 下载成功\n",
      "VCG211226941900.jpg 下载成功\n",
      "VCG211175691289.jpg 下载成功\n",
      "VCG211130279355.jpg 下载成功\n",
      "VCG211388106788.jpg 下载成功\n",
      "VCG4182114328.jpg 下载成功\n",
      "VCG211180881810.jpg 下载成功\n",
      "VCG211350093132.jpg 下载成功\n",
      "VCG211388106787.jpg 下载成功\n",
      "VCG213b8d75498.jpg 下载成功\n",
      "VCG211280713287.jpg 下载成功\n",
      "VCG211224192890.jpg 下载成功\n",
      "VCG211388106786.jpg 下载成功\n",
      "VCG211218283222.jpg 下载成功\n",
      "VCG211174336889.jpg 下载成功\n",
      "VCG211e3cb64a5.jpg 下载成功\n",
      "VCG211388106785.jpg 下载成功\n",
      "VCG4188310147.jpg 下载成功\n",
      "VCG211220849681.jpg 下载成功\n",
      "VCG211332705704.jpg 下载成功\n",
      "VCG211388106784.jpg 下载成功\n",
      "VCG41N1431924936.jpg 下载成功\n",
      "VCG41563393485.jpg 下载成功\n",
      "VCG211240108904.jpg 下载成功\n",
      "VCG211388106783.jpg 下载成功\n",
      "VCG41611474267.jpg 下载成功\n",
      "VCG211297292539.jpg 下载成功\n",
      "VCG41122680193.jpg 下载成功\n",
      "VCG211388106781.jpg 下载成功\n",
      "VCG211336155526.jpeg 下载成功\n",
      "VCG211203254153.jpg 下载成功\n",
      "VCG21gic9762480.jpg 下载成功\n",
      "VCG211388106780.jpg 下载成功\n",
      "VCG211180877643.jpg 下载成功\n",
      "VCG211404500075.jpg 下载成功\n",
      "VCG21gic12720132.jpg 下载成功\n",
      "VCG211388106779.jpg 下载成功\n",
      "VCG211225862186.jpg 下载成功\n",
      "VCG41136120270.jpg 下载成功\n",
      "VCG41N1261197910.jpg 下载成功\n",
      "VCG211388106778.jpg 下载成功\n",
      "VCG211335334140.jpg 下载成功\n",
      "VCG211203104321.jpg 下载成功\n",
      "VCG211224192761.jpg 下载成功\n",
      "VCG211218283218.jpg 下载成功\n",
      "VCG21gic20069172.jpg 下载成功\n",
      "VCG211404365335.jpg 下载成功\n",
      "VCG211285913992.jpg 下载成功\n",
      "VCG41119258102.jpg 下载成功\n",
      "VCG211258113334.jpg 下载成功\n",
      "VCG4171100806.jpg 下载成功\n",
      "VCG211340193321.jpg 下载成功\n",
      "VCG21c18f67b2b.jpg 下载成功\n",
      "VCG211221708772.jpg 下载成功\n",
      "VCG211362271267.jpg 下载成功\n",
      "VCG211251494047.jpg 下载成功\n",
      "VCG211404365122.jpg 下载成功\n",
      "VCG211251494052.jpg 下载成功\n",
      "VCG21gic17130025.jpg 下载成功\n",
      "VCG41611474275.jpg 下载成功\n",
      "VCG41122651843.jpg 下载成功\n",
      "VCG211382081267.jpg 下载成功\n",
      "VCG41N1250966180.jpg 下载成功\n",
      "VCG211203068151.jpeg 下载成功\n",
      "VCG21gic6694443.jpg 下载成功\n",
      "VCG211175784286.jpg 下载成功\n",
      "VCG211336646074.jpg 下载成功\n"
     ]
    }
   ],
   "source": [
    "import requests\n",
    "import os\n",
    "from lxml import etree\n",
    "\n",
    "if __name__ == '__main__':\n",
    "    url = 'https://www.vcg.com/creative-image/xigua/'\n",
    "    header = {\n",
    "            'User_Agent': 'Mozilla/5.0 (Windows NT 10.0; Win64; x64) AppleWebKit/537.36 (KHTML, like Gecko) Chrome/102.0.5005.63 Safari/537.36 Edg/102.0.1245.39'\n",
    "    }\n",
    "\n",
    "    response = requests.get(url=url, headers=header)\n",
    "    response.encoding = 'utf-8'\n",
    "    page_text = response.text\n",
    "    tree = etree.HTML(page_text)\n",
    "    figure_list = tree.xpath('//div[@class=\"gallery_inner\"]/figure')\n",
    "    if not os.path.exists('./piclitl'):\n",
    "        os.makedirs('./piclitl')\n",
    "    for figure in figure_list:\n",
    "        try:\n",
    "            img_src = figure.xpath('./a/img/@data-src')[0]\n",
    "        except(IndexError):\n",
    "            print('未成功匹配到字段')\n",
    "        img_src = 'https:' + img_src\n",
    "        img_name = img_src.split('/')[-1]\n",
    "        try:\n",
    "            img_data = requests.get(url=img_src, headers=header).content\n",
    "        except(requests.exceptions.InvalidURL):\n",
    "            print('没有访问地址')\n",
    "        img_path = 'piclitl/' + img_name\n",
    "        with open(img_path, 'wb') as fp:\n",
    "            fp.write(img_data)\n",
    "            print(img_name, '下载成功')"
   ]
  },
  {
   "cell_type": "code",
   "execution_count": 6,
   "metadata": {},
   "outputs": [
    {
     "name": "stdout",
     "output_type": "stream",
     "text": [
      "https://tenfei04.cfp.cn/creative/vcg/nowater800/new/VCG41N1371193916.jpg\n"
     ]
    }
   ],
   "source": [
    "print(img_src)"
   ]
  },
  {
   "cell_type": "code",
   "execution_count": 7,
   "metadata": {},
   "outputs": [
    {
     "name": "stdout",
     "output_type": "stream",
     "text": [
      "VCG41N1371193916.jpg\n"
     ]
    }
   ],
   "source": [
    "print(img_name)"
   ]
  },
  {
   "cell_type": "code",
   "execution_count": 5,
   "metadata": {
    "scrolled": true
   },
   "outputs": [
    {
     "name": "stdout",
     "output_type": "stream",
     "text": [
      "未成功匹配到字段\n",
      "没有访问地址\n"
     ]
    },
    {
     "ename": "KeyboardInterrupt",
     "evalue": "",
     "output_type": "error",
     "traceback": [
      "\u001b[1;31m---------------------------------------------------------------------------\u001b[0m",
      "\u001b[1;31mKeyboardInterrupt\u001b[0m                         Traceback (most recent call last)",
      "\u001b[1;32m<ipython-input-5-682245a917fc>\u001b[0m in \u001b[0;36m<module>\u001b[1;34m\u001b[0m\n\u001b[0;32m     28\u001b[0m     \u001b[1;32mexcept\u001b[0m\u001b[1;33m(\u001b[0m\u001b[0mrequests\u001b[0m\u001b[1;33m.\u001b[0m\u001b[0mexceptions\u001b[0m\u001b[1;33m.\u001b[0m\u001b[0mInvalidURL\u001b[0m\u001b[1;33m)\u001b[0m\u001b[1;33m:\u001b[0m\u001b[1;33m\u001b[0m\u001b[1;33m\u001b[0m\u001b[0m\n\u001b[0;32m     29\u001b[0m         \u001b[0mprint\u001b[0m\u001b[1;33m(\u001b[0m\u001b[1;34m'没有访问地址'\u001b[0m\u001b[1;33m)\u001b[0m\u001b[1;33m\u001b[0m\u001b[1;33m\u001b[0m\u001b[0m\n\u001b[1;32m---> 30\u001b[1;33m     \u001b[0mtime\u001b[0m\u001b[1;33m.\u001b[0m\u001b[0msleep\u001b[0m\u001b[1;33m(\u001b[0m\u001b[1;36m2\u001b[0m\u001b[1;33m)\u001b[0m\u001b[1;33m\u001b[0m\u001b[1;33m\u001b[0m\u001b[0m\n\u001b[0m\u001b[0;32m     31\u001b[0m \u001b[1;33m\u001b[0m\u001b[0m\n\u001b[0;32m     32\u001b[0m \u001b[0mimg_path\u001b[0m \u001b[1;33m=\u001b[0m \u001b[1;34m'piclitl/'\u001b[0m \u001b[1;33m+\u001b[0m \u001b[0mimg_name\u001b[0m\u001b[1;33m\u001b[0m\u001b[1;33m\u001b[0m\u001b[0m\n",
      "\u001b[1;31mKeyboardInterrupt\u001b[0m: "
     ]
    }
   ],
   "source": [
    "import requests\n",
    "import os\n",
    "import time\n",
    "from lxml import etree\n",
    "\n",
    "\n",
    "url = 'https://www.vcg.com/creative-image/shuiguo/'\n",
    "header = {\n",
    "            'User_Agent': 'Mozilla/5.0 (Windows NT 10.0; Win64; x64) AppleWebKit/537.36 (KHTML, like Gecko) Chrome/102.0.5005.63 Safari/537.36 Edg/102.0.1245.39'\n",
    "    }\n",
    "\n",
    "response = requests.get(url=url, headers=header)\n",
    "response.encoding = 'utf-8'\n",
    "page_text = response.text\n",
    "tree = etree.HTML(page_text)\n",
    "figure_list = tree.xpath('//div[@class=\"gallery_inner\"]/figure')\n",
    "if not os.path.exists('./piclitl'):\n",
    "   os.makedirs('./piclitl')\n",
    "for figure in figure_list:\n",
    "    try:\n",
    "       img_src = figure.xpath('./a/img/@data-src')[0]\n",
    "    except(IndexError):\n",
    "            print('未成功匹配到字段')\n",
    "    img_src = 'https:' + img_src\n",
    "    img_name = img_src.split('/')[-1]\n",
    "    try:\n",
    "        img_data = requests.get(url=img_src, headers=header).content\n",
    "    except(requests.exceptions.InvalidURL):\n",
    "        print('没有访问地址')\n",
    "    time.sleep(2)\n",
    "    \n",
    "img_path = 'piclitl/' + img_name\n",
    "with open(img_path, 'wb') as fp:\n",
    "            fp.write(img_data)\n",
    "            print(img_name, '下载成功')"
   ]
  },
  {
   "cell_type": "code",
   "execution_count": 1,
   "metadata": {},
   "outputs": [
    {
     "data": {
      "text/plain": [
       "'C:\\\\Users\\\\Administrator'"
      ]
     },
     "execution_count": 1,
     "metadata": {},
     "output_type": "execute_result"
    }
   ],
   "source": [
    "import os\n",
    "os.getcwd()\n"
   ]
  },
  {
   "cell_type": "code",
   "execution_count": 11,
   "metadata": {},
   "outputs": [
    {
     "data": {
      "text/plain": [
       "['.conda',\n",
       " '.condarc',\n",
       " '.ipynb_checkpoints',\n",
       " '.ipython',\n",
       " '20221020j1512picturedown.ipynb',\n",
       " 'AppData',\n",
       " 'Application Data',\n",
       " 'Contacts',\n",
       " 'Cookies',\n",
       " 'Desktop',\n",
       " 'Documents',\n",
       " 'Downloads',\n",
       " 'Favorites',\n",
       " 'IntelGraphicsProfiles',\n",
       " 'Links',\n",
       " 'Local Settings',\n",
       " 'MicrosoftEdgeBackups',\n",
       " 'Music',\n",
       " 'My Documents',\n",
       " 'NetHood',\n",
       " 'NTUSER.DAT',\n",
       " 'ntuser.dat.LOG1',\n",
       " 'ntuser.dat.LOG2',\n",
       " 'NTUSER.DAT{82f1940b-5866-11ea-a5bd-000c29b2e873}.TxR.0.regtrans-ms',\n",
       " 'NTUSER.DAT{82f1940b-5866-11ea-a5bd-000c29b2e873}.TxR.1.regtrans-ms',\n",
       " 'NTUSER.DAT{82f1940b-5866-11ea-a5bd-000c29b2e873}.TxR.2.regtrans-ms',\n",
       " 'NTUSER.DAT{82f1940b-5866-11ea-a5bd-000c29b2e873}.TxR.blf',\n",
       " 'NTUSER.DAT{82f1940c-5866-11ea-a5bd-000c29b2e873}.TM.blf',\n",
       " 'NTUSER.DAT{82f1940c-5866-11ea-a5bd-000c29b2e873}.TMContainer00000000000000000001.regtrans-ms',\n",
       " 'NTUSER.DAT{82f1940c-5866-11ea-a5bd-000c29b2e873}.TMContainer00000000000000000002.regtrans-ms',\n",
       " 'ntuser.ini',\n",
       " 'ntuser.pol',\n",
       " 'Pictures',\n",
       " 'PrintHood',\n",
       " 'Recent',\n",
       " 'Saved Games',\n",
       " 'Searches',\n",
       " 'SendTo',\n",
       " 'Templates',\n",
       " 'UIDowner',\n",
       " 'Videos',\n",
       " '「开始」菜单',\n",
       " '第07章 数据存取：文件.ipynb']"
      ]
     },
     "execution_count": 11,
     "metadata": {},
     "output_type": "execute_result"
    }
   ],
   "source": [
    "os.listdir(r'C:\\Users\\Administrator')"
   ]
  },
  {
   "cell_type": "code",
   "execution_count": 12,
   "metadata": {},
   "outputs": [
    {
     "name": "stdout",
     "output_type": "stream",
     "text": [
      "请输入商品名称和销售额（用逗号隔开，直接回车结束）：笔记本,100\n",
      "请输入商品名称和销售额（用逗号隔开，直接回车结束）：铅笔,500\n",
      "请输入商品名称和销售额（用逗号隔开，直接回车结束）：橡皮,50\n",
      "请输入商品名称和销售额（用逗号隔开，直接回车结束）：\n"
     ]
    }
   ],
   "source": [
    "sales = []\n",
    "sale_amt = 0\n",
    "while True:\n",
    "    sale_info = input('请输入商品名称和销售额（用逗号隔开，直接回车结束）：')\n",
    "    if len(sale_info) == 0:\n",
    "        break\n",
    "    goods_name, amount = sale_info.split(',')\n",
    "    sale_amt = sale_amt + float(amount)\n",
    "    sales.append([goods_name, amount])\n",
    "sale_file = open('sales.txt', 'w', encoding='utf-8')\n",
    "sale_file.write('销售明细:\\n')\n",
    "for goods_name, amount in sales:\n",
    "    sale_file.write(goods_name + ',' + amount + '\\n')\n",
    "sale_file.write('\\n\\n')\n",
    "sale_file.write('销售额合计：{:.2f}元\\n'.format(sale_amt))\n",
    "sale_file.close()"
   ]
  },
  {
   "cell_type": "code",
   "execution_count": 13,
   "metadata": {
    "scrolled": true
   },
   "outputs": [
    {
     "name": "stdout",
     "output_type": "stream",
     "text": [
      "[['笔记本', '100'], ['铅笔', '500'], ['橡皮', '50']]\n"
     ]
    }
   ],
   "source": [
    "print(sales)"
   ]
  },
  {
   "cell_type": "code",
   "execution_count": 14,
   "metadata": {},
   "outputs": [
    {
     "name": "stdout",
     "output_type": "stream",
     "text": [
      "销售明细:\n",
      "笔记本,100\n",
      "铅笔,500\n",
      "橡皮,50\n",
      "\n",
      "\n",
      "销售额合计：650.00元\n"
     ]
    }
   ],
   "source": [
    "in_file = open('sales.txt', encoding='utf-8')\n",
    "for line in in_file:\n",
    "    print(line, end='')\n",
    "in_file.close()"
   ]
  },
  {
   "cell_type": "code",
   "execution_count": null,
   "metadata": {},
   "outputs": [],
   "source": [
    "img_src = 'https:'\n",
    "img_name = img_src.split('/')[-1]"
   ]
  }
 ],
 "metadata": {
  "kernelspec": {
   "display_name": "Python 3 (ipykernel)",
   "language": "python",
   "name": "python3"
  },
  "language_info": {
   "codemirror_mode": {
    "name": "ipython",
    "version": 3
   },
   "file_extension": ".py",
   "mimetype": "text/x-python",
   "name": "python",
   "nbconvert_exporter": "python",
   "pygments_lexer": "ipython3",
   "version": "3.10.7"
  }
 },
 "nbformat": 4,
 "nbformat_minor": 4
}
