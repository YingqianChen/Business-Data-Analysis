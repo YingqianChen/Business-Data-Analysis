{
 "cells": [
  {
   "cell_type": "code",
   "execution_count": 15,
   "metadata": {},
   "outputs": [
    {
     "name": "stdout",
     "output_type": "stream",
     "text": [
      "Hello, Pandas\n",
      "0.24.2\n"
     ]
    }
   ],
   "source": [
    "import pandas as pd\n",
    "import numpy as np\n",
    "import matplotlib.pyplot as plt\n",
    "print(\"Hello, Pandas\")\n",
    "print(pd.__version__)"
   ]
  },
  {
   "cell_type": "code",
   "execution_count": 4,
   "metadata": {
    "scrolled": true
   },
   "outputs": [
    {
     "name": "stdout",
     "output_type": "stream",
     "text": [
      "0    a\n",
      "1    b\n",
      "2    c\n",
      "3    d\n",
      "dtype: object\n"
     ]
    }
   ],
   "source": [
    "#import the pandas library and aliasing as pd\n",
    "import pandas as pd\n",
    "import numpy as np\n",
    "data1 = np.array(['a','b','c','d'])\n",
    "s1 = pd.Series(data1)\n",
    "print(s1)\n"
   ]
  },
  {
   "cell_type": "code",
   "execution_count": 11,
   "metadata": {},
   "outputs": [
    {
     "name": "stdout",
     "output_type": "stream",
     "text": [
      "100    a\n",
      "101    b\n",
      "102    c\n",
      "103    d\n",
      "dtype: object\n"
     ]
    }
   ],
   "source": [
    "data2 = np.array(['a','b','c','d'])\n",
    "s2 = pd.Series(data2,index=[100,101,102,103])\n",
    "print(s2)\n",
    "\n"
   ]
  },
  {
   "cell_type": "code",
   "execution_count": 12,
   "metadata": {},
   "outputs": [
    {
     "name": "stdout",
     "output_type": "stream",
     "text": [
      "a    0.0\n",
      "b    1.0\n",
      "c    2.0\n",
      "dtype: float64\n"
     ]
    }
   ],
   "source": [
    "\n",
    "data3 = {'a' : 0., 'b' : 1., 'c' : 2.}\n",
    "s3 = pd.Series(data3)\n",
    "print(s3)\n",
    "\n"
   ]
  },
  {
   "cell_type": "code",
   "execution_count": 13,
   "metadata": {},
   "outputs": [
    {
     "name": "stdout",
     "output_type": "stream",
     "text": [
      "0    5\n",
      "1    5\n",
      "2    5\n",
      "3    5\n",
      "dtype: int64\n"
     ]
    }
   ],
   "source": [
    "s4 = pd.Series(5, index=[0, 1, 2, 3])\n",
    "print (s4)\n"
   ]
  },
  {
   "cell_type": "code",
   "execution_count": 9,
   "metadata": {},
   "outputs": [
    {
     "name": "stdout",
     "output_type": "stream",
     "text": [
      "1\n",
      "a    1\n",
      "b    2\n",
      "c    3\n",
      "dtype: int64\n",
      "c    3\n",
      "d    4\n",
      "e    5\n",
      "dtype: int64\n",
      "1\n",
      "a    1\n",
      "c    3\n",
      "d    4\n",
      "dtype: int64\n"
     ]
    }
   ],
   "source": [
    "ss = pd.Series([1,2,3,4,5],index = ['a','b','c','d','e'])\n",
    "#retrieve the first element\n",
    "print(ss[0]) \n",
    "#retrieve the first three element\n",
    "print(ss[:3]) \n",
    "#retrieve the last three element\n",
    "print(ss[-3:]) \n",
    "#可以通过索引标签获取和设置值\n",
    "#retrieve a single element\n",
    "print(ss['a'])\n",
    "#retrieve multiple elements\n",
    "print(ss[['a','c','d']])\n",
    "#retrieve error\n",
    "# print(ss['f'])"
   ]
  },
  {
   "cell_type": "code",
   "execution_count": 2,
   "metadata": {},
   "outputs": [
    {
     "name": "stdout",
     "output_type": "stream",
     "text": [
      "0    1.0\n",
      "1    3.0\n",
      "2    5.0\n",
      "3    NaN\n",
      "4    6.0\n",
      "5    8.0\n",
      "dtype: float64\n"
     ]
    }
   ],
   "source": [
    "s1 = pd.Series([1,3,5,np.nan,6,8])\n",
    "\n",
    "print(s1)"
   ]
  },
  {
   "cell_type": "code",
   "execution_count": 11,
   "metadata": {},
   "outputs": [
    {
     "name": "stdout",
     "output_type": "stream",
     "text": [
      "   0\n",
      "0  1\n",
      "1  2\n",
      "2  3\n",
      "3  4\n",
      "4  5\n"
     ]
    }
   ],
   "source": [
    "import pandas as pd\n",
    "dataf1 = [1,2,3,4,5]\n",
    "df1 = pd.DataFrame(dataf1)\n",
    "print(df1)"
   ]
  },
  {
   "cell_type": "code",
   "execution_count": 4,
   "metadata": {},
   "outputs": [
    {
     "name": "stdout",
     "output_type": "stream",
     "text": [
      "DatetimeIndex(['2019-11-11', '2019-11-12', '2019-11-13', '2019-11-14',\n",
      "               '2019-11-15', '2019-11-16', '2019-11-17'],\n",
      "              dtype='datetime64[ns]', freq='D')\n",
      "--------------------------------\n",
      "                   A         B         C         D\n",
      "2019-11-11 -0.092716 -2.545588 -0.413231  0.005313\n",
      "2019-11-12  1.592527  1.114781 -0.790662 -0.899344\n",
      "2019-11-13 -2.140796 -1.300888  0.494869 -0.796068\n",
      "2019-11-14 -0.282444  1.071257 -0.873806  1.099147\n",
      "2019-11-15 -0.055565 -0.892049 -1.274531  0.203611\n",
      "2019-11-16  0.164986  1.002348  1.719528 -1.991788\n",
      "2019-11-17  0.136879  0.354911  0.390208 -1.601919\n"
     ]
    }
   ],
   "source": [
    "dates1 = pd.date_range('20191111', periods=7)\n",
    "print(dates1)\n",
    "\n",
    "print(\"--\"*16)\n",
    "df1 = pd.DataFrame(np.random.randn(7,4), index=dates1, columns=list('ABCD'))\n",
    "print(df1)\n"
   ]
  },
  {
   "cell_type": "code",
   "execution_count": 12,
   "metadata": {},
   "outputs": [
    {
     "name": "stdout",
     "output_type": "stream",
     "text": [
      "   Money\n",
      "0      1\n",
      "1      2\n",
      "2      3\n",
      "3      4\n",
      "4      5\n"
     ]
    }
   ],
   "source": [
    "data = [1,2,3,4,5]\n",
    "#df = pd.DataFrame(data)\n",
    "df = pd.DataFrame(data,columns=['Money'])\n",
    "print(df)"
   ]
  },
  {
   "cell_type": "code",
   "execution_count": 16,
   "metadata": {},
   "outputs": [
    {
     "name": "stdout",
     "output_type": "stream",
     "text": [
      "     Name   Age\n",
      "0    Alex  10.0\n",
      "1     Bob  12.0\n",
      "2  Clarke  13.0\n"
     ]
    },
    {
     "name": "stderr",
     "output_type": "stream",
     "text": [
      "C:\\Users\\12461\\AppData\\Local\\Temp\\ipykernel_11344\\215062575.py:4: FutureWarning: Could not cast to float64, falling back to object. This behavior is deprecated. In a future version, when a dtype is passed to 'DataFrame', either all columns will be cast to that dtype, or a TypeError will be raised.\n",
      "  df2 = pd.DataFrame(dataf2, columns=['Name','Age'],dtype=float)\n"
     ]
    }
   ],
   "source": [
    "#import pandas as pd\n",
    "dataf2 = [['Alex',10],['Bob',12],['Clarke',13]]\n",
    "#df2 = pd.DataFrame(dataf2, columns=['Name','Age'])\n",
    "df2 = pd.DataFrame(dataf2, columns=['Name','Age'],dtype=float)\n",
    "\n",
    "print(df2)"
   ]
  },
  {
   "cell_type": "code",
   "execution_count": 4,
   "metadata": {},
   "outputs": [
    {
     "name": "stdout",
     "output_type": "stream",
     "text": [
      "        Name  Age\n",
      "rank1    Tom   28\n",
      "rank2   Jack   34\n",
      "rank3  Steve   29\n",
      "rank4  Ricky   42\n"
     ]
    }
   ],
   "source": [
    "import pandas as pd\n",
    "dataf3 = {'Name':['Tom', 'Jack', 'Steve', 'Ricky'],'Age':[28,34,29,42]}\n",
    "#df3 = pd.DataFrame(dataf3)\n",
    "df3 = pd.DataFrame(dataf3, index=['rank1','rank2','rank3','rank4'])\n",
    "\n",
    "print(df3)"
   ]
  },
  {
   "cell_type": "code",
   "execution_count": 5,
   "metadata": {},
   "outputs": [
    {
     "name": "stdout",
     "output_type": "stream",
     "text": [
      "        a   b     c\n",
      "first   1   2   NaN\n",
      "second  5  10  20.0\n"
     ]
    }
   ],
   "source": [
    "data11 = [{'a': 1, 'b': 2},{'a': 5, 'b': 10, 'c': 20}]\n",
    "#df11 = pd.DataFrame(data11)\n",
    "df11 = pd.DataFrame(data11, index=['first', 'second'])\n",
    "\n",
    "print(df11)"
   ]
  },
  {
   "cell_type": "code",
   "execution_count": 18,
   "metadata": {},
   "outputs": [
    {
     "name": "stdout",
     "output_type": "stream",
     "text": [
      "        a   b\n",
      "first   1   2\n",
      "second  5  10\n",
      "        a  b1\n",
      "first   1 NaN\n",
      "second  5 NaN\n"
     ]
    }
   ],
   "source": [
    "#With two column indices, values same as dictionary keys\n",
    "df21 = pd.DataFrame(data11, index=['first', 'second'], columns=['a', 'b'])\n",
    "\n",
    "#With two column indices with one index with other name\n",
    "df22 = pd.DataFrame(data11, index=['first', 'second'], columns=['a', 'b1'])\n",
    "print(df21)\n",
    "print(df22)"
   ]
  },
  {
   "cell_type": "code",
   "execution_count": 19,
   "metadata": {},
   "outputs": [
    {
     "name": "stdout",
     "output_type": "stream",
     "text": [
      "   one  two\n",
      "a  1.0    1\n",
      "b  2.0    2\n",
      "c  3.0    3\n",
      "d  NaN    4\n"
     ]
    }
   ],
   "source": [
    "d = {'one' : pd.Series([1, 2, 3], index=['a', 'b', 'c']),\n",
    "      'two' : pd.Series([1, 2, 3, 4], index=['a', 'b', 'c', 'd'])}\n",
    "\n",
    "df23 = pd.DataFrame(d)\n",
    "print(df23)"
   ]
  },
  {
   "cell_type": "code",
   "execution_count": 20,
   "metadata": {},
   "outputs": [
    {
     "name": "stdout",
     "output_type": "stream",
     "text": [
      "Adding a new column by passing as Series:\n",
      "   one  two  three\n",
      "a  1.0    1   10.0\n",
      "b  2.0    2   20.0\n",
      "c  3.0    3   30.0\n",
      "d  NaN    4    NaN\n",
      "Adding a new column using the existing columns in DataFrame:\n",
      "   one  two  three  four\n",
      "a  1.0    1   10.0  11.0\n",
      "b  2.0    2   20.0  22.0\n",
      "c  3.0    3   30.0  33.0\n",
      "d  NaN    4    NaN   NaN\n"
     ]
    }
   ],
   "source": [
    "print (\"Adding a new column by passing as Series:\")\n",
    "df23['three']=pd.Series([10,20,30],index=['a','b','c'])\n",
    "print(df23)\n",
    "\n",
    "print (\"Adding a new column using the existing columns in DataFrame:\")\n",
    "df23['four']=df23['one']+df23['three']\n",
    "\n",
    "print(df23)"
   ]
  },
  {
   "cell_type": "code",
   "execution_count": 22,
   "metadata": {},
   "outputs": [
    {
     "name": "stdout",
     "output_type": "stream",
     "text": [
      "   one  two  three  four\n",
      "a  1.0    1   10.0  11.0\n",
      "b  2.0    2   20.0  22.0\n",
      "c  3.0    3   30.0  33.0\n",
      "d  NaN    4    NaN   NaN\n"
     ]
    }
   ],
   "source": [
    "print(df23)"
   ]
  },
  {
   "cell_type": "code",
   "execution_count": 23,
   "metadata": {},
   "outputs": [
    {
     "name": "stdout",
     "output_type": "stream",
     "text": [
      "Our dataframe is:\n",
      "   one  two  three\n",
      "a  1.0    1   10.0\n",
      "b  2.0    2   20.0\n",
      "c  3.0    3   30.0\n",
      "d  NaN    4    NaN\n",
      "Deleting the first column using DEL function:\n",
      "   two  three\n",
      "a    1   10.0\n",
      "b    2   20.0\n",
      "c    3   30.0\n",
      "d    4    NaN\n",
      "Deleting another column using POP function:\n",
      "   three\n",
      "a   10.0\n",
      "b   20.0\n",
      "c   30.0\n",
      "d    NaN\n"
     ]
    }
   ],
   "source": [
    "# Using the previous DataFrame, we will delete a column\n",
    "# using del function\n",
    "import pandas as pd\n",
    "\n",
    "d2 = {'one' : pd.Series([1, 2, 3], index=['a', 'b', 'c']), \n",
    "     'two' : pd.Series([1, 2, 3, 4], index=['a', 'b', 'c', 'd']), \n",
    "     'three' : pd.Series([10,20,30], index=['a','b','c'])}\n",
    "\n",
    "df24 = pd.DataFrame(d2)\n",
    "print (\"Our dataframe is:\")\n",
    "print(df24)\n",
    "\n",
    "# using del function\n",
    "print (\"Deleting the first column using DEL function:\")\n",
    "del df24['one']\n",
    "print(df24)\n",
    "\n",
    "# using pop function\n",
    "print (\"Deleting another column using POP function:\")\n",
    "df24.pop('two')\n",
    "print(df24)"
   ]
  },
  {
   "cell_type": "code",
   "execution_count": 24,
   "metadata": {},
   "outputs": [
    {
     "name": "stdout",
     "output_type": "stream",
     "text": [
      "a    1\n",
      "b    2\n",
      "c    3\n",
      "d    4\n",
      "Name: two, dtype: int64\n"
     ]
    }
   ],
   "source": [
    "#import pandas as pd\n",
    "#import numpy as np\n",
    "#import matplotlib.pyplot as plt\n",
    "\n",
    "d3 = {'one' : pd.Series([1, 2, 3], index=['a', 'b', 'c']), \n",
    "     'two' : pd.Series([1, 2, 3, 4], index=['a', 'b', 'c', 'd'])}\n",
    "df3 = pd.DataFrame(d3)\n",
    "print(df3['two'])\n"
   ]
  },
  {
   "cell_type": "code",
   "execution_count": 29,
   "metadata": {},
   "outputs": [
    {
     "name": "stdout",
     "output_type": "stream",
     "text": [
      "   one  two\n",
      "a  1.0    1\n",
      "b  2.0    2\n",
      "c  3.0    3\n",
      "d  NaN    4\n"
     ]
    }
   ],
   "source": [
    "print(df3)"
   ]
  },
  {
   "cell_type": "code",
   "execution_count": 39,
   "metadata": {},
   "outputs": [
    {
     "name": "stdout",
     "output_type": "stream",
     "text": [
      "one    2.0\n",
      "two    2.0\n",
      "Name: b, dtype: float64\n",
      "one    2.0\n",
      "two    2.0\n",
      "Name: b, dtype: float64\n",
      "   one  two\n",
      "c  3.0    3\n",
      "d  NaN    4\n"
     ]
    }
   ],
   "source": [
    "\n",
    "#df3 = pd.DataFrame(d3)\n",
    "print(df3.loc['b'])\n",
    "print(df3.iloc[1])\n",
    "print(df3[2:4])"
   ]
  },
  {
   "cell_type": "code",
   "execution_count": 45,
   "metadata": {},
   "outputs": [
    {
     "name": "stdout",
     "output_type": "stream",
     "text": [
      "   a  b\n",
      "0  1  2\n",
      "1  3  4\n",
      "   a  b\n",
      "0  1  2\n",
      "1  3  4\n",
      "0  5  6\n",
      "1  7  8\n"
     ]
    },
    {
     "name": "stderr",
     "output_type": "stream",
     "text": [
      "C:\\Users\\12461\\AppData\\Local\\Temp\\ipykernel_11344\\4007134956.py:6: FutureWarning: The frame.append method is deprecated and will be removed from pandas in a future version. Use pandas.concat instead.\n",
      "  df31 = df31.append(df32)\n"
     ]
    }
   ],
   "source": [
    "df31 = pd.DataFrame([[1, 2], [3, 4]], columns = ['a','b'])\n",
    "print(df31) \n",
    "\n",
    "df32 = pd.DataFrame([[5, 6], [7, 8]], columns = ['a','b'])\n",
    "\n",
    "df31 = df31.append(df32)\n",
    "print(df31) "
   ]
  },
  {
   "cell_type": "code",
   "execution_count": 46,
   "metadata": {},
   "outputs": [
    {
     "name": "stdout",
     "output_type": "stream",
     "text": [
      "   a  b\n",
      "0  5  6\n",
      "1  7  8\n",
      "   a  b\n",
      "1  7  8\n"
     ]
    }
   ],
   "source": [
    "print(df32)\n",
    "df32=df32.drop(0)\n",
    "print(df32)"
   ]
  },
  {
   "cell_type": "code",
   "execution_count": 5,
   "metadata": {},
   "outputs": [
    {
     "name": "stdout",
     "output_type": "stream",
     "text": [
      "最便宜的水果是： {'name': 'banana', 'price': '3.25'}\n",
      "最贵的水果是： {'name': 'Cherry', 'price': '9.98'}\n"
     ]
    }
   ],
   "source": [
    "fruit_price=[{'name':'mango','price':'6.49'},\n",
    "             {'name':'orange','price':'4.31'},\n",
    "             {'name':'banana','price':'3.25'},\n",
    "            {'name':'Cherry','price':'9.98'}]\n",
    "\n",
    "cheap=min(fruit_price,key=lambda x:x['price'])\n",
    "expensive=max(fruit_price,key=lambda x:x['price'])\n",
    "print(\"最便宜的水果是：\",cheap)\n",
    "print(\"最贵的水果是：\",expensive)\n"
   ]
  },
  {
   "cell_type": "code",
   "execution_count": 7,
   "metadata": {},
   "outputs": [
    {
     "data": {
      "text/html": [
       "<div>\n",
       "<style scoped>\n",
       "    .dataframe tbody tr th:only-of-type {\n",
       "        vertical-align: middle;\n",
       "    }\n",
       "\n",
       "    .dataframe tbody tr th {\n",
       "        vertical-align: top;\n",
       "    }\n",
       "\n",
       "    .dataframe thead th {\n",
       "        text-align: right;\n",
       "    }\n",
       "</style>\n",
       "<table border=\"1\" class=\"dataframe\">\n",
       "  <thead>\n",
       "    <tr style=\"text-align: right;\">\n",
       "      <th></th>\n",
       "      <th>stkcd</th>\n",
       "      <th>b001100000</th>\n",
       "      <th>b001101000</th>\n",
       "      <th>bbd1102000</th>\n",
       "      <th>bbd1102101</th>\n",
       "      <th>bbd1102203</th>\n",
       "      <th>b0i1103000</th>\n",
       "      <th>b0i1103101</th>\n",
       "      <th>b0i1103111</th>\n",
       "      <th>b0i1103203</th>\n",
       "      <th>...</th>\n",
       "      <th>b002000000</th>\n",
       "      <th>b002000101</th>\n",
       "      <th>b002000201</th>\n",
       "      <th>b003000000</th>\n",
       "      <th>b004000000</th>\n",
       "      <th>b005000000</th>\n",
       "      <th>b006000000</th>\n",
       "      <th>b006000101</th>\n",
       "      <th>b006000102</th>\n",
       "      <th>year</th>\n",
       "    </tr>\n",
       "  </thead>\n",
       "  <tbody>\n",
       "    <tr>\n",
       "      <th>0</th>\n",
       "      <td>1</td>\n",
       "      <td>4.480811e+09</td>\n",
       "      <td>NaN</td>\n",
       "      <td>4.193739e+09</td>\n",
       "      <td>7.877700e+09</td>\n",
       "      <td>3.683961e+09</td>\n",
       "      <td>NaN</td>\n",
       "      <td>NaN</td>\n",
       "      <td>NaN</td>\n",
       "      <td>NaN</td>\n",
       "      <td>...</td>\n",
       "      <td>2.897743e+08</td>\n",
       "      <td>2.897743e+08</td>\n",
       "      <td>NaN</td>\n",
       "      <td>NaN</td>\n",
       "      <td>NaN</td>\n",
       "      <td>NaN</td>\n",
       "      <td>NaN</td>\n",
       "      <td>NaN</td>\n",
       "      <td>NaN</td>\n",
       "      <td>2004</td>\n",
       "    </tr>\n",
       "    <tr>\n",
       "      <th>1</th>\n",
       "      <td>2</td>\n",
       "      <td>7.667226e+09</td>\n",
       "      <td>7.667226e+09</td>\n",
       "      <td>NaN</td>\n",
       "      <td>NaN</td>\n",
       "      <td>NaN</td>\n",
       "      <td>NaN</td>\n",
       "      <td>NaN</td>\n",
       "      <td>NaN</td>\n",
       "      <td>NaN</td>\n",
       "      <td>...</td>\n",
       "      <td>9.126537e+08</td>\n",
       "      <td>8.780063e+08</td>\n",
       "      <td>34647464.65</td>\n",
       "      <td>NaN</td>\n",
       "      <td>NaN</td>\n",
       "      <td>NaN</td>\n",
       "      <td>NaN</td>\n",
       "      <td>NaN</td>\n",
       "      <td>NaN</td>\n",
       "      <td>2004</td>\n",
       "    </tr>\n",
       "    <tr>\n",
       "      <th>2</th>\n",
       "      <td>4</td>\n",
       "      <td>1.067478e+08</td>\n",
       "      <td>1.067478e+08</td>\n",
       "      <td>NaN</td>\n",
       "      <td>NaN</td>\n",
       "      <td>NaN</td>\n",
       "      <td>NaN</td>\n",
       "      <td>NaN</td>\n",
       "      <td>NaN</td>\n",
       "      <td>NaN</td>\n",
       "      <td>...</td>\n",
       "      <td>-3.282932e+06</td>\n",
       "      <td>-4.062670e+06</td>\n",
       "      <td>779737.52</td>\n",
       "      <td>NaN</td>\n",
       "      <td>NaN</td>\n",
       "      <td>NaN</td>\n",
       "      <td>NaN</td>\n",
       "      <td>NaN</td>\n",
       "      <td>NaN</td>\n",
       "      <td>2004</td>\n",
       "    </tr>\n",
       "    <tr>\n",
       "      <th>3</th>\n",
       "      <td>5</td>\n",
       "      <td>4.937819e+07</td>\n",
       "      <td>4.937819e+07</td>\n",
       "      <td>NaN</td>\n",
       "      <td>NaN</td>\n",
       "      <td>NaN</td>\n",
       "      <td>NaN</td>\n",
       "      <td>NaN</td>\n",
       "      <td>NaN</td>\n",
       "      <td>NaN</td>\n",
       "      <td>...</td>\n",
       "      <td>1.690340e+06</td>\n",
       "      <td>1.690340e+06</td>\n",
       "      <td>NaN</td>\n",
       "      <td>NaN</td>\n",
       "      <td>NaN</td>\n",
       "      <td>NaN</td>\n",
       "      <td>NaN</td>\n",
       "      <td>NaN</td>\n",
       "      <td>NaN</td>\n",
       "      <td>2004</td>\n",
       "    </tr>\n",
       "    <tr>\n",
       "      <th>4</th>\n",
       "      <td>6</td>\n",
       "      <td>1.876976e+09</td>\n",
       "      <td>1.876976e+09</td>\n",
       "      <td>NaN</td>\n",
       "      <td>NaN</td>\n",
       "      <td>NaN</td>\n",
       "      <td>NaN</td>\n",
       "      <td>NaN</td>\n",
       "      <td>NaN</td>\n",
       "      <td>NaN</td>\n",
       "      <td>...</td>\n",
       "      <td>4.877079e+07</td>\n",
       "      <td>5.372229e+07</td>\n",
       "      <td>-4951498.51</td>\n",
       "      <td>NaN</td>\n",
       "      <td>NaN</td>\n",
       "      <td>NaN</td>\n",
       "      <td>NaN</td>\n",
       "      <td>NaN</td>\n",
       "      <td>NaN</td>\n",
       "      <td>2004</td>\n",
       "    </tr>\n",
       "  </tbody>\n",
       "</table>\n",
       "<p>5 rows × 60 columns</p>\n",
       "</div>"
      ],
      "text/plain": [
       "   stkcd    b001100000    b001101000    bbd1102000    bbd1102101  \\\n",
       "0      1  4.480811e+09           NaN  4.193739e+09  7.877700e+09   \n",
       "1      2  7.667226e+09  7.667226e+09           NaN           NaN   \n",
       "2      4  1.067478e+08  1.067478e+08           NaN           NaN   \n",
       "3      5  4.937819e+07  4.937819e+07           NaN           NaN   \n",
       "4      6  1.876976e+09  1.876976e+09           NaN           NaN   \n",
       "\n",
       "     bbd1102203  b0i1103000  b0i1103101  b0i1103111  b0i1103203  ...  \\\n",
       "0  3.683961e+09         NaN         NaN         NaN         NaN  ...   \n",
       "1           NaN         NaN         NaN         NaN         NaN  ...   \n",
       "2           NaN         NaN         NaN         NaN         NaN  ...   \n",
       "3           NaN         NaN         NaN         NaN         NaN  ...   \n",
       "4           NaN         NaN         NaN         NaN         NaN  ...   \n",
       "\n",
       "     b002000000    b002000101   b002000201  b003000000  b004000000  \\\n",
       "0  2.897743e+08  2.897743e+08          NaN         NaN         NaN   \n",
       "1  9.126537e+08  8.780063e+08  34647464.65         NaN         NaN   \n",
       "2 -3.282932e+06 -4.062670e+06    779737.52         NaN         NaN   \n",
       "3  1.690340e+06  1.690340e+06          NaN         NaN         NaN   \n",
       "4  4.877079e+07  5.372229e+07  -4951498.51         NaN         NaN   \n",
       "\n",
       "   b005000000  b006000000  b006000101  b006000102  year  \n",
       "0         NaN         NaN         NaN         NaN  2004  \n",
       "1         NaN         NaN         NaN         NaN  2004  \n",
       "2         NaN         NaN         NaN         NaN  2004  \n",
       "3         NaN         NaN         NaN         NaN  2004  \n",
       "4         NaN         NaN         NaN         NaN  2004  \n",
       "\n",
       "[5 rows x 60 columns]"
      ]
     },
     "execution_count": 7,
     "metadata": {},
     "output_type": "execute_result"
    }
   ],
   "source": [
    "#单个sheet excel读取\n",
    "#import pandas as pd    #通常的做法是将pandas简称为pd\n",
    "path='C:\\\\Users\\\\DELL\\\\利润表2018.xls'  \n",
    "#path=r'C:\\Users\\DELL\\利润表2018.xls'     #设置读入数据的路径\n",
    "df1=pd.read_excel(path,header=0,index_col=None)   #读入excel，header=0,将第一行作为列名\n",
    "df1.head()    #预览前5行\n",
    "#其中header选项用来指定行名，默认 header=0 将第一行数据作为行名，依次类推。\n",
    "#Header=None 不指定行名。index_col 来设置索引，\n",
    "#index_col=None 重新生成一列作为index值，这里可以指定 \n",
    "#index_col=0，将第一列作为索引，也可使用 index_col=’stkcd’ 将股票代码作为索引。"
   ]
  },
  {
   "cell_type": "code",
   "execution_count": 8,
   "metadata": {},
   "outputs": [
    {
     "data": {
      "text/plain": [
       "['s2004',\n",
       " 'sheet2005',\n",
       " '2006',\n",
       " 'sh2007',\n",
       " 'sheet2008',\n",
       " 'sheet2009',\n",
       " 'sheet2010',\n",
       " 'sheet2011']"
      ]
     },
     "execution_count": 8,
     "metadata": {},
     "output_type": "execute_result"
    }
   ],
   "source": [
    "#multiple sheets\n",
    "path1=r'C:\\Users\\DELL\\利润表.xls'\n",
    "xls=pd.ExcelFile(path1)    #读入excel表格\n",
    "xls.sheet_names     # 查看excel表中所有sheet的名称"
   ]
  },
  {
   "cell_type": "code",
   "execution_count": 9,
   "metadata": {},
   "outputs": [
    {
     "data": {
      "text/html": [
       "<div>\n",
       "<style scoped>\n",
       "    .dataframe tbody tr th:only-of-type {\n",
       "        vertical-align: middle;\n",
       "    }\n",
       "\n",
       "    .dataframe tbody tr th {\n",
       "        vertical-align: top;\n",
       "    }\n",
       "\n",
       "    .dataframe thead th {\n",
       "        text-align: right;\n",
       "    }\n",
       "</style>\n",
       "<table border=\"1\" class=\"dataframe\">\n",
       "  <thead>\n",
       "    <tr style=\"text-align: right;\">\n",
       "      <th></th>\n",
       "      <th>stkcd</th>\n",
       "      <th>b001100000</th>\n",
       "      <th>b001101000</th>\n",
       "      <th>bbd1102000</th>\n",
       "      <th>bbd1102101</th>\n",
       "      <th>bbd1102203</th>\n",
       "      <th>b0i1103000</th>\n",
       "      <th>b0i1103101</th>\n",
       "      <th>b0i1103111</th>\n",
       "      <th>b0i1103203</th>\n",
       "      <th>...</th>\n",
       "      <th>b002000000</th>\n",
       "      <th>b002000101</th>\n",
       "      <th>b002000201</th>\n",
       "      <th>b003000000</th>\n",
       "      <th>b004000000</th>\n",
       "      <th>b005000000</th>\n",
       "      <th>b006000000</th>\n",
       "      <th>b006000101</th>\n",
       "      <th>b006000102</th>\n",
       "      <th>year</th>\n",
       "    </tr>\n",
       "  </thead>\n",
       "  <tbody>\n",
       "    <tr>\n",
       "      <th>0</th>\n",
       "      <td>1</td>\n",
       "      <td>4.557763e+09</td>\n",
       "      <td>NaN</td>\n",
       "      <td>4.133321e+09</td>\n",
       "      <td>7.879988e+09</td>\n",
       "      <td>3.746667e+09</td>\n",
       "      <td>NaN</td>\n",
       "      <td>NaN</td>\n",
       "      <td>NaN</td>\n",
       "      <td>NaN</td>\n",
       "      <td>...</td>\n",
       "      <td>3.517275e+08</td>\n",
       "      <td>3.517275e+08</td>\n",
       "      <td>NaN</td>\n",
       "      <td>NaN</td>\n",
       "      <td>NaN</td>\n",
       "      <td>NaN</td>\n",
       "      <td>NaN</td>\n",
       "      <td>NaN</td>\n",
       "      <td>NaN</td>\n",
       "      <td>2005</td>\n",
       "    </tr>\n",
       "    <tr>\n",
       "      <th>1</th>\n",
       "      <td>2</td>\n",
       "      <td>1.055885e+10</td>\n",
       "      <td>1.055885e+10</td>\n",
       "      <td>NaN</td>\n",
       "      <td>NaN</td>\n",
       "      <td>NaN</td>\n",
       "      <td>NaN</td>\n",
       "      <td>NaN</td>\n",
       "      <td>NaN</td>\n",
       "      <td>NaN</td>\n",
       "      <td>...</td>\n",
       "      <td>1.433426e+09</td>\n",
       "      <td>1.350363e+09</td>\n",
       "      <td>83062895.06</td>\n",
       "      <td>NaN</td>\n",
       "      <td>NaN</td>\n",
       "      <td>NaN</td>\n",
       "      <td>NaN</td>\n",
       "      <td>NaN</td>\n",
       "      <td>NaN</td>\n",
       "      <td>2005</td>\n",
       "    </tr>\n",
       "    <tr>\n",
       "      <th>2</th>\n",
       "      <td>4</td>\n",
       "      <td>6.137672e+07</td>\n",
       "      <td>6.137672e+07</td>\n",
       "      <td>NaN</td>\n",
       "      <td>NaN</td>\n",
       "      <td>NaN</td>\n",
       "      <td>NaN</td>\n",
       "      <td>NaN</td>\n",
       "      <td>NaN</td>\n",
       "      <td>NaN</td>\n",
       "      <td>...</td>\n",
       "      <td>-1.857741e+07</td>\n",
       "      <td>-1.357701e+07</td>\n",
       "      <td>-5000404.88</td>\n",
       "      <td>NaN</td>\n",
       "      <td>NaN</td>\n",
       "      <td>NaN</td>\n",
       "      <td>NaN</td>\n",
       "      <td>NaN</td>\n",
       "      <td>NaN</td>\n",
       "      <td>2005</td>\n",
       "    </tr>\n",
       "    <tr>\n",
       "      <th>3</th>\n",
       "      <td>5</td>\n",
       "      <td>4.539573e+07</td>\n",
       "      <td>4.539573e+07</td>\n",
       "      <td>NaN</td>\n",
       "      <td>NaN</td>\n",
       "      <td>NaN</td>\n",
       "      <td>NaN</td>\n",
       "      <td>NaN</td>\n",
       "      <td>NaN</td>\n",
       "      <td>NaN</td>\n",
       "      <td>...</td>\n",
       "      <td>-1.799700e+08</td>\n",
       "      <td>-1.799700e+08</td>\n",
       "      <td>NaN</td>\n",
       "      <td>NaN</td>\n",
       "      <td>NaN</td>\n",
       "      <td>NaN</td>\n",
       "      <td>NaN</td>\n",
       "      <td>NaN</td>\n",
       "      <td>NaN</td>\n",
       "      <td>2005</td>\n",
       "    </tr>\n",
       "    <tr>\n",
       "      <th>4</th>\n",
       "      <td>6</td>\n",
       "      <td>1.433865e+09</td>\n",
       "      <td>1.433865e+09</td>\n",
       "      <td>NaN</td>\n",
       "      <td>NaN</td>\n",
       "      <td>NaN</td>\n",
       "      <td>NaN</td>\n",
       "      <td>NaN</td>\n",
       "      <td>NaN</td>\n",
       "      <td>NaN</td>\n",
       "      <td>...</td>\n",
       "      <td>1.042226e+08</td>\n",
       "      <td>1.104044e+08</td>\n",
       "      <td>-6181733.48</td>\n",
       "      <td>NaN</td>\n",
       "      <td>NaN</td>\n",
       "      <td>NaN</td>\n",
       "      <td>NaN</td>\n",
       "      <td>NaN</td>\n",
       "      <td>NaN</td>\n",
       "      <td>2005</td>\n",
       "    </tr>\n",
       "  </tbody>\n",
       "</table>\n",
       "<p>5 rows × 60 columns</p>\n",
       "</div>"
      ],
      "text/plain": [
       "   stkcd    b001100000    b001101000    bbd1102000    bbd1102101  \\\n",
       "0      1  4.557763e+09           NaN  4.133321e+09  7.879988e+09   \n",
       "1      2  1.055885e+10  1.055885e+10           NaN           NaN   \n",
       "2      4  6.137672e+07  6.137672e+07           NaN           NaN   \n",
       "3      5  4.539573e+07  4.539573e+07           NaN           NaN   \n",
       "4      6  1.433865e+09  1.433865e+09           NaN           NaN   \n",
       "\n",
       "     bbd1102203  b0i1103000  b0i1103101  b0i1103111  b0i1103203  ...  \\\n",
       "0  3.746667e+09         NaN         NaN         NaN         NaN  ...   \n",
       "1           NaN         NaN         NaN         NaN         NaN  ...   \n",
       "2           NaN         NaN         NaN         NaN         NaN  ...   \n",
       "3           NaN         NaN         NaN         NaN         NaN  ...   \n",
       "4           NaN         NaN         NaN         NaN         NaN  ...   \n",
       "\n",
       "     b002000000    b002000101   b002000201  b003000000  b004000000  \\\n",
       "0  3.517275e+08  3.517275e+08          NaN         NaN         NaN   \n",
       "1  1.433426e+09  1.350363e+09  83062895.06         NaN         NaN   \n",
       "2 -1.857741e+07 -1.357701e+07  -5000404.88         NaN         NaN   \n",
       "3 -1.799700e+08 -1.799700e+08          NaN         NaN         NaN   \n",
       "4  1.042226e+08  1.104044e+08  -6181733.48         NaN         NaN   \n",
       "\n",
       "   b005000000  b006000000  b006000101  b006000102  year  \n",
       "0         NaN         NaN         NaN         NaN  2005  \n",
       "1         NaN         NaN         NaN         NaN  2005  \n",
       "2         NaN         NaN         NaN         NaN  2005  \n",
       "3         NaN         NaN         NaN         NaN  2005  \n",
       "4         NaN         NaN         NaN         NaN  2005  \n",
       "\n",
       "[5 rows x 60 columns]"
      ]
     },
     "execution_count": 9,
     "metadata": {},
     "output_type": "execute_result"
    }
   ],
   "source": [
    "#可以用sheet_name选项来指定需要读取的sheet，以sheet2005为例：\n",
    "sheet2005=pd.read_excel(path1,sheet_name='sheet2005')\n",
    "sheet2005.head()"
   ]
  },
  {
   "cell_type": "code",
   "execution_count": null,
   "metadata": {},
   "outputs": [],
   "source": [
    "#每个sheet作为元素导入到一个名为df的字典中\n",
    "df=pd.read_excel(path1,sheet_name=None)\n",
    "# 数据的导出方法和读入相似，\n",
    "#可以导出成csv、excel、dta、sas等常用格式。导出方法基本相同，\n",
    "#以导出2005年利润表为例：\n",
    "sheet2005.to_csv(r'C:\\Users\\DELL\\利润表2005.csv',index=False,header=True,columns=None)\n",
    "#其中：index指定是否导出索引，默认是True\n",
    "#header指定是否将列名导出，默认是True\n",
    "#colums可以指定需要导出的列，默认是None全部导出，如何我们仅仅想导出stkcd和year，则可指定：columns=[‘stkcd’,’year’]。\n",
    "\n",
    "# 当然也可以导出dta或者xlsx格式：\n",
    "sheet2005.to_stata(r'C:\\Users\\DELL\\利润表2005.dta',write_index=False)\n",
    "sheet2005.to_excel(r'C:\\Users\\DELL\\利润表2005.xlsx',index=False,header=True,columns=None)"
   ]
  },
  {
   "cell_type": "code",
   "execution_count": 10,
   "metadata": {},
   "outputs": [
    {
     "data": {
      "text/html": [
       "<div>\n",
       "<style scoped>\n",
       "    .dataframe tbody tr th:only-of-type {\n",
       "        vertical-align: middle;\n",
       "    }\n",
       "\n",
       "    .dataframe tbody tr th {\n",
       "        vertical-align: top;\n",
       "    }\n",
       "\n",
       "    .dataframe thead th {\n",
       "        text-align: right;\n",
       "    }\n",
       "</style>\n",
       "<table border=\"1\" class=\"dataframe\">\n",
       "  <thead>\n",
       "    <tr style=\"text-align: right;\">\n",
       "      <th></th>\n",
       "      <th>make</th>\n",
       "      <th>price</th>\n",
       "      <th>mpg</th>\n",
       "      <th>rep78</th>\n",
       "      <th>headroom</th>\n",
       "      <th>trunk</th>\n",
       "      <th>weight</th>\n",
       "      <th>length</th>\n",
       "      <th>turn</th>\n",
       "      <th>displacement</th>\n",
       "      <th>gear_ratio</th>\n",
       "      <th>foreign</th>\n",
       "    </tr>\n",
       "  </thead>\n",
       "  <tbody>\n",
       "    <tr>\n",
       "      <th>0</th>\n",
       "      <td>AMC Concord</td>\n",
       "      <td>4099</td>\n",
       "      <td>22</td>\n",
       "      <td>3.0</td>\n",
       "      <td>2.5</td>\n",
       "      <td>11</td>\n",
       "      <td>2930</td>\n",
       "      <td>186</td>\n",
       "      <td>40</td>\n",
       "      <td>121</td>\n",
       "      <td>3.58</td>\n",
       "      <td>Domestic</td>\n",
       "    </tr>\n",
       "    <tr>\n",
       "      <th>1</th>\n",
       "      <td>AMC Pacer</td>\n",
       "      <td>4749</td>\n",
       "      <td>17</td>\n",
       "      <td>3.0</td>\n",
       "      <td>3.0</td>\n",
       "      <td>11</td>\n",
       "      <td>3350</td>\n",
       "      <td>173</td>\n",
       "      <td>40</td>\n",
       "      <td>258</td>\n",
       "      <td>2.53</td>\n",
       "      <td>Domestic</td>\n",
       "    </tr>\n",
       "    <tr>\n",
       "      <th>2</th>\n",
       "      <td>AMC Spirit</td>\n",
       "      <td>3799</td>\n",
       "      <td>22</td>\n",
       "      <td>NaN</td>\n",
       "      <td>3.0</td>\n",
       "      <td>12</td>\n",
       "      <td>2640</td>\n",
       "      <td>168</td>\n",
       "      <td>35</td>\n",
       "      <td>121</td>\n",
       "      <td>3.08</td>\n",
       "      <td>Domestic</td>\n",
       "    </tr>\n",
       "    <tr>\n",
       "      <th>3</th>\n",
       "      <td>Buick Century</td>\n",
       "      <td>4816</td>\n",
       "      <td>20</td>\n",
       "      <td>3.0</td>\n",
       "      <td>4.5</td>\n",
       "      <td>16</td>\n",
       "      <td>3250</td>\n",
       "      <td>196</td>\n",
       "      <td>40</td>\n",
       "      <td>196</td>\n",
       "      <td>2.93</td>\n",
       "      <td>Domestic</td>\n",
       "    </tr>\n",
       "    <tr>\n",
       "      <th>4</th>\n",
       "      <td>Buick Electra</td>\n",
       "      <td>7827</td>\n",
       "      <td>15</td>\n",
       "      <td>4.0</td>\n",
       "      <td>4.0</td>\n",
       "      <td>20</td>\n",
       "      <td>4080</td>\n",
       "      <td>222</td>\n",
       "      <td>43</td>\n",
       "      <td>350</td>\n",
       "      <td>2.41</td>\n",
       "      <td>Domestic</td>\n",
       "    </tr>\n",
       "  </tbody>\n",
       "</table>\n",
       "</div>"
      ],
      "text/plain": [
       "            make  price  mpg  rep78  headroom  trunk  weight  length  turn  \\\n",
       "0    AMC Concord   4099   22    3.0       2.5     11    2930     186    40   \n",
       "1      AMC Pacer   4749   17    3.0       3.0     11    3350     173    40   \n",
       "2     AMC Spirit   3799   22    NaN       3.0     12    2640     168    35   \n",
       "3  Buick Century   4816   20    3.0       4.5     16    3250     196    40   \n",
       "4  Buick Electra   7827   15    4.0       4.0     20    4080     222    43   \n",
       "\n",
       "   displacement  gear_ratio   foreign  \n",
       "0           121        3.58  Domestic  \n",
       "1           258        2.53  Domestic  \n",
       "2           121        3.08  Domestic  \n",
       "3           196        2.93  Domestic  \n",
       "4           350        2.41  Domestic  "
      ]
     },
     "execution_count": 10,
     "metadata": {},
     "output_type": "execute_result"
    }
   ],
   "source": [
    "#Pandas还能导入csv、dta等文件，其方式和读入excel类似：read_csv、read_stata。\n",
    "#以读入stata中auto数据集为例：\n",
    "path2=r'C:\\Users\\DELL\\auto.dta'\n",
    "auto=pd.read_stata(path2)\n",
    "auto.head()   #展示前五行"
   ]
  },
  {
   "cell_type": "code",
   "execution_count": 12,
   "metadata": {},
   "outputs": [
    {
     "data": {
      "text/plain": [
       "4099"
      ]
     },
     "execution_count": 12,
     "metadata": {},
     "output_type": "execute_result"
    }
   ],
   "source": [
    "auto[\"price\"][0]"
   ]
  },
  {
   "cell_type": "code",
   "execution_count": 11,
   "metadata": {},
   "outputs": [
    {
     "data": {
      "text/html": [
       "<div>\n",
       "<style scoped>\n",
       "    .dataframe tbody tr th:only-of-type {\n",
       "        vertical-align: middle;\n",
       "    }\n",
       "\n",
       "    .dataframe tbody tr th {\n",
       "        vertical-align: top;\n",
       "    }\n",
       "\n",
       "    .dataframe thead th {\n",
       "        text-align: right;\n",
       "    }\n",
       "</style>\n",
       "<table border=\"1\" class=\"dataframe\">\n",
       "  <thead>\n",
       "    <tr style=\"text-align: right;\">\n",
       "      <th></th>\n",
       "      <th>price</th>\n",
       "      <th>make</th>\n",
       "    </tr>\n",
       "  </thead>\n",
       "  <tbody>\n",
       "    <tr>\n",
       "      <th>1</th>\n",
       "      <td>4749</td>\n",
       "      <td>AMC Pacer</td>\n",
       "    </tr>\n",
       "    <tr>\n",
       "      <th>5</th>\n",
       "      <td>5788</td>\n",
       "      <td>Buick LeSabre</td>\n",
       "    </tr>\n",
       "  </tbody>\n",
       "</table>\n",
       "</div>"
      ],
      "text/plain": [
       "   price           make\n",
       "1   4749      AMC Pacer\n",
       "5   5788  Buick LeSabre"
      ]
     },
     "execution_count": 11,
     "metadata": {},
     "output_type": "execute_result"
    }
   ],
   "source": [
    "#想访问行索引为1、5的make和price的情况：\n",
    "auto.loc[[1,5],['price','make']]   #按索引\n",
    "auto.iloc[[1,5],[1,0]]   #按整数位置"
   ]
  },
  {
   "cell_type": "code",
   "execution_count": 13,
   "metadata": {},
   "outputs": [
    {
     "data": {
      "text/html": [
       "<div>\n",
       "<style scoped>\n",
       "    .dataframe tbody tr th:only-of-type {\n",
       "        vertical-align: middle;\n",
       "    }\n",
       "\n",
       "    .dataframe tbody tr th {\n",
       "        vertical-align: top;\n",
       "    }\n",
       "\n",
       "    .dataframe thead th {\n",
       "        text-align: right;\n",
       "    }\n",
       "</style>\n",
       "<table border=\"1\" class=\"dataframe\">\n",
       "  <thead>\n",
       "    <tr style=\"text-align: right;\">\n",
       "      <th></th>\n",
       "      <th>make</th>\n",
       "      <th>price</th>\n",
       "      <th>mpg</th>\n",
       "      <th>rep78</th>\n",
       "    </tr>\n",
       "  </thead>\n",
       "  <tbody>\n",
       "    <tr>\n",
       "      <th>0</th>\n",
       "      <td>AMC Concord</td>\n",
       "      <td>4099</td>\n",
       "      <td>22</td>\n",
       "      <td>3.0</td>\n",
       "    </tr>\n",
       "    <tr>\n",
       "      <th>1</th>\n",
       "      <td>AMC Pacer</td>\n",
       "      <td>4749</td>\n",
       "      <td>17</td>\n",
       "      <td>3.0</td>\n",
       "    </tr>\n",
       "    <tr>\n",
       "      <th>2</th>\n",
       "      <td>AMC Spirit</td>\n",
       "      <td>3799</td>\n",
       "      <td>22</td>\n",
       "      <td>NaN</td>\n",
       "    </tr>\n",
       "    <tr>\n",
       "      <th>3</th>\n",
       "      <td>Buick Century</td>\n",
       "      <td>4816</td>\n",
       "      <td>20</td>\n",
       "      <td>3.0</td>\n",
       "    </tr>\n",
       "    <tr>\n",
       "      <th>4</th>\n",
       "      <td>Buick Electra</td>\n",
       "      <td>7827</td>\n",
       "      <td>15</td>\n",
       "      <td>4.0</td>\n",
       "    </tr>\n",
       "    <tr>\n",
       "      <th>5</th>\n",
       "      <td>Buick LeSabre</td>\n",
       "      <td>5788</td>\n",
       "      <td>18</td>\n",
       "      <td>3.0</td>\n",
       "    </tr>\n",
       "  </tbody>\n",
       "</table>\n",
       "</div>"
      ],
      "text/plain": [
       "            make  price  mpg  rep78\n",
       "0    AMC Concord   4099   22    3.0\n",
       "1      AMC Pacer   4749   17    3.0\n",
       "2     AMC Spirit   3799   22    NaN\n",
       "3  Buick Century   4816   20    3.0\n",
       "4  Buick Electra   7827   15    4.0\n",
       "5  Buick LeSabre   5788   18    3.0"
      ]
     },
     "execution_count": 13,
     "metadata": {},
     "output_type": "execute_result"
    }
   ],
   "source": [
    "#stata自带的一组1978年汽车数据的一个变量\n",
    "#反映了1978年美国不同品牌汽车的交易记录：\n",
    "#品牌（make）、价格（price）、里程数（mpg）、维修记录（rep78）、净空（headroom）、\n",
    "#行李箱容积（trunk）、空车质量（weight）、车长（length）、发动机排量（displacement）、\n",
    "#齿数比（gear_ratio）等\n",
    "#MPG是MILE PER GALLON=每加伦汽油能距的英里数\n",
    "#loc和iloc函数还能使用切片的方式来选择范围\n",
    "auto.loc[0:5,'make':'rep78']   #按照索引的名称\n",
    "auto.iloc[0:6,0:4]   #按位置 #按照整数位置\n",
    "#auto[[\"make\",\"price\",\"rep78\"]][0:6]\n",
    "#数据修改 auto=auto.loc[0:5,'make':'rep78']"
   ]
  },
  {
   "cell_type": "code",
   "execution_count": 15,
   "metadata": {},
   "outputs": [
    {
     "data": {
      "text/html": [
       "<div>\n",
       "<style scoped>\n",
       "    .dataframe tbody tr th:only-of-type {\n",
       "        vertical-align: middle;\n",
       "    }\n",
       "\n",
       "    .dataframe tbody tr th {\n",
       "        vertical-align: top;\n",
       "    }\n",
       "\n",
       "    .dataframe thead th {\n",
       "        text-align: right;\n",
       "    }\n",
       "</style>\n",
       "<table border=\"1\" class=\"dataframe\">\n",
       "  <thead>\n",
       "    <tr style=\"text-align: right;\">\n",
       "      <th></th>\n",
       "      <th>make</th>\n",
       "      <th>price</th>\n",
       "      <th>mpg</th>\n",
       "      <th>rep78</th>\n",
       "      <th>headroom</th>\n",
       "      <th>trunk</th>\n",
       "      <th>weight</th>\n",
       "      <th>length</th>\n",
       "      <th>turn</th>\n",
       "      <th>displacement</th>\n",
       "      <th>gear_ratio</th>\n",
       "      <th>foreign</th>\n",
       "    </tr>\n",
       "  </thead>\n",
       "  <tbody>\n",
       "    <tr>\n",
       "      <th>11</th>\n",
       "      <td>Cad. Eldorado</td>\n",
       "      <td>14500</td>\n",
       "      <td>14</td>\n",
       "      <td>2.0</td>\n",
       "      <td>3.5</td>\n",
       "      <td>16</td>\n",
       "      <td>3900</td>\n",
       "      <td>204</td>\n",
       "      <td>43</td>\n",
       "      <td>350</td>\n",
       "      <td>2.19</td>\n",
       "      <td>Domestic</td>\n",
       "    </tr>\n",
       "    <tr>\n",
       "      <th>12</th>\n",
       "      <td>Cad. Seville</td>\n",
       "      <td>15906</td>\n",
       "      <td>21</td>\n",
       "      <td>3.0</td>\n",
       "      <td>3.0</td>\n",
       "      <td>13</td>\n",
       "      <td>4290</td>\n",
       "      <td>204</td>\n",
       "      <td>45</td>\n",
       "      <td>350</td>\n",
       "      <td>2.24</td>\n",
       "      <td>Domestic</td>\n",
       "    </tr>\n",
       "  </tbody>\n",
       "</table>\n",
       "</div>"
      ],
      "text/plain": [
       "             make  price  mpg  rep78  headroom  trunk  weight  length  turn  \\\n",
       "11  Cad. Eldorado  14500   14    2.0       3.5     16    3900     204    43   \n",
       "12   Cad. Seville  15906   21    3.0       3.0     13    4290     204    45   \n",
       "\n",
       "    displacement  gear_ratio   foreign  \n",
       "11           350        2.19  Domestic  \n",
       "12           350        2.24  Domestic  "
      ]
     },
     "execution_count": 15,
     "metadata": {},
     "output_type": "execute_result"
    }
   ],
   "source": [
    "#想查询价格大于14000的车型\n",
    "select1=auto.price>=14000\n",
    "auto.loc[select1]"
   ]
  },
  {
   "cell_type": "code",
   "execution_count": 16,
   "metadata": {},
   "outputs": [
    {
     "data": {
      "text/html": [
       "<div>\n",
       "<style scoped>\n",
       "    .dataframe tbody tr th:only-of-type {\n",
       "        vertical-align: middle;\n",
       "    }\n",
       "\n",
       "    .dataframe tbody tr th {\n",
       "        vertical-align: top;\n",
       "    }\n",
       "\n",
       "    .dataframe thead th {\n",
       "        text-align: right;\n",
       "    }\n",
       "</style>\n",
       "<table border=\"1\" class=\"dataframe\">\n",
       "  <thead>\n",
       "    <tr style=\"text-align: right;\">\n",
       "      <th></th>\n",
       "      <th>make</th>\n",
       "      <th>price</th>\n",
       "      <th>foreign</th>\n",
       "    </tr>\n",
       "  </thead>\n",
       "  <tbody>\n",
       "    <tr>\n",
       "      <th>63</th>\n",
       "      <td>Peugeot 604</td>\n",
       "      <td>12990</td>\n",
       "      <td>Foreign</td>\n",
       "    </tr>\n",
       "    <tr>\n",
       "      <th>73</th>\n",
       "      <td>Volvo 260</td>\n",
       "      <td>11995</td>\n",
       "      <td>Foreign</td>\n",
       "    </tr>\n",
       "  </tbody>\n",
       "</table>\n",
       "</div>"
      ],
      "text/plain": [
       "           make  price  foreign\n",
       "63  Peugeot 604  12990  Foreign\n",
       "73    Volvo 260  11995  Foreign"
      ]
     },
     "execution_count": 16,
     "metadata": {},
     "output_type": "execute_result"
    }
   ],
   "source": [
    "#价格大于10000的外国车，并只需要品牌、价格、是否国产三个信息\n",
    "select2=(auto.price>=10000)&(auto.foreign==\"Foreign\")\n",
    "auto.loc[select2,[\"make\",\"price\",\"foreign\"]]\n",
    "#auto[(auto.price>=10000)&(auto.foreign==\"Foreign\")][[\"make\",\"price\",\"foreign\"]]"
   ]
  },
  {
   "cell_type": "code",
   "execution_count": 17,
   "metadata": {},
   "outputs": [
    {
     "data": {
      "text/html": [
       "<div>\n",
       "<style scoped>\n",
       "    .dataframe tbody tr th:only-of-type {\n",
       "        vertical-align: middle;\n",
       "    }\n",
       "\n",
       "    .dataframe tbody tr th {\n",
       "        vertical-align: top;\n",
       "    }\n",
       "\n",
       "    .dataframe thead th {\n",
       "        text-align: right;\n",
       "    }\n",
       "</style>\n",
       "<table border=\"1\" class=\"dataframe\">\n",
       "  <thead>\n",
       "    <tr style=\"text-align: right;\">\n",
       "      <th></th>\n",
       "      <th>make</th>\n",
       "      <th>mpg</th>\n",
       "    </tr>\n",
       "  </thead>\n",
       "  <tbody>\n",
       "    <tr>\n",
       "      <th>3</th>\n",
       "      <td>Buick Century</td>\n",
       "      <td>20</td>\n",
       "    </tr>\n",
       "    <tr>\n",
       "      <th>5</th>\n",
       "      <td>Buick LeSabre</td>\n",
       "      <td>18</td>\n",
       "    </tr>\n",
       "    <tr>\n",
       "      <th>7</th>\n",
       "      <td>Buick Regal</td>\n",
       "      <td>20</td>\n",
       "    </tr>\n",
       "    <tr>\n",
       "      <th>9</th>\n",
       "      <td>Buick Skylark</td>\n",
       "      <td>19</td>\n",
       "    </tr>\n",
       "    <tr>\n",
       "      <th>18</th>\n",
       "      <td>Chev. Nova</td>\n",
       "      <td>19</td>\n",
       "    </tr>\n",
       "    <tr>\n",
       "      <th>20</th>\n",
       "      <td>Dodge Diplomat</td>\n",
       "      <td>18</td>\n",
       "    </tr>\n",
       "    <tr>\n",
       "      <th>31</th>\n",
       "      <td>Merc. Monarch</td>\n",
       "      <td>18</td>\n",
       "    </tr>\n",
       "    <tr>\n",
       "      <th>33</th>\n",
       "      <td>Merc. Zephyr</td>\n",
       "      <td>20</td>\n",
       "    </tr>\n",
       "    <tr>\n",
       "      <th>35</th>\n",
       "      <td>Olds Cutl Supr</td>\n",
       "      <td>19</td>\n",
       "    </tr>\n",
       "    <tr>\n",
       "      <th>36</th>\n",
       "      <td>Olds Cutlass</td>\n",
       "      <td>19</td>\n",
       "    </tr>\n",
       "    <tr>\n",
       "      <th>37</th>\n",
       "      <td>Olds Delta 88</td>\n",
       "      <td>18</td>\n",
       "    </tr>\n",
       "    <tr>\n",
       "      <th>38</th>\n",
       "      <td>Olds Omega</td>\n",
       "      <td>19</td>\n",
       "    </tr>\n",
       "    <tr>\n",
       "      <th>45</th>\n",
       "      <td>Plym. Volare</td>\n",
       "      <td>18</td>\n",
       "    </tr>\n",
       "    <tr>\n",
       "      <th>46</th>\n",
       "      <td>Pont. Catalina</td>\n",
       "      <td>18</td>\n",
       "    </tr>\n",
       "    <tr>\n",
       "      <th>47</th>\n",
       "      <td>Pont. Firebird</td>\n",
       "      <td>18</td>\n",
       "    </tr>\n",
       "    <tr>\n",
       "      <th>48</th>\n",
       "      <td>Pont. Grand Prix</td>\n",
       "      <td>19</td>\n",
       "    </tr>\n",
       "    <tr>\n",
       "      <th>49</th>\n",
       "      <td>Pont. Le Mans</td>\n",
       "      <td>19</td>\n",
       "    </tr>\n",
       "    <tr>\n",
       "      <th>50</th>\n",
       "      <td>Pont. Phoenix</td>\n",
       "      <td>19</td>\n",
       "    </tr>\n",
       "    <tr>\n",
       "      <th>66</th>\n",
       "      <td>Toyota Celica</td>\n",
       "      <td>18</td>\n",
       "    </tr>\n",
       "    <tr>\n",
       "      <th>68</th>\n",
       "      <td>Toyota Corona</td>\n",
       "      <td>18</td>\n",
       "    </tr>\n",
       "  </tbody>\n",
       "</table>\n",
       "</div>"
      ],
      "text/plain": [
       "                make  mpg\n",
       "3      Buick Century   20\n",
       "5      Buick LeSabre   18\n",
       "7        Buick Regal   20\n",
       "9      Buick Skylark   19\n",
       "18        Chev. Nova   19\n",
       "20    Dodge Diplomat   18\n",
       "31     Merc. Monarch   18\n",
       "33      Merc. Zephyr   20\n",
       "35    Olds Cutl Supr   19\n",
       "36      Olds Cutlass   19\n",
       "37     Olds Delta 88   18\n",
       "38        Olds Omega   19\n",
       "45      Plym. Volare   18\n",
       "46    Pont. Catalina   18\n",
       "47    Pont. Firebird   18\n",
       "48  Pont. Grand Prix   19\n",
       "49     Pont. Le Mans   19\n",
       "50     Pont. Phoenix   19\n",
       "66     Toyota Celica   18\n",
       "68     Toyota Corona   18"
      ]
     },
     "execution_count": 17,
     "metadata": {},
     "output_type": "execute_result"
    }
   ],
   "source": [
    "#想要挑选mpg等于18、19、20的观测要怎么处理呢？\n",
    "#一个相对简单直接的方法是\n",
    "#设定auto.”price”==18| auto.”price”==19| auto.”price”==20，\n",
    "#但如果条件很多就看起来很繁琐。可以使用函数DataFrame.isin()，\n",
    "#括号内可以添加列表，用以判断DataFame中元素是否在列表中，也可以对series使用\n",
    "select3=auto.loc[:,\"mpg\"].isin([18,19,20])\n",
    "#这样select3就是一个布尔型序列，用以判断每行的mpg是否等于每行的值，\n",
    "#然后就可以使用loc()函数将值提取出来：\n",
    "auto.loc[select3,[\"make\",\"mpg\"]]\n"
   ]
  }
 ],
 "metadata": {
  "kernelspec": {
   "display_name": "Python 3 (ipykernel)",
   "language": "python",
   "name": "python3"
  },
  "language_info": {
   "codemirror_mode": {
    "name": "ipython",
    "version": 3
   },
   "file_extension": ".py",
   "mimetype": "text/x-python",
   "name": "python",
   "nbconvert_exporter": "python",
   "pygments_lexer": "ipython3",
   "version": "3.10.7"
  }
 },
 "nbformat": 4,
 "nbformat_minor": 2
}
