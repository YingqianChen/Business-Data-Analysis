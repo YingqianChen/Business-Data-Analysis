{
 "cells": [
  {
   "cell_type": "code",
   "execution_count": 2,
   "metadata": {},
   "outputs": [
    {
     "name": "stdout",
     "output_type": "stream",
     "text": [
      "你好Python\n"
     ]
    }
   ],
   "source": [
    "string0920 = \"你好Python\"\n",
    "\n",
    "print(string0920)"
   ]
  },
  {
   "cell_type": "code",
   "execution_count": 11,
   "metadata": {},
   "outputs": [
    {
     "name": "stdout",
     "output_type": "stream",
     "text": [
      "你好Python\n"
     ]
    }
   ],
   "source": [
    "string0921 = '你好Python'\n",
    "\n",
    "print(string0921)"
   ]
  },
  {
   "cell_type": "code",
   "execution_count": 3,
   "metadata": {},
   "outputs": [
    {
     "name": "stdout",
     "output_type": "stream",
     "text": [
      "你\n"
     ]
    }
   ],
   "source": [
    "print(string0920[0])"
   ]
  },
  {
   "cell_type": "code",
   "execution_count": 4,
   "metadata": {},
   "outputs": [
    {
     "name": "stdout",
     "output_type": "stream",
     "text": [
      "P\n"
     ]
    }
   ],
   "source": [
    "print(string0920[2])"
   ]
  },
  {
   "cell_type": "code",
   "execution_count": 6,
   "metadata": {},
   "outputs": [
    {
     "name": "stdout",
     "output_type": "stream",
     "text": [
      "Python\n"
     ]
    }
   ],
   "source": [
    "print(string0920[2:8])"
   ]
  },
  {
   "cell_type": "code",
   "execution_count": 7,
   "metadata": {},
   "outputs": [
    {
     "name": "stdout",
     "output_type": "stream",
     "text": [
      "Python\n"
     ]
    }
   ],
   "source": [
    "print(string0920[2:])"
   ]
  },
  {
   "cell_type": "code",
   "execution_count": 8,
   "metadata": {},
   "outputs": [
    {
     "name": "stdout",
     "output_type": "stream",
     "text": [
      "你好\n"
     ]
    }
   ],
   "source": [
    "print(string0920[:2])"
   ]
  },
  {
   "cell_type": "code",
   "execution_count": 9,
   "metadata": {},
   "outputs": [
    {
     "name": "stdout",
     "output_type": "stream",
     "text": [
      "你好Pyth\n"
     ]
    }
   ],
   "source": [
    "print(string0920[:-2])"
   ]
  },
  {
   "cell_type": "code",
   "execution_count": 10,
   "metadata": {},
   "outputs": [
    {
     "name": "stdout",
     "output_type": "stream",
     "text": [
      "Pyth\n"
     ]
    }
   ],
   "source": [
    "print(string0920[2:-2])"
   ]
  },
  {
   "cell_type": "code",
   "execution_count": 12,
   "metadata": {},
   "outputs": [
    {
     "name": "stdout",
     "output_type": "stream",
     "text": [
      "['600000', '浦发银行', 11.52, 11.54, 11.61, 11.4]\n"
     ]
    }
   ],
   "source": [
    "stock_name = ['600000','浦发银行']\n",
    "stock_price = [11.52, 11.54, 11.61, 11.40]\n",
    "\n",
    "stock_info = stock_name + stock_price\n",
    "print(stock_info)"
   ]
  },
  {
   "cell_type": "code",
   "execution_count": 16,
   "metadata": {},
   "outputs": [
    {
     "name": "stdout",
     "output_type": "stream",
     "text": [
      "['600000', 11.52, 11.54, 11.61, 11.4]\n"
     ]
    }
   ],
   "source": [
    "del stock_info[1]\n",
    "print(stock_info)"
   ]
  },
  {
   "cell_type": "code",
   "execution_count": 21,
   "metadata": {},
   "outputs": [
    {
     "name": "stdout",
     "output_type": "stream",
     "text": [
      "['666666', 11.52, 11.54, 11.61, 11.4]\n"
     ]
    }
   ],
   "source": [
    "stock_info[0]='666666'\n",
    "print(stock_info)"
   ]
  },
  {
   "cell_type": "code",
   "execution_count": 13,
   "metadata": {},
   "outputs": [
    {
     "name": "stdout",
     "output_type": "stream",
     "text": [
      "['600000', '浦发银行', '600000', '浦发银行', '600000', '浦发银行']\n"
     ]
    }
   ],
   "source": [
    "print(['600000', '浦发银行'] * 3)"
   ]
  },
  {
   "cell_type": "code",
   "execution_count": 14,
   "metadata": {},
   "outputs": [
    {
     "data": {
      "text/plain": [
       "True"
      ]
     },
     "execution_count": 14,
     "metadata": {},
     "output_type": "execute_result"
    }
   ],
   "source": [
    "email_subject = '<广告> 休息一下，看看有没有感兴趣的产品'\n",
    "'<广告>' in email_subject\n"
   ]
  },
  {
   "cell_type": "code",
   "execution_count": 18,
   "metadata": {},
   "outputs": [
    {
     "name": "stdout",
     "output_type": "stream",
     "text": [
      "('浦发银行', '招商银行', '保利地产', '平安银行')\n"
     ]
    }
   ],
   "source": [
    "bank_name=('浦发银行', '招商银行', '保利地产', '平安银行')\n",
    "print(bank_name)"
   ]
  },
  {
   "cell_type": "code",
   "execution_count": 22,
   "metadata": {},
   "outputs": [
    {
     "name": "stdout",
     "output_type": "stream",
     "text": [
      "招商银行\n"
     ]
    }
   ],
   "source": [
    "print(bank_name[1])"
   ]
  },
  {
   "cell_type": "code",
   "execution_count": 23,
   "metadata": {},
   "outputs": [
    {
     "name": "stdout",
     "output_type": "stream",
     "text": [
      "('招商银行', '保利地产')\n"
     ]
    }
   ],
   "source": [
    "print(bank_name[1:-1])"
   ]
  },
  {
   "cell_type": "code",
   "execution_count": 19,
   "metadata": {
    "scrolled": true
   },
   "outputs": [
    {
     "ename": "TypeError",
     "evalue": "'tuple' object does not support item assignment",
     "output_type": "error",
     "traceback": [
      "\u001b[1;31m---------------------------------------------------------------------------\u001b[0m",
      "\u001b[1;31mTypeError\u001b[0m                                 Traceback (most recent call last)",
      "\u001b[1;32m<ipython-input-19-10c2e9543a3d>\u001b[0m in \u001b[0;36m<module>\u001b[1;34m\u001b[0m\n\u001b[1;32m----> 1\u001b[1;33m \u001b[0mbank_name\u001b[0m\u001b[1;33m[\u001b[0m\u001b[1;36m1\u001b[0m\u001b[1;33m]\u001b[0m \u001b[1;33m=\u001b[0m \u001b[1;34m'农业银行'\u001b[0m\u001b[1;33m\u001b[0m\u001b[1;33m\u001b[0m\u001b[0m\n\u001b[0m",
      "\u001b[1;31mTypeError\u001b[0m: 'tuple' object does not support item assignment"
     ]
    }
   ],
   "source": [
    "bank_name[1] = '农业银行'\n"
   ]
  },
  {
   "cell_type": "code",
   "execution_count": 24,
   "metadata": {},
   "outputs": [
    {
     "name": "stdout",
     "output_type": "stream",
     "text": [
      "(['活期存款', 0.003], ['整存整取一年', 0.0195], ['整存整取二年', 0.024], ['整存整取三年', 0.028])\n"
     ]
    }
   ],
   "source": [
    "rate_info = (['活期存款',0.0030],['整存整取一年',0.0195],\n",
    "             ['整存整取二年',0.0240],['整存整取三年',0.0280])\n",
    "\n",
    "print(rate_info)\n"
   ]
  },
  {
   "cell_type": "code",
   "execution_count": 25,
   "metadata": {},
   "outputs": [
    {
     "name": "stdout",
     "output_type": "stream",
     "text": [
      "(['活期存款', 0.003], ['整存整取一年', 0.02], ['整存整取二年', 0.024], ['整存整取三年', 0.028])\n"
     ]
    }
   ],
   "source": [
    "rate_info[1][1] = 0.0200\n",
    "print(rate_info)"
   ]
  },
  {
   "cell_type": "code",
   "execution_count": 1,
   "metadata": {},
   "outputs": [
    {
     "name": "stdout",
     "output_type": "stream",
     "text": [
      "请输入商品价格：-2\n",
      "输入价格有误，已更正为 0 元 \n",
      "商品价格是：0.00 元 \n"
     ]
    }
   ],
   "source": [
    "price = float(input('请输入商品价格：'))\n",
    "\n",
    "if price < 0:\n",
    "   price = 0 \n",
    "   print('输入价格有误，已更正为 0 元 ') \n",
    "\n",
    "print('商品价格是：{:.2f} 元 '.format(price))\n"
   ]
  },
  {
   "cell_type": "code",
   "execution_count": 2,
   "metadata": {},
   "outputs": [
    {
     "data": {
      "text/plain": [
       "int"
      ]
     },
     "execution_count": 2,
     "metadata": {},
     "output_type": "execute_result"
    }
   ],
   "source": [
    "type(price)"
   ]
  },
  {
   "cell_type": "code",
   "execution_count": 3,
   "metadata": {
    "scrolled": true
   },
   "outputs": [
    {
     "name": "stdout",
     "output_type": "stream",
     "text": [
      "0\n"
     ]
    }
   ],
   "source": [
    "print(price)"
   ]
  },
  {
   "cell_type": "code",
   "execution_count": 1,
   "metadata": {},
   "outputs": [
    {
     "name": "stdout",
     "output_type": "stream",
     "text": [
      "请输入商品价格：25.07\n",
      "商品价格是：25.07 元 \n"
     ]
    }
   ],
   "source": [
    "price1 = float(input('请输入商品价格：'))\n",
    "\n",
    "if price1 < 0:\n",
    "   price1 = 0 \n",
    "   print('输入价格有误，已更正为 0 元 ') \n",
    "\n",
    "print('商品价格是：{:.2f} 元 '.format(price1))"
   ]
  },
  {
   "cell_type": "code",
   "execution_count": 2,
   "metadata": {},
   "outputs": [
    {
     "name": "stdout",
     "output_type": "stream",
     "text": [
      "25.07\n"
     ]
    }
   ],
   "source": [
    "print(price1)"
   ]
  },
  {
   "cell_type": "code",
   "execution_count": 3,
   "metadata": {},
   "outputs": [
    {
     "name": "stdout",
     "output_type": "stream",
     "text": [
      "25.07\n"
     ]
    }
   ],
   "source": [
    "strprice=str(price1)\n",
    "print(strprice)"
   ]
  },
  {
   "cell_type": "code",
   "execution_count": null,
   "metadata": {},
   "outputs": [],
   "source": []
  }
 ],
 "metadata": {
  "kernelspec": {
   "display_name": "Python 3",
   "language": "python",
   "name": "python3"
  },
  "language_info": {
   "codemirror_mode": {
    "name": "ipython",
    "version": 3
   },
   "file_extension": ".py",
   "mimetype": "text/x-python",
   "name": "python",
   "nbconvert_exporter": "python",
   "pygments_lexer": "ipython3",
   "version": "3.8.3"
  }
 },
 "nbformat": 4,
 "nbformat_minor": 5
}
